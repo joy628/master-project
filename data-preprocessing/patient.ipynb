{
 "cells": [
  {
   "cell_type": "code",
   "execution_count": 11,
   "metadata": {},
   "outputs": [],
   "source": [
    "import numpy as np\n",
    "import pandas as pd\n",
    "import matplotlib.pyplot as plt\n",
    "import seaborn as sns\n",
    "from natsort import natsorted \n",
    "from scipy import stats\n",
    "\n",
    "%matplotlib inline"
   ]
  },
  {
   "cell_type": "code",
   "execution_count": 2,
   "metadata": {},
   "outputs": [],
   "source": [
    "datadir = '/home/mei/nas/docker/dataset/EICU/eicu-collaborative-research-database-2.0/'\n",
    "porcesseddir = '/home/mei/nas/docker/processedData/'"
   ]
  },
  {
   "cell_type": "code",
   "execution_count": 32,
   "metadata": {},
   "outputs": [],
   "source": [
    "def round_up(x, base=5):\n",
    "    return base * round(x/base)"
   ]
  },
  {
   "cell_type": "code",
   "execution_count": 53,
   "metadata": {},
   "outputs": [],
   "source": [
    "df = pd.read_csv(datadir + 'patient.csv.gz', compression='gzip')"
   ]
  },
  {
   "cell_type": "code",
   "execution_count": 61,
   "metadata": {},
   "outputs": [
    {
     "data": {
      "text/html": [
       "<div>\n",
       "<style scoped>\n",
       "    .dataframe tbody tr th:only-of-type {\n",
       "        vertical-align: middle;\n",
       "    }\n",
       "\n",
       "    .dataframe tbody tr th {\n",
       "        vertical-align: top;\n",
       "    }\n",
       "\n",
       "    .dataframe thead th {\n",
       "        text-align: right;\n",
       "    }\n",
       "</style>\n",
       "<table border=\"1\" class=\"dataframe\">\n",
       "  <thead>\n",
       "    <tr style=\"text-align: right;\">\n",
       "      <th></th>\n",
       "      <th>patientunitstayid</th>\n",
       "      <th>patienthealthsystemstayid</th>\n",
       "      <th>gender</th>\n",
       "      <th>age</th>\n",
       "      <th>ethnicity</th>\n",
       "      <th>hospitalid</th>\n",
       "      <th>wardid</th>\n",
       "      <th>apacheadmissiondx</th>\n",
       "      <th>admissionheight</th>\n",
       "      <th>hospitaladmittime24</th>\n",
       "      <th>...</th>\n",
       "      <th>unitadmitsource</th>\n",
       "      <th>unitvisitnumber</th>\n",
       "      <th>unitstaytype</th>\n",
       "      <th>admissionweight</th>\n",
       "      <th>dischargeweight</th>\n",
       "      <th>unitdischargetime24</th>\n",
       "      <th>unitdischargeoffset</th>\n",
       "      <th>unitdischargelocation</th>\n",
       "      <th>unitdischargestatus</th>\n",
       "      <th>uniquepid</th>\n",
       "    </tr>\n",
       "  </thead>\n",
       "  <tbody>\n",
       "    <tr>\n",
       "      <th>0</th>\n",
       "      <td>141168</td>\n",
       "      <td>128919</td>\n",
       "      <td>Female</td>\n",
       "      <td>70</td>\n",
       "      <td>Caucasian</td>\n",
       "      <td>59</td>\n",
       "      <td>91</td>\n",
       "      <td>Rhythm disturbance (atrial, supraventricular)</td>\n",
       "      <td>152.4</td>\n",
       "      <td>15:54:00</td>\n",
       "      <td>...</td>\n",
       "      <td>Direct Admit</td>\n",
       "      <td>1</td>\n",
       "      <td>admit</td>\n",
       "      <td>84.3</td>\n",
       "      <td>85.8</td>\n",
       "      <td>03:50:00</td>\n",
       "      <td>3596</td>\n",
       "      <td>Death</td>\n",
       "      <td>Expired</td>\n",
       "      <td>002-34851</td>\n",
       "    </tr>\n",
       "    <tr>\n",
       "      <th>1</th>\n",
       "      <td>141178</td>\n",
       "      <td>128927</td>\n",
       "      <td>Female</td>\n",
       "      <td>52</td>\n",
       "      <td>Caucasian</td>\n",
       "      <td>60</td>\n",
       "      <td>83</td>\n",
       "      <td>NaN</td>\n",
       "      <td>162.6</td>\n",
       "      <td>08:56:00</td>\n",
       "      <td>...</td>\n",
       "      <td>Emergency Department</td>\n",
       "      <td>1</td>\n",
       "      <td>admit</td>\n",
       "      <td>54.4</td>\n",
       "      <td>54.4</td>\n",
       "      <td>09:18:00</td>\n",
       "      <td>8</td>\n",
       "      <td>Step-Down Unit (SDU)</td>\n",
       "      <td>Alive</td>\n",
       "      <td>002-33870</td>\n",
       "    </tr>\n",
       "    <tr>\n",
       "      <th>5</th>\n",
       "      <td>141197</td>\n",
       "      <td>128943</td>\n",
       "      <td>Male</td>\n",
       "      <td>71</td>\n",
       "      <td>Caucasian</td>\n",
       "      <td>67</td>\n",
       "      <td>109</td>\n",
       "      <td>Sepsis, pulmonary</td>\n",
       "      <td>162.6</td>\n",
       "      <td>20:21:00</td>\n",
       "      <td>...</td>\n",
       "      <td>Emergency Department</td>\n",
       "      <td>1</td>\n",
       "      <td>admit</td>\n",
       "      <td>102.1</td>\n",
       "      <td>102.1</td>\n",
       "      <td>22:00:00</td>\n",
       "      <td>74</td>\n",
       "      <td>Step-Down Unit (SDU)</td>\n",
       "      <td>Alive</td>\n",
       "      <td>002-37665</td>\n",
       "    </tr>\n",
       "    <tr>\n",
       "      <th>7</th>\n",
       "      <td>141208</td>\n",
       "      <td>128952</td>\n",
       "      <td>Female</td>\n",
       "      <td>25</td>\n",
       "      <td>Caucasian</td>\n",
       "      <td>73</td>\n",
       "      <td>93</td>\n",
       "      <td>Overdose, sedatives, hypnotics, antipsychotics...</td>\n",
       "      <td>172.7</td>\n",
       "      <td>11:23:00</td>\n",
       "      <td>...</td>\n",
       "      <td>Emergency Department</td>\n",
       "      <td>1</td>\n",
       "      <td>admit</td>\n",
       "      <td>95.3</td>\n",
       "      <td>95.3</td>\n",
       "      <td>23:24:00</td>\n",
       "      <td>720</td>\n",
       "      <td>Home</td>\n",
       "      <td>Alive</td>\n",
       "      <td>002-34521</td>\n",
       "    </tr>\n",
       "    <tr>\n",
       "      <th>9</th>\n",
       "      <td>141229</td>\n",
       "      <td>128970</td>\n",
       "      <td>Female</td>\n",
       "      <td>&gt; 89</td>\n",
       "      <td>Caucasian</td>\n",
       "      <td>63</td>\n",
       "      <td>95</td>\n",
       "      <td>CHF, congestive heart failure</td>\n",
       "      <td>160.0</td>\n",
       "      <td>11:52:00</td>\n",
       "      <td>...</td>\n",
       "      <td>Emergency Department</td>\n",
       "      <td>1</td>\n",
       "      <td>admit</td>\n",
       "      <td>89.8</td>\n",
       "      <td>86.6</td>\n",
       "      <td>14:42:00</td>\n",
       "      <td>166</td>\n",
       "      <td>Floor</td>\n",
       "      <td>Alive</td>\n",
       "      <td>002-54296</td>\n",
       "    </tr>\n",
       "  </tbody>\n",
       "</table>\n",
       "<p>5 rows × 29 columns</p>\n",
       "</div>"
      ],
      "text/plain": [
       "   patientunitstayid  patienthealthsystemstayid  gender   age  ethnicity  \\\n",
       "0             141168                     128919  Female    70  Caucasian   \n",
       "1             141178                     128927  Female    52  Caucasian   \n",
       "5             141197                     128943    Male    71  Caucasian   \n",
       "7             141208                     128952  Female    25  Caucasian   \n",
       "9             141229                     128970  Female  > 89  Caucasian   \n",
       "\n",
       "   hospitalid  wardid                                  apacheadmissiondx  \\\n",
       "0          59      91      Rhythm disturbance (atrial, supraventricular)   \n",
       "1          60      83                                                NaN   \n",
       "5          67     109                                  Sepsis, pulmonary   \n",
       "7          73      93  Overdose, sedatives, hypnotics, antipsychotics...   \n",
       "9          63      95                      CHF, congestive heart failure   \n",
       "\n",
       "   admissionheight hospitaladmittime24  ...       unitadmitsource  \\\n",
       "0            152.4            15:54:00  ...          Direct Admit   \n",
       "1            162.6            08:56:00  ...  Emergency Department   \n",
       "5            162.6            20:21:00  ...  Emergency Department   \n",
       "7            172.7            11:23:00  ...  Emergency Department   \n",
       "9            160.0            11:52:00  ...  Emergency Department   \n",
       "\n",
       "  unitvisitnumber  unitstaytype admissionweight  dischargeweight  \\\n",
       "0               1         admit            84.3             85.8   \n",
       "1               1         admit            54.4             54.4   \n",
       "5               1         admit           102.1            102.1   \n",
       "7               1         admit            95.3             95.3   \n",
       "9               1         admit            89.8             86.6   \n",
       "\n",
       "  unitdischargetime24 unitdischargeoffset unitdischargelocation  \\\n",
       "0            03:50:00                3596                 Death   \n",
       "1            09:18:00                   8  Step-Down Unit (SDU)   \n",
       "5            22:00:00                  74  Step-Down Unit (SDU)   \n",
       "7            23:24:00                 720                  Home   \n",
       "9            14:42:00                 166                 Floor   \n",
       "\n",
       "  unitdischargestatus  uniquepid  \n",
       "0             Expired  002-34851  \n",
       "1               Alive  002-33870  \n",
       "5               Alive  002-37665  \n",
       "7               Alive  002-34521  \n",
       "9               Alive  002-54296  \n",
       "\n",
       "[5 rows x 29 columns]"
      ]
     },
     "execution_count": 61,
     "metadata": {},
     "output_type": "execute_result"
    }
   ],
   "source": [
    "df.head()"
   ]
  },
  {
   "cell_type": "code",
   "execution_count": 55,
   "metadata": {},
   "outputs": [],
   "source": [
    "#selected patients that comes from 'direct and emergency dep.'\n",
    "df = df[df['unitadmitsource'].isin(['Direct Admit', 'Emergency Department'])]\n",
    "\n",
    "# Set indices\n",
    "df_selected = df.set_index(['patientunitstayid'])\n",
    "df_selected.sort_index(level = ['patientunitstayid'], inplace = True)\n",
    "df_selected = df_selected[['hospitaladmitoffset','gender','age','apacheadmissiondx','unitadmitsource','admissionweight','dischargeweight','unitdischargelocation','unitdischargestatus']]\n",
    "# Resample every 5 mins\n",
    "# df_selcted .rename(round_up, level = 'drugoffset', inplace = True)\n"
   ]
  },
  {
   "cell_type": "code",
   "execution_count": 56,
   "metadata": {},
   "outputs": [
    {
     "data": {
      "text/html": [
       "<div>\n",
       "<style scoped>\n",
       "    .dataframe tbody tr th:only-of-type {\n",
       "        vertical-align: middle;\n",
       "    }\n",
       "\n",
       "    .dataframe tbody tr th {\n",
       "        vertical-align: top;\n",
       "    }\n",
       "\n",
       "    .dataframe thead th {\n",
       "        text-align: right;\n",
       "    }\n",
       "</style>\n",
       "<table border=\"1\" class=\"dataframe\">\n",
       "  <thead>\n",
       "    <tr style=\"text-align: right;\">\n",
       "      <th></th>\n",
       "      <th>hospitaladmitoffset</th>\n",
       "      <th>gender</th>\n",
       "      <th>age</th>\n",
       "      <th>apacheadmissiondx</th>\n",
       "      <th>unitadmitsource</th>\n",
       "      <th>admissionweight</th>\n",
       "      <th>dischargeweight</th>\n",
       "      <th>unitdischargelocation</th>\n",
       "      <th>unitdischargestatus</th>\n",
       "    </tr>\n",
       "    <tr>\n",
       "      <th>patientunitstayid</th>\n",
       "      <th></th>\n",
       "      <th></th>\n",
       "      <th></th>\n",
       "      <th></th>\n",
       "      <th></th>\n",
       "      <th></th>\n",
       "      <th></th>\n",
       "      <th></th>\n",
       "      <th></th>\n",
       "    </tr>\n",
       "  </thead>\n",
       "  <tbody>\n",
       "    <tr>\n",
       "      <th>141168</th>\n",
       "      <td>0</td>\n",
       "      <td>Female</td>\n",
       "      <td>70</td>\n",
       "      <td>Rhythm disturbance (atrial, supraventricular)</td>\n",
       "      <td>Direct Admit</td>\n",
       "      <td>84.3</td>\n",
       "      <td>85.8</td>\n",
       "      <td>Death</td>\n",
       "      <td>Expired</td>\n",
       "    </tr>\n",
       "    <tr>\n",
       "      <th>141178</th>\n",
       "      <td>-14</td>\n",
       "      <td>Female</td>\n",
       "      <td>52</td>\n",
       "      <td>NaN</td>\n",
       "      <td>Emergency Department</td>\n",
       "      <td>54.4</td>\n",
       "      <td>54.4</td>\n",
       "      <td>Step-Down Unit (SDU)</td>\n",
       "      <td>Alive</td>\n",
       "    </tr>\n",
       "    <tr>\n",
       "      <th>141197</th>\n",
       "      <td>-25</td>\n",
       "      <td>Male</td>\n",
       "      <td>71</td>\n",
       "      <td>Sepsis, pulmonary</td>\n",
       "      <td>Emergency Department</td>\n",
       "      <td>102.1</td>\n",
       "      <td>102.1</td>\n",
       "      <td>Step-Down Unit (SDU)</td>\n",
       "      <td>Alive</td>\n",
       "    </tr>\n",
       "    <tr>\n",
       "      <th>141208</th>\n",
       "      <td>-1</td>\n",
       "      <td>Female</td>\n",
       "      <td>25</td>\n",
       "      <td>Overdose, sedatives, hypnotics, antipsychotics...</td>\n",
       "      <td>Emergency Department</td>\n",
       "      <td>95.3</td>\n",
       "      <td>95.3</td>\n",
       "      <td>Home</td>\n",
       "      <td>Alive</td>\n",
       "    </tr>\n",
       "    <tr>\n",
       "      <th>141229</th>\n",
       "      <td>-4</td>\n",
       "      <td>Female</td>\n",
       "      <td>&gt; 89</td>\n",
       "      <td>CHF, congestive heart failure</td>\n",
       "      <td>Emergency Department</td>\n",
       "      <td>89.8</td>\n",
       "      <td>86.6</td>\n",
       "      <td>Floor</td>\n",
       "      <td>Alive</td>\n",
       "    </tr>\n",
       "  </tbody>\n",
       "</table>\n",
       "</div>"
      ],
      "text/plain": [
       "                   hospitaladmitoffset  gender   age  \\\n",
       "patientunitstayid                                      \n",
       "141168                               0  Female    70   \n",
       "141178                             -14  Female    52   \n",
       "141197                             -25    Male    71   \n",
       "141208                              -1  Female    25   \n",
       "141229                              -4  Female  > 89   \n",
       "\n",
       "                                                   apacheadmissiondx  \\\n",
       "patientunitstayid                                                      \n",
       "141168                 Rhythm disturbance (atrial, supraventricular)   \n",
       "141178                                                           NaN   \n",
       "141197                                             Sepsis, pulmonary   \n",
       "141208             Overdose, sedatives, hypnotics, antipsychotics...   \n",
       "141229                                 CHF, congestive heart failure   \n",
       "\n",
       "                        unitadmitsource  admissionweight  dischargeweight  \\\n",
       "patientunitstayid                                                           \n",
       "141168                     Direct Admit             84.3             85.8   \n",
       "141178             Emergency Department             54.4             54.4   \n",
       "141197             Emergency Department            102.1            102.1   \n",
       "141208             Emergency Department             95.3             95.3   \n",
       "141229             Emergency Department             89.8             86.6   \n",
       "\n",
       "                  unitdischargelocation unitdischargestatus  \n",
       "patientunitstayid                                            \n",
       "141168                            Death             Expired  \n",
       "141178             Step-Down Unit (SDU)               Alive  \n",
       "141197             Step-Down Unit (SDU)               Alive  \n",
       "141208                             Home               Alive  \n",
       "141229                            Floor               Alive  "
      ]
     },
     "execution_count": 56,
     "metadata": {},
     "output_type": "execute_result"
    }
   ],
   "source": [
    "df_selected.head()"
   ]
  },
  {
   "cell_type": "code",
   "execution_count": 57,
   "metadata": {},
   "outputs": [
    {
     "name": "stdout",
     "output_type": "stream",
     "text": [
      "Data exported successfully to 'selected_patients.csv'.\n"
     ]
    }
   ],
   "source": [
    "# df_selected.to_csv(porcesseddir + 'selected_patients.csv',  index=True)\n",
    "# print(\"Data exported successfully to 'selected_patients.csv'.\")"
   ]
  },
  {
   "cell_type": "code",
   "execution_count": 6,
   "metadata": {},
   "outputs": [],
   "source": [
    "df_selected = pd.read_csv(porcesseddir + 'selected_patients.csv')"
   ]
  },
  {
   "cell_type": "code",
   "execution_count": 7,
   "metadata": {},
   "outputs": [
    {
     "data": {
      "text/html": [
       "<div>\n",
       "<style scoped>\n",
       "    .dataframe tbody tr th:only-of-type {\n",
       "        vertical-align: middle;\n",
       "    }\n",
       "\n",
       "    .dataframe tbody tr th {\n",
       "        vertical-align: top;\n",
       "    }\n",
       "\n",
       "    .dataframe thead th {\n",
       "        text-align: right;\n",
       "    }\n",
       "</style>\n",
       "<table border=\"1\" class=\"dataframe\">\n",
       "  <thead>\n",
       "    <tr style=\"text-align: right;\">\n",
       "      <th></th>\n",
       "      <th>patientunitstayid</th>\n",
       "      <th>hospitaladmitoffset</th>\n",
       "      <th>gender</th>\n",
       "      <th>age</th>\n",
       "      <th>apacheadmissiondx</th>\n",
       "      <th>unitadmitsource</th>\n",
       "      <th>admissionweight</th>\n",
       "      <th>dischargeweight</th>\n",
       "      <th>unitdischargelocation</th>\n",
       "      <th>unitdischargestatus</th>\n",
       "    </tr>\n",
       "  </thead>\n",
       "  <tbody>\n",
       "    <tr>\n",
       "      <th>0</th>\n",
       "      <td>141168</td>\n",
       "      <td>0</td>\n",
       "      <td>Female</td>\n",
       "      <td>70</td>\n",
       "      <td>Rhythm disturbance (atrial, supraventricular)</td>\n",
       "      <td>Direct Admit</td>\n",
       "      <td>84.3</td>\n",
       "      <td>85.8</td>\n",
       "      <td>Death</td>\n",
       "      <td>Expired</td>\n",
       "    </tr>\n",
       "    <tr>\n",
       "      <th>1</th>\n",
       "      <td>141178</td>\n",
       "      <td>-14</td>\n",
       "      <td>Female</td>\n",
       "      <td>52</td>\n",
       "      <td>NaN</td>\n",
       "      <td>Emergency Department</td>\n",
       "      <td>54.4</td>\n",
       "      <td>54.4</td>\n",
       "      <td>Step-Down Unit (SDU)</td>\n",
       "      <td>Alive</td>\n",
       "    </tr>\n",
       "    <tr>\n",
       "      <th>2</th>\n",
       "      <td>141197</td>\n",
       "      <td>-25</td>\n",
       "      <td>Male</td>\n",
       "      <td>71</td>\n",
       "      <td>Sepsis, pulmonary</td>\n",
       "      <td>Emergency Department</td>\n",
       "      <td>102.1</td>\n",
       "      <td>102.1</td>\n",
       "      <td>Step-Down Unit (SDU)</td>\n",
       "      <td>Alive</td>\n",
       "    </tr>\n",
       "    <tr>\n",
       "      <th>3</th>\n",
       "      <td>141208</td>\n",
       "      <td>-1</td>\n",
       "      <td>Female</td>\n",
       "      <td>25</td>\n",
       "      <td>Overdose, sedatives, hypnotics, antipsychotics...</td>\n",
       "      <td>Emergency Department</td>\n",
       "      <td>95.3</td>\n",
       "      <td>95.3</td>\n",
       "      <td>Home</td>\n",
       "      <td>Alive</td>\n",
       "    </tr>\n",
       "    <tr>\n",
       "      <th>4</th>\n",
       "      <td>141229</td>\n",
       "      <td>-4</td>\n",
       "      <td>Female</td>\n",
       "      <td>&gt; 89</td>\n",
       "      <td>CHF, congestive heart failure</td>\n",
       "      <td>Emergency Department</td>\n",
       "      <td>89.8</td>\n",
       "      <td>86.6</td>\n",
       "      <td>Floor</td>\n",
       "      <td>Alive</td>\n",
       "    </tr>\n",
       "  </tbody>\n",
       "</table>\n",
       "</div>"
      ],
      "text/plain": [
       "   patientunitstayid  hospitaladmitoffset  gender   age  \\\n",
       "0             141168                    0  Female    70   \n",
       "1             141178                  -14  Female    52   \n",
       "2             141197                  -25    Male    71   \n",
       "3             141208                   -1  Female    25   \n",
       "4             141229                   -4  Female  > 89   \n",
       "\n",
       "                                   apacheadmissiondx       unitadmitsource  \\\n",
       "0      Rhythm disturbance (atrial, supraventricular)          Direct Admit   \n",
       "1                                                NaN  Emergency Department   \n",
       "2                                  Sepsis, pulmonary  Emergency Department   \n",
       "3  Overdose, sedatives, hypnotics, antipsychotics...  Emergency Department   \n",
       "4                      CHF, congestive heart failure  Emergency Department   \n",
       "\n",
       "   admissionweight  dischargeweight unitdischargelocation unitdischargestatus  \n",
       "0             84.3             85.8                 Death             Expired  \n",
       "1             54.4             54.4  Step-Down Unit (SDU)               Alive  \n",
       "2            102.1            102.1  Step-Down Unit (SDU)               Alive  \n",
       "3             95.3             95.3                  Home               Alive  \n",
       "4             89.8             86.6                 Floor               Alive  "
      ]
     },
     "execution_count": 7,
     "metadata": {},
     "output_type": "execute_result"
    }
   ],
   "source": [
    "df_selected.head()"
   ]
  },
  {
   "cell_type": "code",
   "execution_count": 9,
   "metadata": {},
   "outputs": [
    {
     "name": "stdout",
     "output_type": "stream",
     "text": [
      "There are 102266 unique patientunitstayid in the selected patients with the selected unitadmitsource: emergency and direct.\n"
     ]
    }
   ],
   "source": [
    "# n_selected_patients=len(list(df_selected.index.get_level_values('patientunitstayid').unique()))\n",
    "n_selected_patients=len(df_selected)\n",
    "print(\"There are {} unique patientunitstayid in the selected patients with the selected unitadmitsource: emergency and direct.\".format(n_selected_patients))"
   ]
  },
  {
   "cell_type": "markdown",
   "metadata": {},
   "source": [
    "## age distribution"
   ]
  },
  {
   "cell_type": "code",
   "execution_count": 14,
   "metadata": {},
   "outputs": [],
   "source": [
    "age_distribution = df_selected.groupby('age', dropna = True)['age'].count()\n",
    "labels = natsorted(list(age_distribution.index))\n",
    "labels = [label for label in labels if not 'nan' in str(label)]\n",
    "x = range(len(labels))  \n",
    "ages = dict(zip(x, labels))\n",
    "heights = list([age_distribution[label] for label in labels])"
   ]
  },
  {
   "cell_type": "code",
   "execution_count": 15,
   "metadata": {},
   "outputs": [
    {
     "data": {
      "image/png": "[encoded data removed]",
      "text/plain": [
       "<Figure size 3000x300 with 1 Axes>"
      ]
     },
     "metadata": {},
     "output_type": "display_data"
    }
   ],
   "source": [
    "plt.rcParams[\"figure.figsize\"] = (30,3)\n",
    "plt.bar(x, heights)\n",
    "plt.xticks(x, labels)\n",
    "plt.xlabel('Age')\n",
    "plt.ylabel('Number of Patient Stays')\n",
    "plt.title('Age distribution for patient stays in the ICU')\n",
    "plt.show()"
   ]
  },
  {
   "cell_type": "code",
   "execution_count": 18,
   "metadata": {},
   "outputs": [],
   "source": [
    "ages = list()\n",
    "for i, count in enumerate(heights):\n",
    "    [ages.append(i) for _ in range(count)]"
   ]
  },
  {
   "cell_type": "code",
   "execution_count": 19,
   "metadata": {},
   "outputs": [
    {
     "data": {
      "image/png": "[encoded data removed]",
      "text/plain": [
       "<Figure size 3000x300 with 1 Axes>"
      ]
     },
     "metadata": {},
     "output_type": "display_data"
    }
   ],
   "source": [
    "percentile_90 = np.percentile(ages, 90)\n",
    "percentile_75 = np.percentile(ages, 75)\n",
    "percentile_50 = np.percentile(ages, 50)\n",
    "percentile_25 = np.percentile(ages, 25)\n",
    "\n",
    "score_18 = stats.percentileofscore(ages, 18)\n",
    "score_89 = stats.percentileofscore(ages, 89)\n",
    "\n",
    "plt.bar(x, heights)\n",
    "plt.axvline(x=percentile_90, color = 'violet', label = '90% Area')\n",
    "plt.axvline(x=percentile_75, color = 'red', label = '75% Area')\n",
    "plt.axvline(x=percentile_50, color = 'green', label = '50% Area')\n",
    "plt.axvline(x=percentile_25, color = 'blue', label = '25% Area')\n",
    "plt.axvline(x=18, color = 'orange', label = '{}% Area'.format(round(score_18, 2)))\n",
    "plt.axvline(x=89, color = 'pink', label = '{}% Area'.format(round(score_89, 2)))\n",
    "plt.xticks(x, labels)\n",
    "plt.rcParams[\"figure.figsize\"] = (30,3)\n",
    "plt.xlabel('Age')\n",
    "plt.ylabel('Number of Patient Stays')\n",
    "plt.title('Age distribution for patient stays in the ICU')\n",
    "plt.legend()\n",
    "plt.show()"
   ]
  },
  {
   "cell_type": "markdown",
   "metadata": {},
   "source": [
    "## age distribution for dying patients"
   ]
  },
  {
   "cell_type": "code",
   "execution_count": 20,
   "metadata": {},
   "outputs": [],
   "source": [
    "\n",
    "age_death_distribution = df_selected.groupby(['age', 'unitdischargelocation'], dropna = True)['age'].size().to_frame('NoPatients')\n",
    "age_death_distribution = pd.DataFrame(age_death_distribution)\n",
    "patients_dead = age_death_distribution.loc[pd.IndexSlice[:, 'Death'], :]"
   ]
  },
  {
   "cell_type": "code",
   "execution_count": 21,
   "metadata": {},
   "outputs": [],
   "source": [
    "labels1 = natsorted(list(patients_dead.index.get_level_values('age')))\n",
    "labels1 = [label for label in labels1 if not 'nan' in str(label)]\n",
    "x1 = [x + int(labels1[0]) for x in range(len(labels1))]\n",
    "heights1 = list([patients_dead.loc[pd.IndexSlice[label, 'Death'], :].NoPatients for label in labels1])"
   ]
  },
  {
   "cell_type": "code",
   "execution_count": 22,
   "metadata": {},
   "outputs": [
    {
     "data": {
      "image/png": "[encoded data removed]",
      "text/plain": [
       "<Figure size 3000x300 with 1 Axes>"
      ]
     },
     "metadata": {},
     "output_type": "display_data"
    }
   ],
   "source": [
    "plt.bar(x1, heights1)\n",
    "plt.xticks(x1, labels1)\n",
    "plt.rcParams[\"figure.figsize\"] = (30,3)\n",
    "plt.xlabel('Age')\n",
    "plt.ylabel('Number of Patient Stays')\n",
    "plt.title('Age distribution for patient stays dying in the ICU')\n",
    "plt.show()"
   ]
  },
  {
   "cell_type": "code",
   "execution_count": 25,
   "metadata": {},
   "outputs": [
    {
     "name": "stdout",
     "output_type": "stream",
     "text": [
      "Number of stays with underage patients:  352\n",
      "Number of stays with overage patients:  4116\n"
     ]
    }
   ],
   "source": [
    "min_age = '18'\n",
    "max_age = '89'\n",
    "underage_stays = list(df_selected[df_selected['age'] < min_age]['patientunitstayid'].unique())\n",
    "overage_stays = list(df_selected[df_selected['age'] > max_age]['patientunitstayid'].unique())\n",
    "print('Number of stays with underage patients: ', len(underage_stays))\n",
    "print('Number of stays with overage patients: ', len(overage_stays))"
   ]
  },
  {
   "cell_type": "markdown",
   "metadata": {},
   "source": [
    "## Gender distribution"
   ]
  },
  {
   "cell_type": "code",
   "execution_count": 28,
   "metadata": {},
   "outputs": [
    {
     "data": {
      "text/html": [
       "<div>\n",
       "<style scoped>\n",
       "    .dataframe tbody tr th:only-of-type {\n",
       "        vertical-align: middle;\n",
       "    }\n",
       "\n",
       "    .dataframe tbody tr th {\n",
       "        vertical-align: top;\n",
       "    }\n",
       "\n",
       "    .dataframe thead th {\n",
       "        text-align: right;\n",
       "    }\n",
       "</style>\n",
       "<table border=\"1\" class=\"dataframe\">\n",
       "  <thead>\n",
       "    <tr style=\"text-align: right;\">\n",
       "      <th></th>\n",
       "      <th>NoPatients</th>\n",
       "    </tr>\n",
       "    <tr>\n",
       "      <th>gender</th>\n",
       "      <th></th>\n",
       "    </tr>\n",
       "  </thead>\n",
       "  <tbody>\n",
       "    <tr>\n",
       "      <th>Female</th>\n",
       "      <td>47538</td>\n",
       "    </tr>\n",
       "    <tr>\n",
       "      <th>Male</th>\n",
       "      <td>54644</td>\n",
       "    </tr>\n",
       "    <tr>\n",
       "      <th>Other</th>\n",
       "      <td>7</td>\n",
       "    </tr>\n",
       "    <tr>\n",
       "      <th>Unknown</th>\n",
       "      <td>30</td>\n",
       "    </tr>\n",
       "    <tr>\n",
       "      <th>NaN</th>\n",
       "      <td>47</td>\n",
       "    </tr>\n",
       "  </tbody>\n",
       "</table>\n",
       "</div>"
      ],
      "text/plain": [
       "         NoPatients\n",
       "gender             \n",
       "Female        47538\n",
       "Male          54644\n",
       "Other             7\n",
       "Unknown          30\n",
       "NaN              47"
      ]
     },
     "execution_count": 28,
     "metadata": {},
     "output_type": "execute_result"
    }
   ],
   "source": [
    "gender_distr_nan = df_selected.groupby('gender', dropna = False)['gender'].size().to_frame('NoPatients')\n",
    "gender_distr_nan.head()"
   ]
  },
  {
   "cell_type": "code",
   "execution_count": 29,
   "metadata": {},
   "outputs": [
    {
     "name": "stdout",
     "output_type": "stream",
     "text": [
      "Number of stays without an annotated gender or with gender unknown:  0.082\n"
     ]
    }
   ],
   "source": [
    "\n",
    "total_stays = gender_distr_nan.sum().NoPatients\n",
    "stays_without_gender = gender_distr_nan[(gender_distr_nan.index == 'Other') | (gender_distr_nan.index == 'Unknown') | (gender_distr_nan.index.isnull())].sum().NoPatients\n",
    "percentage = stays_without_gender / total_stays * 100\n",
    "print('Number of stays without an annotated gender or with gender unknown: ', round(percentage,3))"
   ]
  },
  {
   "cell_type": "code",
   "execution_count": 30,
   "metadata": {},
   "outputs": [],
   "source": [
    "female_stays = gender_distr_nan[gender_distr_nan.index == 'Female'].sum()\n",
    "male_stays = gender_distr_nan[gender_distr_nan.index == 'Male'].sum()"
   ]
  },
  {
   "cell_type": "code",
   "execution_count": 33,
   "metadata": {},
   "outputs": [
    {
     "data": {
      "image/png": "[encoded data removed]",
      "text/plain": [
       "<Figure size 500x300 with 1 Axes>"
      ]
     },
     "metadata": {},
     "output_type": "display_data"
    }
   ],
   "source": [
    "plt.rcParams[\"figure.figsize\"] = (5,3)\n",
    "\n",
    "x = ['Female', 'Male']\n",
    "heights = [int(female_stays.iloc[0]), int(male_stays.iloc[0])]\n",
    "plt.bar(x, heights, color = ['pink', 'skyblue'])\n",
    "plt.xlabel('Gender')\n",
    "plt.ylabel('Number of Patient Stays')\n",
    "plt.title('Gender distribution for patient stays in the ICU')\n",
    "plt.show()"
   ]
  },
  {
   "cell_type": "code",
   "execution_count": null,
   "metadata": {},
   "outputs": [],
   "source": []
  },
  {
   "cell_type": "code",
   "execution_count": null,
   "metadata": {},
   "outputs": [],
   "source": []
  },
  {
   "cell_type": "code",
   "execution_count": 1,
   "metadata": {},
   "outputs": [],
   "source": [
    "# Import libraries\n",
    "import numpy as np\n",
    "import pandas as pd\n",
    "import matplotlib.pyplot as plt\n",
    "import psycopg2\n",
    "import getpass\n",
    "import pdvega\n",
    "import seaborn as sns\n",
    "# for configuring connection \n",
    "from configobj import ConfigObj\n",
    "import os\n",
    "\n",
    "%matplotlib inline"
   ]
  },
  {
   "cell_type": "code",
   "execution_count": 2,
   "metadata": {},
   "outputs": [
    {
     "name": "stdout",
     "output_type": "stream",
     "text": [
      "Database: eicu\n",
      "Username: postgres\n"
     ]
    }
   ],
   "source": [
    "# Create a database connection using settings from config file\n",
    "config='../db/config.ini'\n",
    "\n",
    "# connection info\n",
    "conn_info = dict()\n",
    "if os.path.isfile(config):\n",
    "    config = ConfigObj(config)\n",
    "    conn_info[\"sqluser\"] = config['username']\n",
    "    conn_info[\"sqlpass\"] = config['password']\n",
    "    conn_info[\"sqlhost\"] = config['host']\n",
    "    conn_info[\"sqlport\"] = config['port']\n",
    "    conn_info[\"dbname\"] = config['dbname']\n",
    "    conn_info[\"schema_name\"] = config['schema_name']\n",
    "else:\n",
    "    conn_info[\"sqluser\"] = 'postgres'\n",
    "    conn_info[\"sqlpass\"] = ''\n",
    "    conn_info[\"sqlhost\"] = '192.168.60.144'\n",
    "    conn_info[\"sqlport\"] = 6432\n",
    "    conn_info[\"dbname\"] = 'eicu'\n",
    "    conn_info[\"schema_name\"] = 'public,eicu_crd'\n",
    "    \n",
    "# Connect to the eICU database\n",
    "print('Database: {}'.format(conn_info['dbname']))\n",
    "print('Username: {}'.format(conn_info[\"sqluser\"]))\n",
    "if conn_info[\"sqlpass\"] == '':\n",
    "    # try connecting without password, i.e. peer or OS authentication\n",
    "    try:\n",
    "        if (conn_info[\"sqlhost\"] == '192.168.60.144') & (conn_info[\"sqlport\"]=='6432'):\n",
    "            con = psycopg2.connect(dbname=conn_info[\"dbname\"],\n",
    "                                   user=conn_info[\"sqluser\"])            \n",
    "        else:\n",
    "            con = psycopg2.connect(dbname=conn_info[\"dbname\"],\n",
    "                                   host=conn_info[\"sqlhost\"],\n",
    "                                   port=conn_info[\"sqlport\"],\n",
    "                                   user=conn_info[\"sqluser\"])\n",
    "    except:\n",
    "        conn_info[\"sqlpass\"] = getpass.getpass('Password: ')\n",
    "\n",
    "        con = psycopg2.connect(dbname=conn_info[\"dbname\"],\n",
    "                               host=conn_info[\"sqlhost\"],\n",
    "                               port=conn_info[\"sqlport\"],\n",
    "                               user=conn_info[\"sqluser\"],\n",
    "                               password=conn_info[\"sqlpass\"])\n",
    "query_schema = 'set search_path to ' + conn_info['schema_name'] + ';'"
   ]
  },
  {
   "cell_type": "code",
   "execution_count": 3,
   "metadata": {},
   "outputs": [],
   "source": [
    "from sqlalchemy import create_engine\n",
    "con= create_engine('postgresql://eicu@192.168.60.144:6432/eicu')"
   ]
  },
  {
   "cell_type": "code",
   "execution_count": 4,
   "metadata": {},
   "outputs": [
    {
     "name": "stdout",
     "output_type": "stream",
     "text": [
      "There are 200859 patients in the icu record.\n"
     ]
    }
   ],
   "source": [
    "query = query_schema + \"\"\"\n",
    "select  *\n",
    "from patient\n",
    "\"\"\"\n",
    "df_total = pd.read_sql_query(query, con)\n",
    "\n",
    "n_patient_icu = df_total['patientunitstayid'].nunique()\n",
    "print(\"There are {} patients in the icu record.\".format(n_patient_icu))\n"
   ]
  },
  {
   "cell_type": "markdown",
   "metadata": {},
   "source": [
    "### count the number of times that each patient into the ICU "
   ]
  },
  {
   "cell_type": "code",
   "execution_count": 6,
   "metadata": {},
   "outputs": [
    {
     "data": {
      "text/html": [
       "<div>\n",
       "<style scoped>\n",
       "    .dataframe tbody tr th:only-of-type {\n",
       "        vertical-align: middle;\n",
       "    }\n",
       "\n",
       "    .dataframe tbody tr th {\n",
       "        vertical-align: top;\n",
       "    }\n",
       "\n",
       "    .dataframe thead th {\n",
       "        text-align: right;\n",
       "    }\n",
       "</style>\n",
       "<table border=\"1\" class=\"dataframe\">\n",
       "  <thead>\n",
       "    <tr style=\"text-align: right;\">\n",
       "      <th></th>\n",
       "      <th>frequency_category</th>\n",
       "      <th>occurrence</th>\n",
       "      <th>data occurrence</th>\n",
       "    </tr>\n",
       "  </thead>\n",
       "  <tbody>\n",
       "    <tr>\n",
       "      <th>0</th>\n",
       "      <td>1</td>\n",
       "      <td>100884</td>\n",
       "      <td>72.387294</td>\n",
       "    </tr>\n",
       "    <tr>\n",
       "      <th>1</th>\n",
       "      <td>2</td>\n",
       "      <td>26554</td>\n",
       "      <td>19.053291</td>\n",
       "    </tr>\n",
       "    <tr>\n",
       "      <th>2</th>\n",
       "      <td>3</td>\n",
       "      <td>6612</td>\n",
       "      <td>4.744308</td>\n",
       "    </tr>\n",
       "    <tr>\n",
       "      <th>3</th>\n",
       "      <td>4</td>\n",
       "      <td>2899</td>\n",
       "      <td>2.080119</td>\n",
       "    </tr>\n",
       "    <tr>\n",
       "      <th>4</th>\n",
       "      <td>Greater than 4</td>\n",
       "      <td>2418</td>\n",
       "      <td>1.734987</td>\n",
       "    </tr>\n",
       "  </tbody>\n",
       "</table>\n",
       "</div>"
      ],
      "text/plain": [
       "  frequency_category  occurrence  data occurrence\n",
       "0                  1      100884        72.387294\n",
       "1                  2       26554        19.053291\n",
       "2                  3        6612         4.744308\n",
       "3                  4        2899         2.080119\n",
       "4     Greater than 4        2418         1.734987"
      ]
     },
     "execution_count": 6,
     "metadata": {},
     "output_type": "execute_result"
    }
   ],
   "source": [
    "# query = query_schema + \"\"\"\n",
    "# with frequency_count as (\n",
    "# select  uniquepid as uniquep, count(*) as frequency\n",
    "# from patient\n",
    "# group by uniquep\n",
    "# )\n",
    "# select \n",
    "#     CASE \n",
    "#         when frequency > 4 then 'Greater than 4'\n",
    "#         else cast(frequency as TEXT)\n",
    "#     END as frequency_category,  count(*) as occurrence\n",
    "# from     frequency_count\n",
    "# group by frequency_category\n",
    "# order by occurrence DESC\n",
    "# \"\"\"\n",
    "# df_unique = pd.read_sql_query(query, con)\n",
    "# # df_unique['patientunitstayid'].nunique()\n",
    "\n",
    "# df_unique['data occurrence'] = df_unique['occurrence'] / df_total['uniquepid'].nunique() * 100.0\n",
    "# df_unique.sort_values('data occurrence', ascending=False, inplace=True)\n",
    "# df_unique.head()"
   ]
  },
  {
   "cell_type": "markdown",
   "metadata": {},
   "source": [
    "### select patients that the unitadmitsource comes from  emergency and direct department"
   ]
  },
  {
   "cell_type": "code",
   "execution_count": 8,
   "metadata": {},
   "outputs": [
    {
     "data": {
      "text/html": [
       "<div>\n",
       "<style scoped>\n",
       "    .dataframe tbody tr th:only-of-type {\n",
       "        vertical-align: middle;\n",
       "    }\n",
       "\n",
       "    .dataframe tbody tr th {\n",
       "        vertical-align: top;\n",
       "    }\n",
       "\n",
       "    .dataframe thead th {\n",
       "        text-align: right;\n",
       "    }\n",
       "</style>\n",
       "<table border=\"1\" class=\"dataframe\">\n",
       "  <thead>\n",
       "    <tr style=\"text-align: right;\">\n",
       "      <th></th>\n",
       "      <th>patientunitstayid</th>\n",
       "      <th>hospitaladmitoffset</th>\n",
       "      <th>gender</th>\n",
       "      <th>age</th>\n",
       "      <th>apacheadmissiondx</th>\n",
       "      <th>unitadmitsource</th>\n",
       "      <th>admissionweight</th>\n",
       "      <th>dischargeweight</th>\n",
       "      <th>unitdischargelocation</th>\n",
       "      <th>unitdischargestatus</th>\n",
       "    </tr>\n",
       "  </thead>\n",
       "  <tbody>\n",
       "    <tr>\n",
       "      <th>0</th>\n",
       "      <td>141168</td>\n",
       "      <td>0</td>\n",
       "      <td>Female</td>\n",
       "      <td>70</td>\n",
       "      <td>Rhythm disturbance (atrial, supraventricular)</td>\n",
       "      <td>Direct Admit</td>\n",
       "      <td>84.3</td>\n",
       "      <td>85.8</td>\n",
       "      <td>Death</td>\n",
       "      <td>Expired</td>\n",
       "    </tr>\n",
       "    <tr>\n",
       "      <th>1</th>\n",
       "      <td>141178</td>\n",
       "      <td>-14</td>\n",
       "      <td>Female</td>\n",
       "      <td>52</td>\n",
       "      <td></td>\n",
       "      <td>Emergency Department</td>\n",
       "      <td>54.4</td>\n",
       "      <td>54.4</td>\n",
       "      <td>Step-Down Unit (SDU)</td>\n",
       "      <td>Alive</td>\n",
       "    </tr>\n",
       "    <tr>\n",
       "      <th>2</th>\n",
       "      <td>141197</td>\n",
       "      <td>-25</td>\n",
       "      <td>Male</td>\n",
       "      <td>71</td>\n",
       "      <td>Sepsis, pulmonary</td>\n",
       "      <td>Emergency Department</td>\n",
       "      <td>102.1</td>\n",
       "      <td>102.1</td>\n",
       "      <td>Step-Down Unit (SDU)</td>\n",
       "      <td>Alive</td>\n",
       "    </tr>\n",
       "    <tr>\n",
       "      <th>3</th>\n",
       "      <td>141208</td>\n",
       "      <td>-1</td>\n",
       "      <td>Female</td>\n",
       "      <td>25</td>\n",
       "      <td>Overdose, sedatives, hypnotics, antipsychotics...</td>\n",
       "      <td>Emergency Department</td>\n",
       "      <td>95.3</td>\n",
       "      <td>95.3</td>\n",
       "      <td>Home</td>\n",
       "      <td>Alive</td>\n",
       "    </tr>\n",
       "    <tr>\n",
       "      <th>4</th>\n",
       "      <td>141229</td>\n",
       "      <td>-4</td>\n",
       "      <td>Female</td>\n",
       "      <td>&gt; 89</td>\n",
       "      <td>CHF, congestive heart failure</td>\n",
       "      <td>Emergency Department</td>\n",
       "      <td>89.8</td>\n",
       "      <td>86.6</td>\n",
       "      <td>Floor</td>\n",
       "      <td>Alive</td>\n",
       "    </tr>\n",
       "  </tbody>\n",
       "</table>\n",
       "</div>"
      ],
      "text/plain": [
       "   patientunitstayid  hospitaladmitoffset  gender   age  \\\n",
       "0             141168                    0  Female    70   \n",
       "1             141178                  -14  Female    52   \n",
       "2             141197                  -25    Male    71   \n",
       "3             141208                   -1  Female    25   \n",
       "4             141229                   -4  Female  > 89   \n",
       "\n",
       "                                   apacheadmissiondx       unitadmitsource  \\\n",
       "0      Rhythm disturbance (atrial, supraventricular)          Direct Admit   \n",
       "1                                                     Emergency Department   \n",
       "2                                  Sepsis, pulmonary  Emergency Department   \n",
       "3  Overdose, sedatives, hypnotics, antipsychotics...  Emergency Department   \n",
       "4                      CHF, congestive heart failure  Emergency Department   \n",
       "\n",
       "   admissionweight  dischargeweight unitdischargelocation unitdischargestatus  \n",
       "0             84.3             85.8                 Death             Expired  \n",
       "1             54.4             54.4  Step-Down Unit (SDU)               Alive  \n",
       "2            102.1            102.1  Step-Down Unit (SDU)               Alive  \n",
       "3             95.3             95.3                  Home               Alive  \n",
       "4             89.8             86.6                 Floor               Alive  "
      ]
     },
     "execution_count": 8,
     "metadata": {},
     "output_type": "execute_result"
    }
   ],
   "source": [
    "# query = query_schema + \"\"\"\n",
    "\n",
    "# SELECT DISTINCT patientunitstayid,hospitaladmitOffset,gender,age,apacheadmissiondx,unitadmitsource,admissionweight,\tdischargeweight,unitdischargelocation,\tunitdischargestatus\n",
    "# FROM patient\n",
    "# WHERE unitadmitsource IN ('Emergency Department', 'Direct Admit') \n",
    "#  \"\"\"\n",
    "\n",
    "# df_selected_patients = pd.read_sql_query(query, con)\n",
    "# # df_selected_patients.to_csv('/Users/meisun/Documents/study/thesis/master project/data-preprocessing/selected_patients.csv', index=False)\n",
    "# # print(\"Data exported successfully to 'selected_patients.csv'.\")\n",
    "# df_selected_patients.head()"
   ]
  },
  {
   "cell_type": "code",
   "execution_count": 9,
   "metadata": {},
   "outputs": [
    {
     "name": "stdout",
     "output_type": "stream",
     "text": [
      "There are 102266 unique patientunitstayid in the selected patients with the selected unitadmitsource: emergency and direct.\n"
     ]
    }
   ],
   "source": [
    "# n_selected_patients=df_selected_patients['patientunitstayid'].nunique()\n",
    "# print(\"There are {} unique patientunitstayid in the selected patients with the selected unitadmitsource: emergency and direct.\".format(n_selected_patients))"
   ]
  }
 ],
 "metadata": {
  "kernelspec": {
   "display_name": "eicu",
   "language": "python",
   "name": "python3"
  },
  "language_info": {
   "codemirror_mode": {
    "name": "ipython",
    "version": 3
   },
   "file_extension": ".py",
   "mimetype": "text/x-python",
   "name": "python",
   "nbconvert_exporter": "python",
   "pygments_lexer": "ipython3",
   "version": "3.10.14"
  }
 },
 "nbformat": 4,
 "nbformat_minor": 2
}

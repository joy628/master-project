{
 "cells": [
  {
   "cell_type": "markdown",
   "metadata": {},
   "source": [
    "# lab\n",
    "\n",
    "Laboratory tests that have have been mapped to a standard set of measurements. Unmapped measurements are recorded in the customLab table. The lab table is fairly well populated by hospitals. It is possible some rarely obtained lab measurements are not interfaced into the system and therefore will not be available in the database. Absence of a rare lab measurement, such as serum lidocaine concentrations, would not indicate the lab was not drawn. However, absence of a platelet count would likely indicate the value was not obtained."
   ]
  },
  {
   "cell_type": "code",
   "execution_count": 3,
   "metadata": {},
   "outputs": [],
   "source": [
    "# Import libraries\n",
    "import numpy as np\n",
    "import pandas as pd\n",
    "import matplotlib.pyplot as plt\n",
    "import psycopg2\n",
    "import getpass\n",
    "# import pdvega\n",
    "\n",
    "# for configuring connection \n",
    "from configobj import ConfigObj\n",
    "import os\n",
    "\n",
    "%matplotlib inline"
   ]
  },
  {
   "cell_type": "code",
   "execution_count": 4,
   "metadata": {},
   "outputs": [
    {
     "name": "stdout",
     "output_type": "stream",
     "text": [
      "Database: eicu\n",
      "Username: postgres\n"
     ]
    }
   ],
   "source": [
    "# Create a database connection using settings from config file\n",
    "config='../db/config.ini'\n",
    "\n",
    "# connection info\n",
    "conn_info = dict()\n",
    "if os.path.isfile(config):\n",
    "    config = ConfigObj(config)\n",
    "    conn_info[\"sqluser\"] = config['username']\n",
    "    conn_info[\"sqlpass\"] = config['password']\n",
    "    conn_info[\"sqlhost\"] = config['host']\n",
    "    conn_info[\"sqlport\"] = config['port']\n",
    "    conn_info[\"dbname\"] = config['dbname']\n",
    "    conn_info[\"schema_name\"] = config['schema_name']\n",
    "else:\n",
    "    conn_info[\"sqluser\"] = 'postgres'\n",
    "    conn_info[\"sqlpass\"] = ''\n",
    "    conn_info[\"sqlhost\"] = 'localhost'\n",
    "    conn_info[\"sqlport\"] = 5432\n",
    "    conn_info[\"dbname\"] = 'eicu'\n",
    "    conn_info[\"schema_name\"] = 'public,eicu_crd'\n",
    "    \n",
    "# Connect to the eICU database\n",
    "print('Database: {}'.format(conn_info['dbname']))\n",
    "print('Username: {}'.format(conn_info[\"sqluser\"]))\n",
    "if conn_info[\"sqlpass\"] == '':\n",
    "    # try connecting without password, i.e. peer or OS authentication\n",
    "    try:\n",
    "        if (conn_info[\"sqlhost\"] == 'localhost') & (conn_info[\"sqlport\"]=='5432'):\n",
    "            con = psycopg2.connect(dbname=conn_info[\"dbname\"],\n",
    "                                   user=conn_info[\"sqluser\"])            \n",
    "        else:\n",
    "            con = psycopg2.connect(dbname=conn_info[\"dbname\"],\n",
    "                                   host=conn_info[\"sqlhost\"],\n",
    "                                   port=conn_info[\"sqlport\"],\n",
    "                                   user=conn_info[\"sqluser\"])\n",
    "    except:\n",
    "        conn_info[\"sqlpass\"] = getpass.getpass('Password: ')\n",
    "\n",
    "        con = psycopg2.connect(dbname=conn_info[\"dbname\"],\n",
    "                               host=conn_info[\"sqlhost\"],\n",
    "                               port=conn_info[\"sqlport\"],\n",
    "                               user=conn_info[\"sqluser\"],\n",
    "                               password=conn_info[\"sqlpass\"])\n",
    "query_schema = 'set search_path to ' + conn_info['schema_name'] + ';'"
   ]
  },
  {
   "cell_type": "code",
   "execution_count": 6,
   "metadata": {},
   "outputs": [],
   "source": [
    "from sqlalchemy import create_engine\n",
    "con= create_engine('postgresql://eicu@localhost:5432/eicu')"
   ]
  },
  {
   "cell_type": "markdown",
   "metadata": {},
   "source": [
    "## Examine a single patient"
   ]
  },
  {
   "cell_type": "code",
   "execution_count": 7,
   "metadata": {},
   "outputs": [],
   "source": [
    "patientunitstayid = 2704494"
   ]
  },
  {
   "cell_type": "code",
   "execution_count": 8,
   "metadata": {
    "scrolled": true
   },
   "outputs": [
    {
     "data": {
      "text/html": [
       "<div>\n",
       "<style scoped>\n",
       "    .dataframe tbody tr th:only-of-type {\n",
       "        vertical-align: middle;\n",
       "    }\n",
       "\n",
       "    .dataframe tbody tr th {\n",
       "        vertical-align: top;\n",
       "    }\n",
       "\n",
       "    .dataframe thead th {\n",
       "        text-align: right;\n",
       "    }\n",
       "</style>\n",
       "<table border=\"1\" class=\"dataframe\">\n",
       "  <thead>\n",
       "    <tr style=\"text-align: right;\">\n",
       "      <th></th>\n",
       "      <th>labid</th>\n",
       "      <th>patientunitstayid</th>\n",
       "      <th>labresultoffset</th>\n",
       "      <th>labtypeid</th>\n",
       "      <th>labname</th>\n",
       "      <th>labresult</th>\n",
       "      <th>labresulttext</th>\n",
       "      <th>labmeasurenamesystem</th>\n",
       "      <th>labmeasurenameinterface</th>\n",
       "      <th>labresultrevisedoffset</th>\n",
       "    </tr>\n",
       "  </thead>\n",
       "  <tbody>\n",
       "    <tr>\n",
       "      <th>0</th>\n",
       "      <td>635381067</td>\n",
       "      <td>2704494</td>\n",
       "      <td>-99620</td>\n",
       "      <td>1.0</td>\n",
       "      <td>sodium</td>\n",
       "      <td>136.00</td>\n",
       "      <td>136</td>\n",
       "      <td>mmol/L</td>\n",
       "      <td>mmol/L</td>\n",
       "      <td>-99583</td>\n",
       "    </tr>\n",
       "    <tr>\n",
       "      <th>1</th>\n",
       "      <td>648998951</td>\n",
       "      <td>2704494</td>\n",
       "      <td>-99620</td>\n",
       "      <td>3.0</td>\n",
       "      <td>-monos</td>\n",
       "      <td>6.00</td>\n",
       "      <td>6</td>\n",
       "      <td>%</td>\n",
       "      <td>%</td>\n",
       "      <td>-99573</td>\n",
       "    </tr>\n",
       "    <tr>\n",
       "      <th>2</th>\n",
       "      <td>648998947</td>\n",
       "      <td>2704494</td>\n",
       "      <td>-99620</td>\n",
       "      <td>3.0</td>\n",
       "      <td>Hgb</td>\n",
       "      <td>9.60</td>\n",
       "      <td>9.6</td>\n",
       "      <td>g/dL</td>\n",
       "      <td>g/dL</td>\n",
       "      <td>-99573</td>\n",
       "    </tr>\n",
       "    <tr>\n",
       "      <th>3</th>\n",
       "      <td>648998952</td>\n",
       "      <td>2704494</td>\n",
       "      <td>-99620</td>\n",
       "      <td>3.0</td>\n",
       "      <td>MCHC</td>\n",
       "      <td>34.30</td>\n",
       "      <td>34.3</td>\n",
       "      <td>g/dL</td>\n",
       "      <td>g/dL</td>\n",
       "      <td>-99573</td>\n",
       "    </tr>\n",
       "    <tr>\n",
       "      <th>4</th>\n",
       "      <td>635381063</td>\n",
       "      <td>2704494</td>\n",
       "      <td>-99620</td>\n",
       "      <td>1.0</td>\n",
       "      <td>creatinine</td>\n",
       "      <td>4.23</td>\n",
       "      <td>4.23</td>\n",
       "      <td>mg/dL</td>\n",
       "      <td>mg/dL</td>\n",
       "      <td>-99583</td>\n",
       "    </tr>\n",
       "  </tbody>\n",
       "</table>\n",
       "</div>"
      ],
      "text/plain": [
       "       labid  patientunitstayid  labresultoffset  labtypeid     labname  \\\n",
       "0  635381067            2704494           -99620        1.0      sodium   \n",
       "1  648998951            2704494           -99620        3.0      -monos   \n",
       "2  648998947            2704494           -99620        3.0         Hgb   \n",
       "3  648998952            2704494           -99620        3.0        MCHC   \n",
       "4  635381063            2704494           -99620        1.0  creatinine   \n",
       "\n",
       "   labresult labresulttext labmeasurenamesystem labmeasurenameinterface  \\\n",
       "0     136.00           136               mmol/L                  mmol/L   \n",
       "1       6.00             6                    %                       %   \n",
       "2       9.60           9.6                 g/dL                    g/dL   \n",
       "3      34.30          34.3                 g/dL                    g/dL   \n",
       "4       4.23          4.23                mg/dL                   mg/dL   \n",
       "\n",
       "   labresultrevisedoffset  \n",
       "0                  -99583  \n",
       "1                  -99573  \n",
       "2                  -99573  \n",
       "3                  -99573  \n",
       "4                  -99583  "
      ]
     },
     "execution_count": 8,
     "metadata": {},
     "output_type": "execute_result"
    }
   ],
   "source": [
    "query = query_schema + \"\"\"\n",
    "select *\n",
    "from lab\n",
    "where patientunitstayid = {}\n",
    "order by labresultoffset\n",
    "\"\"\".format(patientunitstayid)\n",
    "\n",
    "df = pd.read_sql_query(query, con)\n",
    "df.head()"
   ]
  },
  {
   "cell_type": "code",
   "execution_count": 9,
   "metadata": {},
   "outputs": [
    {
     "data": {
      "text/html": [
       "<div>\n",
       "<style scoped>\n",
       "    .dataframe tbody tr th:only-of-type {\n",
       "        vertical-align: middle;\n",
       "    }\n",
       "\n",
       "    .dataframe tbody tr th {\n",
       "        vertical-align: top;\n",
       "    }\n",
       "\n",
       "    .dataframe thead th {\n",
       "        text-align: right;\n",
       "    }\n",
       "</style>\n",
       "<table border=\"1\" class=\"dataframe\">\n",
       "  <thead>\n",
       "    <tr style=\"text-align: right;\">\n",
       "      <th></th>\n",
       "      <th>patientunitstayid</th>\n",
       "      <th>apacheadmissiondx</th>\n",
       "      <th>hospitaladmitoffset</th>\n",
       "    </tr>\n",
       "  </thead>\n",
       "  <tbody>\n",
       "    <tr>\n",
       "      <th>0</th>\n",
       "      <td>2704494</td>\n",
       "      <td>Thrombocytopenia</td>\n",
       "      <td>-99779</td>\n",
       "    </tr>\n",
       "  </tbody>\n",
       "</table>\n",
       "</div>"
      ],
      "text/plain": [
       "   patientunitstayid apacheadmissiondx  hospitaladmitoffset\n",
       "0            2704494  Thrombocytopenia               -99779"
      ]
     },
     "execution_count": 9,
     "metadata": {},
     "output_type": "execute_result"
    }
   ],
   "source": [
    "query = query_schema + \"\"\"\n",
    "select *\n",
    "from patient\n",
    "where patientunitstayid = {}\n",
    "\"\"\".format(patientunitstayid)\n",
    "\n",
    "pt = pd.read_sql_query(query, con)\n",
    "pt[['patientunitstayid', 'apacheadmissiondx', 'hospitaladmitoffset']]"
   ]
  },
  {
   "cell_type": "markdown",
   "metadata": {},
   "source": [
    "Immediately we can note the very large negative `labresultoffset`. This likely means we have some lab values pre-ICU. In some cases this will be a lab measured in another hospital location such as the emergency department or hospital floor. In this case, the large value (-99620 minutes, or ~70 days) is surprising, but we can see from the patient table that the patient was admitted to the hospital -99779 minutes before their ICU stay (`hospitaladmitoffset`). This patient was admitted to the ICU with thrombocytopenia (`apacheadmissiondx`), and inspection of the diagnosis table indicates they have a form of cancer, so likely this is a long hospital stay where labs were taken on hospital admission."
   ]
  },
  {
   "cell_type": "markdown",
   "metadata": {},
   "source": [
    "## Available labs\n",
    "\n",
    "We can group the lab table to summarize all available labs."
   ]
  },
  {
   "cell_type": "code",
   "execution_count": 10,
   "metadata": {},
   "outputs": [
    {
     "name": "stdout",
     "output_type": "stream",
     "text": [
      "39132531 total vlues for 158 distinct labs.\n",
      "\n",
      "Top 5 labs by frequency:\n"
     ]
    },
    {
     "data": {
      "text/html": [
       "<div>\n",
       "<style scoped>\n",
       "    .dataframe tbody tr th:only-of-type {\n",
       "        vertical-align: middle;\n",
       "    }\n",
       "\n",
       "    .dataframe tbody tr th {\n",
       "        vertical-align: top;\n",
       "    }\n",
       "\n",
       "    .dataframe thead th {\n",
       "        text-align: right;\n",
       "    }\n",
       "</style>\n",
       "<table border=\"1\" class=\"dataframe\">\n",
       "  <thead>\n",
       "    <tr style=\"text-align: right;\">\n",
       "      <th></th>\n",
       "      <th>labname</th>\n",
       "      <th>n</th>\n",
       "    </tr>\n",
       "  </thead>\n",
       "  <tbody>\n",
       "    <tr>\n",
       "      <th>0</th>\n",
       "      <td>bedside glucose</td>\n",
       "      <td>3175835</td>\n",
       "    </tr>\n",
       "    <tr>\n",
       "      <th>1</th>\n",
       "      <td>potassium</td>\n",
       "      <td>1493261</td>\n",
       "    </tr>\n",
       "    <tr>\n",
       "      <th>2</th>\n",
       "      <td>sodium</td>\n",
       "      <td>1393205</td>\n",
       "    </tr>\n",
       "    <tr>\n",
       "      <th>3</th>\n",
       "      <td>glucose</td>\n",
       "      <td>1319496</td>\n",
       "    </tr>\n",
       "    <tr>\n",
       "      <th>4</th>\n",
       "      <td>Hgb</td>\n",
       "      <td>1298708</td>\n",
       "    </tr>\n",
       "  </tbody>\n",
       "</table>\n",
       "</div>"
      ],
      "text/plain": [
       "           labname        n\n",
       "0  bedside glucose  3175835\n",
       "1        potassium  1493261\n",
       "2           sodium  1393205\n",
       "3          glucose  1319496\n",
       "4              Hgb  1298708"
      ]
     },
     "execution_count": 10,
     "metadata": {},
     "output_type": "execute_result"
    }
   ],
   "source": [
    "query = query_schema + \"\"\"\n",
    "select labname, count(*) as n\n",
    "from lab\n",
    "group by labname\n",
    "order by n desc\n",
    "\"\"\".format(patientunitstayid)\n",
    "\n",
    "lab = pd.read_sql_query(query, con)\n",
    "print('{} total vlues for {} distinct labs.'.format(lab['n'].sum(), lab.shape[0]))\n",
    "print('\\nTop 5 labs by frequency:')\n",
    "lab.head()"
   ]
  },
  {
   "cell_type": "markdown",
   "metadata": {},
   "source": [
    "The lab table is a large table with over 39 million observations. The most frequent observation is bedside glucose which accounts for almost 10% of the lab table, followed by potassium and sodium."
   ]
  },
  {
   "cell_type": "markdown",
   "metadata": {},
   "source": [
    "## Hospitals with data available"
   ]
  },
  {
   "cell_type": "code",
   "execution_count": 9,
   "metadata": {},
   "outputs": [
    {
     "data": {
      "text/html": [
       "<div>\n",
       "<style scoped>\n",
       "    .dataframe tbody tr th:only-of-type {\n",
       "        vertical-align: middle;\n",
       "    }\n",
       "\n",
       "    .dataframe tbody tr th {\n",
       "        vertical-align: top;\n",
       "    }\n",
       "\n",
       "    .dataframe thead th {\n",
       "        text-align: right;\n",
       "    }\n",
       "</style>\n",
       "<table border=\"1\" class=\"dataframe\">\n",
       "  <thead>\n",
       "    <tr style=\"text-align: right;\">\n",
       "      <th></th>\n",
       "      <th>hospitalid</th>\n",
       "      <th>number_of_patients</th>\n",
       "      <th>number_of_patients_with_tbl</th>\n",
       "      <th>data completion</th>\n",
       "    </tr>\n",
       "  </thead>\n",
       "  <tbody>\n",
       "    <tr>\n",
       "      <th>11</th>\n",
       "      <td>73</td>\n",
       "      <td>7059</td>\n",
       "      <td>6861</td>\n",
       "      <td>97.195070</td>\n",
       "    </tr>\n",
       "    <tr>\n",
       "      <th>54</th>\n",
       "      <td>167</td>\n",
       "      <td>6092</td>\n",
       "      <td>5897</td>\n",
       "      <td>96.799081</td>\n",
       "    </tr>\n",
       "    <tr>\n",
       "      <th>106</th>\n",
       "      <td>264</td>\n",
       "      <td>5237</td>\n",
       "      <td>5075</td>\n",
       "      <td>96.906626</td>\n",
       "    </tr>\n",
       "    <tr>\n",
       "      <th>184</th>\n",
       "      <td>420</td>\n",
       "      <td>4679</td>\n",
       "      <td>4603</td>\n",
       "      <td>98.375721</td>\n",
       "    </tr>\n",
       "    <tr>\n",
       "      <th>58</th>\n",
       "      <td>176</td>\n",
       "      <td>4328</td>\n",
       "      <td>4254</td>\n",
       "      <td>98.290203</td>\n",
       "    </tr>\n",
       "    <tr>\n",
       "      <th>134</th>\n",
       "      <td>338</td>\n",
       "      <td>4277</td>\n",
       "      <td>4237</td>\n",
       "      <td>99.064765</td>\n",
       "    </tr>\n",
       "    <tr>\n",
       "      <th>71</th>\n",
       "      <td>199</td>\n",
       "      <td>4240</td>\n",
       "      <td>4122</td>\n",
       "      <td>97.216981</td>\n",
       "    </tr>\n",
       "    <tr>\n",
       "      <th>90</th>\n",
       "      <td>243</td>\n",
       "      <td>4243</td>\n",
       "      <td>4104</td>\n",
       "      <td>96.724016</td>\n",
       "    </tr>\n",
       "    <tr>\n",
       "      <th>206</th>\n",
       "      <td>458</td>\n",
       "      <td>3701</td>\n",
       "      <td>3643</td>\n",
       "      <td>98.432856</td>\n",
       "    </tr>\n",
       "    <tr>\n",
       "      <th>200</th>\n",
       "      <td>443</td>\n",
       "      <td>3656</td>\n",
       "      <td>3614</td>\n",
       "      <td>98.851204</td>\n",
       "    </tr>\n",
       "  </tbody>\n",
       "</table>\n",
       "</div>"
      ],
      "text/plain": [
       "     hospitalid  number_of_patients  number_of_patients_with_tbl  \\\n",
       "11           73                7059                         6861   \n",
       "54          167                6092                         5897   \n",
       "106         264                5237                         5075   \n",
       "184         420                4679                         4603   \n",
       "58          176                4328                         4254   \n",
       "134         338                4277                         4237   \n",
       "71          199                4240                         4122   \n",
       "90          243                4243                         4104   \n",
       "206         458                3701                         3643   \n",
       "200         443                3656                         3614   \n",
       "\n",
       "     data completion  \n",
       "11         97.195070  \n",
       "54         96.799081  \n",
       "106        96.906626  \n",
       "184        98.375721  \n",
       "58         98.290203  \n",
       "134        99.064765  \n",
       "71         97.216981  \n",
       "90         96.724016  \n",
       "206        98.432856  \n",
       "200        98.851204  "
      ]
     },
     "execution_count": 9,
     "metadata": {},
     "output_type": "execute_result"
    }
   ],
   "source": [
    "query = query_schema + \"\"\"\n",
    "with t as\n",
    "(\n",
    "select distinct patientunitstayid\n",
    "from lab\n",
    ")\n",
    "select \n",
    "  pt.hospitalid\n",
    "  , count(distinct pt.patientunitstayid) as number_of_patients\n",
    "  , count(distinct t.patientunitstayid) as number_of_patients_with_tbl\n",
    "from patient pt\n",
    "left join t\n",
    "  on pt.patientunitstayid = t.patientunitstayid\n",
    "group by pt.hospitalid\n",
    "\"\"\".format(patientunitstayid)\n",
    "\n",
    "df = pd.read_sql_query(query, con)\n",
    "df['data completion'] = df['number_of_patients_with_tbl'] / df['number_of_patients'] * 100.0\n",
    "df.sort_values('number_of_patients_with_tbl', ascending=False, inplace=True)\n",
    "df.head(n=10)"
   ]
  },
  {
   "cell_type": "code",
   "execution_count": 10,
   "metadata": {},
   "outputs": [
    {
     "data": {
      "text/html": [
       "<div>\n",
       "<style scoped>\n",
       "    .dataframe tbody tr th:only-of-type {\n",
       "        vertical-align: middle;\n",
       "    }\n",
       "\n",
       "    .dataframe tbody tr th {\n",
       "        vertical-align: top;\n",
       "    }\n",
       "\n",
       "    .dataframe thead th {\n",
       "        text-align: right;\n",
       "    }\n",
       "</style>\n",
       "<table border=\"1\" class=\"dataframe\">\n",
       "  <thead>\n",
       "    <tr style=\"text-align: right;\">\n",
       "      <th></th>\n",
       "      <th>hospitalid</th>\n",
       "      <th>number_of_patients</th>\n",
       "      <th>number_of_patients_with_tbl</th>\n",
       "      <th>data completion</th>\n",
       "    </tr>\n",
       "  </thead>\n",
       "  <tbody>\n",
       "    <tr>\n",
       "      <th>18</th>\n",
       "      <td>91</td>\n",
       "      <td>15</td>\n",
       "      <td>14</td>\n",
       "      <td>93.333333</td>\n",
       "    </tr>\n",
       "    <tr>\n",
       "      <th>45</th>\n",
       "      <td>151</td>\n",
       "      <td>14</td>\n",
       "      <td>13</td>\n",
       "      <td>92.857143</td>\n",
       "    </tr>\n",
       "    <tr>\n",
       "      <th>138</th>\n",
       "      <td>351</td>\n",
       "      <td>27</td>\n",
       "      <td>13</td>\n",
       "      <td>48.148148</td>\n",
       "    </tr>\n",
       "    <tr>\n",
       "      <th>16</th>\n",
       "      <td>86</td>\n",
       "      <td>15</td>\n",
       "      <td>12</td>\n",
       "      <td>80.000000</td>\n",
       "    </tr>\n",
       "    <tr>\n",
       "      <th>129</th>\n",
       "      <td>323</td>\n",
       "      <td>11</td>\n",
       "      <td>11</td>\n",
       "      <td>100.000000</td>\n",
       "    </tr>\n",
       "    <tr>\n",
       "      <th>146</th>\n",
       "      <td>361</td>\n",
       "      <td>13</td>\n",
       "      <td>10</td>\n",
       "      <td>76.923077</td>\n",
       "    </tr>\n",
       "    <tr>\n",
       "      <th>21</th>\n",
       "      <td>94</td>\n",
       "      <td>9</td>\n",
       "      <td>9</td>\n",
       "      <td>100.000000</td>\n",
       "    </tr>\n",
       "    <tr>\n",
       "      <th>154</th>\n",
       "      <td>385</td>\n",
       "      <td>3</td>\n",
       "      <td>3</td>\n",
       "      <td>100.000000</td>\n",
       "    </tr>\n",
       "    <tr>\n",
       "      <th>36</th>\n",
       "      <td>136</td>\n",
       "      <td>3</td>\n",
       "      <td>2</td>\n",
       "      <td>66.666667</td>\n",
       "    </tr>\n",
       "    <tr>\n",
       "      <th>176</th>\n",
       "      <td>409</td>\n",
       "      <td>33</td>\n",
       "      <td>0</td>\n",
       "      <td>0.000000</td>\n",
       "    </tr>\n",
       "  </tbody>\n",
       "</table>\n",
       "</div>"
      ],
      "text/plain": [
       "     hospitalid  number_of_patients  number_of_patients_with_tbl  \\\n",
       "18           91                  15                           14   \n",
       "45          151                  14                           13   \n",
       "138         351                  27                           13   \n",
       "16           86                  15                           12   \n",
       "129         323                  11                           11   \n",
       "146         361                  13                           10   \n",
       "21           94                   9                            9   \n",
       "154         385                   3                            3   \n",
       "36          136                   3                            2   \n",
       "176         409                  33                            0   \n",
       "\n",
       "     data completion  \n",
       "18         93.333333  \n",
       "45         92.857143  \n",
       "138        48.148148  \n",
       "16         80.000000  \n",
       "129       100.000000  \n",
       "146        76.923077  \n",
       "21        100.000000  \n",
       "154       100.000000  \n",
       "36         66.666667  \n",
       "176         0.000000  "
      ]
     },
     "execution_count": 10,
     "metadata": {},
     "output_type": "execute_result"
    }
   ],
   "source": [
    "df.tail(n=10)"
   ]
  },
  {
   "cell_type": "code",
   "execution_count": 11,
   "metadata": {},
   "outputs": [
    {
     "data": {
      "image/png": "[encoded data removed]",
      "text/plain": [
       "<Figure size 640x480 with 1 Axes>"
      ]
     },
     "metadata": {},
     "output_type": "display_data"
    }
   ],
   "source": [
    "bins = [0, 10, 20, 30, 40, 50, 60, 70, 80, 90, 100]\n",
    "plt.hist(df['data completion'], bins=bins, alpha=0.6, label='data completion', stacked=False, edgecolor='black')\n",
    "\n",
    "# Set axis labels and title\n",
    "plt.xlabel('Percent of patients with data (binned)')\n",
    "plt.ylabel('Number of hospitals')\n",
    "\n",
    "# Display the plot\n",
    "plt.show()"
   ]
  },
  {
   "cell_type": "code",
   "execution_count": 9,
   "metadata": {},
   "outputs": [
    {
     "data": {
      "text/html": [
       "<div class=\"vega-embed\" id=\"af377dc8-94ca-45f2-abdb-2f8a7c207a59\"></div>\n",
       "\n",
       "<style>\n",
       ".vega-embed svg, .vega-embed canvas {\n",
       "  border: 1px dotted gray;\n",
       "}\n",
       "\n",
       ".vega-embed .vega-actions a {\n",
       "  margin-right: 6px;\n",
       "}\n",
       "</style>\n"
      ]
     },
     "metadata": {
      "jupyter-vega3": "#af377dc8-94ca-45f2-abdb-2f8a7c207a59"
     },
     "output_type": "display_data"
    },
    {
     "data": {
      "application/javascript": "var spec = {\"data\": {\"values\": [{\"Number of hospitals\": \"data completion\", \"Percent of patients with data\": 97.19507012324692}, {\"Number of hospitals\": \"data completion\", \"Percent of patients with data\": 96.79908076165464}, {\"Number of hospitals\": \"data completion\", \"Percent of patients with data\": 96.90662593087646}, {\"Number of hospitals\": \"data completion\", \"Percent of patients with data\": 98.37572130797179}, {\"Number of hospitals\": \"data completion\", \"Percent of patients with data\": 98.2902033271719}, {\"Number of hospitals\": \"data completion\", \"Percent of patients with data\": 99.06476502221183}, {\"Number of hospitals\": \"data completion\", \"Percent of patients with data\": 97.21698113207547}, {\"Number of hospitals\": \"data completion\", \"Percent of patients with data\": 96.72401602639641}, {\"Number of hospitals\": \"data completion\", \"Percent of patients with data\": 98.43285598486895}, {\"Number of hospitals\": \"data completion\", \"Percent of patients with data\": 98.85120350109409}, {\"Number of hospitals\": \"data completion\", \"Percent of patients with data\": 96.82191780821918}, {\"Number of hospitals\": \"data completion\", \"Percent of patients with data\": 98.05609552901971}, {\"Number of hospitals\": \"data completion\", \"Percent of patients with data\": 97.20763063312137}, {\"Number of hospitals\": \"data completion\", \"Percent of patients with data\": 98.93206763571641}, {\"Number of hospitals\": \"data completion\", \"Percent of patients with data\": 97.8709466098919}, {\"Number of hospitals\": \"data completion\", \"Percent of patients with data\": 98.57191431485889}, {\"Number of hospitals\": \"data completion\", \"Percent of patients with data\": 89.27789934354486}, {\"Number of hospitals\": \"data completion\", \"Percent of patients with data\": 98.47275251648733}, {\"Number of hospitals\": \"data completion\", \"Percent of patients with data\": 96.8293551834699}, {\"Number of hospitals\": \"data completion\", \"Percent of patients with data\": 99.01224812327143}, {\"Number of hospitals\": \"data completion\", \"Percent of patients with data\": 93.61260887598507}, {\"Number of hospitals\": \"data completion\", \"Percent of patients with data\": 99.33649289099526}, {\"Number of hospitals\": \"data completion\", \"Percent of patients with data\": 98.07962529274005}, {\"Number of hospitals\": \"data completion\", \"Percent of patients with data\": 99.4754411063424}, {\"Number of hospitals\": \"data completion\", \"Percent of patients with data\": 99.13378248315688}, {\"Number of hospitals\": \"data completion\", \"Percent of patients with data\": 96.5583173996176}, {\"Number of hospitals\": \"data completion\", \"Percent of patients with data\": 95.54170661553212}, {\"Number of hospitals\": \"data completion\", \"Percent of patients with data\": 94.62416745956233}, {\"Number of hospitals\": \"data completion\", \"Percent of patients with data\": 99.74186886938566}, {\"Number of hospitals\": \"data completion\", \"Percent of patients with data\": 94.84893511639424}, {\"Number of hospitals\": \"data completion\", \"Percent of patients with data\": 95.10204081632652}, {\"Number of hospitals\": \"data completion\", \"Percent of patients with data\": 97.6}, {\"Number of hospitals\": \"data completion\", \"Percent of patients with data\": 97.62547220723151}, {\"Number of hospitals\": \"data completion\", \"Percent of patients with data\": 98.48484848484848}, {\"Number of hospitals\": \"data completion\", \"Percent of patients with data\": 98.80546075085324}, {\"Number of hospitals\": \"data completion\", \"Percent of patients with data\": 98.85518030910131}, {\"Number of hospitals\": \"data completion\", \"Percent of patients with data\": 91.67585446527012}, {\"Number of hospitals\": \"data completion\", \"Percent of patients with data\": 99.04648390941597}, {\"Number of hospitals\": \"data completion\", \"Percent of patients with data\": 91.01861993428258}, {\"Number of hospitals\": \"data completion\", \"Percent of patients with data\": 99.68671679197995}, {\"Number of hospitals\": \"data completion\", \"Percent of patients with data\": 97.08436724565756}, {\"Number of hospitals\": \"data completion\", \"Percent of patients with data\": 99.23469387755102}, {\"Number of hospitals\": \"data completion\", \"Percent of patients with data\": 99.09208819714657}, {\"Number of hospitals\": \"data completion\", \"Percent of patients with data\": 99.86781229345671}, {\"Number of hospitals\": \"data completion\", \"Percent of patients with data\": 99.79338842975206}, {\"Number of hospitals\": \"data completion\", \"Percent of patients with data\": 95.69821310390469}, {\"Number of hospitals\": \"data completion\", \"Percent of patients with data\": 99.55156950672645}, {\"Number of hospitals\": \"data completion\", \"Percent of patients with data\": 99.6953541507997}, {\"Number of hospitals\": \"data completion\", \"Percent of patients with data\": 98.586017282011}, {\"Number of hospitals\": \"data completion\", \"Percent of patients with data\": 97.86561264822134}, {\"Number of hospitals\": \"data completion\", \"Percent of patients with data\": 98.95330112721416}, {\"Number of hospitals\": \"data completion\", \"Percent of patients with data\": 93.7354988399072}, {\"Number of hospitals\": \"data completion\", \"Percent of patients with data\": 96.60743134087238}, {\"Number of hospitals\": \"data completion\", \"Percent of patients with data\": 99.4949494949495}, {\"Number of hospitals\": \"data completion\", \"Percent of patients with data\": 99.31856899488926}, {\"Number of hospitals\": \"data completion\", \"Percent of patients with data\": 99.56293706293707}, {\"Number of hospitals\": \"data completion\", \"Percent of patients with data\": 99.20704845814979}, {\"Number of hospitals\": \"data completion\", \"Percent of patients with data\": 99.72924187725631}, {\"Number of hospitals\": \"data completion\", \"Percent of patients with data\": 97.43589743589743}, {\"Number of hospitals\": \"data completion\", \"Percent of patients with data\": 98.96907216494846}, {\"Number of hospitals\": \"data completion\", \"Percent of patients with data\": 99.70674486803519}, {\"Number of hospitals\": \"data completion\", \"Percent of patients with data\": 100.0}, {\"Number of hospitals\": \"data completion\", \"Percent of patients with data\": 93.8388625592417}, {\"Number of hospitals\": \"data completion\", \"Percent of patients with data\": 99.6951219512195}, {\"Number of hospitals\": \"data completion\", \"Percent of patients with data\": 99.79402677651905}, {\"Number of hospitals\": \"data completion\", \"Percent of patients with data\": 97.86150712830958}, {\"Number of hospitals\": \"data completion\", \"Percent of patients with data\": 95.80838323353294}, {\"Number of hospitals\": \"data completion\", \"Percent of patients with data\": 93.63369245837414}, {\"Number of hospitals\": \"data completion\", \"Percent of patients with data\": 99.46120689655173}, {\"Number of hospitals\": \"data completion\", \"Percent of patients with data\": 96.51531151003168}, {\"Number of hospitals\": \"data completion\", \"Percent of patients with data\": 99.4475138121547}, {\"Number of hospitals\": \"data completion\", \"Percent of patients with data\": 100.0}, {\"Number of hospitals\": \"data completion\", \"Percent of patients with data\": 99.3975903614458}, {\"Number of hospitals\": \"data completion\", \"Percent of patients with data\": 99.14738124238734}, {\"Number of hospitals\": \"data completion\", \"Percent of patients with data\": 91.56908665105387}, {\"Number of hospitals\": \"data completion\", \"Percent of patients with data\": 89.90610328638498}, {\"Number of hospitals\": \"data completion\", \"Percent of patients with data\": 98.02631578947368}, {\"Number of hospitals\": \"data completion\", \"Percent of patients with data\": 99.19463087248323}, {\"Number of hospitals\": \"data completion\", \"Percent of patients with data\": 98.92328398384926}, {\"Number of hospitals\": \"data completion\", \"Percent of patients with data\": 99.58677685950413}, {\"Number of hospitals\": \"data completion\", \"Percent of patients with data\": 98.89958734525447}, {\"Number of hospitals\": \"data completion\", \"Percent of patients with data\": 99.86013986013987}, {\"Number of hospitals\": \"data completion\", \"Percent of patients with data\": 99.85955056179775}, {\"Number of hospitals\": \"data completion\", \"Percent of patients with data\": 99.85611510791367}, {\"Number of hospitals\": \"data completion\", \"Percent of patients with data\": 95.71230982019364}, {\"Number of hospitals\": \"data completion\", \"Percent of patients with data\": 98.55282199710564}, {\"Number of hospitals\": \"data completion\", \"Percent of patients with data\": 97.94117647058823}, {\"Number of hospitals\": \"data completion\", \"Percent of patients with data\": 94.79768786127167}, {\"Number of hospitals\": \"data completion\", \"Percent of patients with data\": 99.24012158054711}, {\"Number of hospitals\": \"data completion\", \"Percent of patients with data\": 99.06103286384976}, {\"Number of hospitals\": \"data completion\", \"Percent of patients with data\": 99.68}, {\"Number of hospitals\": \"data completion\", \"Percent of patients with data\": 89.38307030129124}, {\"Number of hospitals\": \"data completion\", \"Percent of patients with data\": 97.28434504792332}, {\"Number of hospitals\": \"data completion\", \"Percent of patients with data\": 99.83249581239531}, {\"Number of hospitals\": \"data completion\", \"Percent of patients with data\": 99.49324324324324}, {\"Number of hospitals\": \"data completion\", \"Percent of patients with data\": 99.65928449744463}, {\"Number of hospitals\": \"data completion\", \"Percent of patients with data\": 99.15110356536503}, {\"Number of hospitals\": \"data completion\", \"Percent of patients with data\": 98.46416382252559}, {\"Number of hospitals\": \"data completion\", \"Percent of patients with data\": 99.47826086956522}, {\"Number of hospitals\": \"data completion\", \"Percent of patients with data\": 99.82547993019197}, {\"Number of hospitals\": \"data completion\", \"Percent of patients with data\": 96.9283276450512}, {\"Number of hospitals\": \"data completion\", \"Percent of patients with data\": 99.82363315696648}, {\"Number of hospitals\": \"data completion\", \"Percent of patients with data\": 95.75551782682513}, {\"Number of hospitals\": \"data completion\", \"Percent of patients with data\": 94.75524475524476}, {\"Number of hospitals\": \"data completion\", \"Percent of patients with data\": 100.0}, {\"Number of hospitals\": \"data completion\", \"Percent of patients with data\": 97.62773722627736}, {\"Number of hospitals\": \"data completion\", \"Percent of patients with data\": 100.0}, {\"Number of hospitals\": \"data completion\", \"Percent of patients with data\": 97.90476190476191}, {\"Number of hospitals\": \"data completion\", \"Percent of patients with data\": 99.60079840319361}, {\"Number of hospitals\": \"data completion\", \"Percent of patients with data\": 99.79423868312757}, {\"Number of hospitals\": \"data completion\", \"Percent of patients with data\": 95.95141700404858}, {\"Number of hospitals\": \"data completion\", \"Percent of patients with data\": 94.75806451612904}, {\"Number of hospitals\": \"data completion\", \"Percent of patients with data\": 94.12955465587044}, {\"Number of hospitals\": \"data completion\", \"Percent of patients with data\": 99.13793103448276}, {\"Number of hospitals\": \"data completion\", \"Percent of patients with data\": 98.03063457330416}, {\"Number of hospitals\": \"data completion\", \"Percent of patients with data\": 97.98657718120806}, {\"Number of hospitals\": \"data completion\", \"Percent of patients with data\": 93.66812227074236}, {\"Number of hospitals\": \"data completion\", \"Percent of patients with data\": 100.0}, {\"Number of hospitals\": \"data completion\", \"Percent of patients with data\": 100.0}, {\"Number of hospitals\": \"data completion\", \"Percent of patients with data\": 99.01234567901234}, {\"Number of hospitals\": \"data completion\", \"Percent of patients with data\": 97.55501222493888}, {\"Number of hospitals\": \"data completion\", \"Percent of patients with data\": 97.79411764705883}, {\"Number of hospitals\": \"data completion\", \"Percent of patients with data\": 99.73614775725594}, {\"Number of hospitals\": \"data completion\", \"Percent of patients with data\": 96.82539682539682}, {\"Number of hospitals\": \"data completion\", \"Percent of patients with data\": 99.45504087193461}, {\"Number of hospitals\": \"data completion\", \"Percent of patients with data\": 100.0}, {\"Number of hospitals\": \"data completion\", \"Percent of patients with data\": 99.4413407821229}, {\"Number of hospitals\": \"data completion\", \"Percent of patients with data\": 92.6509186351706}, {\"Number of hospitals\": \"data completion\", \"Percent of patients with data\": 99.15254237288136}, {\"Number of hospitals\": \"data completion\", \"Percent of patients with data\": 98.59550561797754}, {\"Number of hospitals\": \"data completion\", \"Percent of patients with data\": 100.0}, {\"Number of hospitals\": \"data completion\", \"Percent of patients with data\": 96.84813753581662}, {\"Number of hospitals\": \"data completion\", \"Percent of patients with data\": 88.12664907651715}, {\"Number of hospitals\": \"data completion\", \"Percent of patients with data\": 89.00804289544236}, {\"Number of hospitals\": \"data completion\", \"Percent of patients with data\": 100.0}, {\"Number of hospitals\": \"data completion\", \"Percent of patients with data\": 99.6951219512195}, {\"Number of hospitals\": \"data completion\", \"Percent of patients with data\": 99.36908517350159}, {\"Number of hospitals\": \"data completion\", \"Percent of patients with data\": 98.74213836477988}, {\"Number of hospitals\": \"data completion\", \"Percent of patients with data\": 99.67637540453075}, {\"Number of hospitals\": \"data completion\", \"Percent of patients with data\": 98.7012987012987}, {\"Number of hospitals\": \"data completion\", \"Percent of patients with data\": 99.01960784313727}, {\"Number of hospitals\": \"data completion\", \"Percent of patients with data\": 91.6923076923077}, {\"Number of hospitals\": \"data completion\", \"Percent of patients with data\": 97.68211920529801}, {\"Number of hospitals\": \"data completion\", \"Percent of patients with data\": 99.3006993006993}, {\"Number of hospitals\": \"data completion\", \"Percent of patients with data\": 85.66978193146417}, {\"Number of hospitals\": \"data completion\", \"Percent of patients with data\": 99.22178988326849}, {\"Number of hospitals\": \"data completion\", \"Percent of patients with data\": 99.6078431372549}, {\"Number of hospitals\": \"data completion\", \"Percent of patients with data\": 98.4375}, {\"Number of hospitals\": \"data completion\", \"Percent of patients with data\": 99.59183673469387}, {\"Number of hospitals\": \"data completion\", \"Percent of patients with data\": 96.76113360323887}, {\"Number of hospitals\": \"data completion\", \"Percent of patients with data\": 93.33333333333333}, {\"Number of hospitals\": \"data completion\", \"Percent of patients with data\": 99.14163090128756}, {\"Number of hospitals\": \"data completion\", \"Percent of patients with data\": 99.11111111111111}, {\"Number of hospitals\": \"data completion\", \"Percent of patients with data\": 94.84978540772532}, {\"Number of hospitals\": \"data completion\", \"Percent of patients with data\": 99.09909909909909}, {\"Number of hospitals\": \"data completion\", \"Percent of patients with data\": 99.53488372093024}, {\"Number of hospitals\": \"data completion\", \"Percent of patients with data\": 93.42105263157895}, {\"Number of hospitals\": \"data completion\", \"Percent of patients with data\": 98.15668202764977}, {\"Number of hospitals\": \"data completion\", \"Percent of patients with data\": 99.52380952380952}, {\"Number of hospitals\": \"data completion\", \"Percent of patients with data\": 100.0}, {\"Number of hospitals\": \"data completion\", \"Percent of patients with data\": 99.48186528497409}, {\"Number of hospitals\": \"data completion\", \"Percent of patients with data\": 98.30508474576271}, {\"Number of hospitals\": \"data completion\", \"Percent of patients with data\": 100.0}, {\"Number of hospitals\": \"data completion\", \"Percent of patients with data\": 98.125}, {\"Number of hospitals\": \"data completion\", \"Percent of patients with data\": 88.06818181818183}, {\"Number of hospitals\": \"data completion\", \"Percent of patients with data\": 99.33774834437085}, {\"Number of hospitals\": \"data completion\", \"Percent of patients with data\": 65.45454545454545}, {\"Number of hospitals\": \"data completion\", \"Percent of patients with data\": 99.30555555555556}, {\"Number of hospitals\": \"data completion\", \"Percent of patients with data\": 100.0}, {\"Number of hospitals\": \"data completion\", \"Percent of patients with data\": 99.23664122137404}, {\"Number of hospitals\": \"data completion\", \"Percent of patients with data\": 100.0}, {\"Number of hospitals\": \"data completion\", \"Percent of patients with data\": 96.18320610687023}, {\"Number of hospitals\": \"data completion\", \"Percent of patients with data\": 99.19354838709677}, {\"Number of hospitals\": \"data completion\", \"Percent of patients with data\": 100.0}, {\"Number of hospitals\": \"data completion\", \"Percent of patients with data\": 87.38738738738738}, {\"Number of hospitals\": \"data completion\", \"Percent of patients with data\": 100.0}, {\"Number of hospitals\": \"data completion\", \"Percent of patients with data\": 93.82716049382715}, {\"Number of hospitals\": \"data completion\", \"Percent of patients with data\": 100.0}, {\"Number of hospitals\": \"data completion\", \"Percent of patients with data\": 100.0}, {\"Number of hospitals\": \"data completion\", \"Percent of patients with data\": 100.0}, {\"Number of hospitals\": \"data completion\", \"Percent of patients with data\": 100.0}, {\"Number of hospitals\": \"data completion\", \"Percent of patients with data\": 100.0}, {\"Number of hospitals\": \"data completion\", \"Percent of patients with data\": 100.0}, {\"Number of hospitals\": \"data completion\", \"Percent of patients with data\": 98.21428571428571}, {\"Number of hospitals\": \"data completion\", \"Percent of patients with data\": 78.78787878787878}, {\"Number of hospitals\": \"data completion\", \"Percent of patients with data\": 98.11320754716981}, {\"Number of hospitals\": \"data completion\", \"Percent of patients with data\": 72.85714285714285}, {\"Number of hospitals\": \"data completion\", \"Percent of patients with data\": 94.44444444444444}, {\"Number of hospitals\": \"data completion\", \"Percent of patients with data\": 97.72727272727273}, {\"Number of hospitals\": \"data completion\", \"Percent of patients with data\": 100.0}, {\"Number of hospitals\": \"data completion\", \"Percent of patients with data\": 92.3076923076923}, {\"Number of hospitals\": \"data completion\", \"Percent of patients with data\": 100.0}, {\"Number of hospitals\": \"data completion\", \"Percent of patients with data\": 93.93939393939394}, {\"Number of hospitals\": \"data completion\", \"Percent of patients with data\": 95.65217391304348}, {\"Number of hospitals\": \"data completion\", \"Percent of patients with data\": 100.0}, {\"Number of hospitals\": \"data completion\", \"Percent of patients with data\": 100.0}, {\"Number of hospitals\": \"data completion\", \"Percent of patients with data\": 100.0}, {\"Number of hospitals\": \"data completion\", \"Percent of patients with data\": 100.0}, {\"Number of hospitals\": \"data completion\", \"Percent of patients with data\": 93.33333333333333}, {\"Number of hospitals\": \"data completion\", \"Percent of patients with data\": 92.85714285714286}, {\"Number of hospitals\": \"data completion\", \"Percent of patients with data\": 48.148148148148145}, {\"Number of hospitals\": \"data completion\", \"Percent of patients with data\": 80.0}, {\"Number of hospitals\": \"data completion\", \"Percent of patients with data\": 100.0}, {\"Number of hospitals\": \"data completion\", \"Percent of patients with data\": 76.92307692307693}, {\"Number of hospitals\": \"data completion\", \"Percent of patients with data\": 100.0}, {\"Number of hospitals\": \"data completion\", \"Percent of patients with data\": 100.0}, {\"Number of hospitals\": \"data completion\", \"Percent of patients with data\": 66.66666666666666}, {\"Number of hospitals\": \"data completion\", \"Percent of patients with data\": 0.0}]}, \"$schema\": \"https://vega.github.io/schema/vega-lite/v2.json\", \"encoding\": {\"color\": {\"field\": \"Number of hospitals\", \"type\": \"nominal\"}, \"x\": {\"field\": \"Percent of patients with data\", \"bin\": {\"maxbins\": 10}, \"type\": \"quantitative\"}, \"y\": {\"type\": \"quantitative\", \"aggregate\": \"count\", \"stack\": null}}, \"mark\": \"bar\", \"height\": 300, \"selection\": {\"grid\": {\"type\": \"interval\", \"bind\": \"scales\"}}, \"width\": 450};\nvar selector = \"#af377dc8-94ca-45f2-abdb-2f8a7c207a59\";\nvar type = \"vega-lite\";\n\nvar output_area = this;\nrequire(['nbextensions/jupyter-vega3/index'], function(vega) {\n  vega.render(selector, spec, type, output_area);\n}, function (err) {\n  if (err.requireType !== 'scripterror') {\n    throw(err);\n  }\n});\n"
     },
     "metadata": {
      "jupyter-vega3": "#af377dc8-94ca-45f2-abdb-2f8a7c207a59"
     },
     "output_type": "display_data"
    },
    {
     "data": {
      "image/png": "[encoded data removed]"
     },
     "metadata": {
      "jupyter-vega3": "#af377dc8-94ca-45f2-abdb-2f8a7c207a59"
     },
     "output_type": "display_data"
    }
   ],
   "source": [
    "df[['data completion']].vgplot.hist(bins=10,\n",
    "                                    var_name='Number of hospitals',\n",
    "                                    value_name='Percent of patients with data')"
   ]
  },
  {
   "cell_type": "markdown",
   "metadata": {},
   "source": [
    "Above we can see that very few hospitals are missing lab data. Most of the data at < 90% data completion is driven by a few hospitals with very few patients. The majority of hospitals have 90-100% of patients with data in the lab table (right side of histogram, 0-90% bin)."
   ]
  }
 ],
 "metadata": {
  "front-matter": {
   "date": "2015-09-01",
   "linktitle": "admissiondrug",
   "title": "admissiondrug"
  },
  "kernelspec": {
   "display_name": "Python 3",
   "language": "python",
   "name": "python3"
  },
  "language_info": {
   "codemirror_mode": {
    "name": "ipython",
    "version": 3
   },
   "file_extension": ".py",
   "mimetype": "text/x-python",
   "name": "python",
   "nbconvert_exporter": "python",
   "pygments_lexer": "ipython3",
   "version": "3.12.3"
  }
 },
 "nbformat": 4,
 "nbformat_minor": 2
}

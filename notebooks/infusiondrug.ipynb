{
 "cells": [
  {
   "cell_type": "markdown",
   "metadata": {},
   "source": [
    "# infusionDrug\n",
    "\n",
    "Continuous infusions are documented here and are entered from the nursing flowsheet (either manually or interfaced from the hospital electronic health record system).\n",
    "\n",
    "Infusion drugs entered directly into the source system (eCareManager) by clinicians must include the concentration of the drug being infused. This is done by entering the \"drugAmount\" and \"volumeOfFluid\" and this is independent of the amount being infused (drugRate or infusionRate). Interfaced values from source EMRs may not contain the concentration."
   ]
  },
  {
   "cell_type": "code",
   "execution_count": 1,
   "metadata": {},
   "outputs": [],
   "source": [
    "# Import libraries\n",
    "import numpy as np\n",
    "import pandas as pd\n",
    "import matplotlib.pyplot as plt\n",
    "import psycopg2\n",
    "import getpass\n",
    "import pdvega\n",
    "\n",
    "# for configuring connection \n",
    "from configobj import ConfigObj\n",
    "import os\n",
    "\n",
    "%matplotlib inline"
   ]
  },
  {
   "cell_type": "code",
   "execution_count": 2,
   "metadata": {},
   "outputs": [
    {
     "name": "stdout",
     "output_type": "stream",
     "text": [
      "Database: eicu\n",
      "Username: postgres\n"
     ]
    }
   ],
   "source": [
    "# Create a database connection using settings from config file\n",
    "config='../db/config.ini'\n",
    "\n",
    "# connection info\n",
    "conn_info = dict()\n",
    "if os.path.isfile(config):\n",
    "    config = ConfigObj(config)\n",
    "    conn_info[\"sqluser\"] = config['username']\n",
    "    conn_info[\"sqlpass\"] = config['password']\n",
    "    conn_info[\"sqlhost\"] = config['host']\n",
    "    conn_info[\"sqlport\"] = config['port']\n",
    "    conn_info[\"dbname\"] = config['dbname']\n",
    "    conn_info[\"schema_name\"] = config['schema_name']\n",
    "else:\n",
    "    conn_info[\"sqluser\"] = 'postgres'\n",
    "    conn_info[\"sqlpass\"] = ''\n",
    "    conn_info[\"sqlhost\"] = 'localhost'\n",
    "    conn_info[\"sqlport\"] = 5432\n",
    "    conn_info[\"dbname\"] = 'eicu'\n",
    "    conn_info[\"schema_name\"] = 'public,eicu_crd'\n",
    "    \n",
    "# Connect to the eICU database\n",
    "print('Database: {}'.format(conn_info['dbname']))\n",
    "print('Username: {}'.format(conn_info[\"sqluser\"]))\n",
    "if conn_info[\"sqlpass\"] == '':\n",
    "    # try connecting without password, i.e. peer or OS authentication\n",
    "    try:\n",
    "        if (conn_info[\"sqlhost\"] == 'localhost') & (conn_info[\"sqlport\"]=='5432'):\n",
    "            con = psycopg2.connect(dbname=conn_info[\"dbname\"],\n",
    "                                   user=conn_info[\"sqluser\"])            \n",
    "        else:\n",
    "            con = psycopg2.connect(dbname=conn_info[\"dbname\"],\n",
    "                                   host=conn_info[\"sqlhost\"],\n",
    "                                   port=conn_info[\"sqlport\"],\n",
    "                                   user=conn_info[\"sqluser\"])\n",
    "    except:\n",
    "        conn_info[\"sqlpass\"] = getpass.getpass('Password: ')\n",
    "\n",
    "        con = psycopg2.connect(dbname=conn_info[\"dbname\"],\n",
    "                               host=conn_info[\"sqlhost\"],\n",
    "                               port=conn_info[\"sqlport\"],\n",
    "                               user=conn_info[\"sqluser\"],\n",
    "                               password=conn_info[\"sqlpass\"])\n",
    "query_schema = 'set search_path to ' + conn_info['schema_name'] + ';'"
   ]
  },
  {
   "cell_type": "code",
   "execution_count": 3,
   "metadata": {},
   "outputs": [],
   "source": [
    "from sqlalchemy import create_engine\n",
    "con= create_engine('postgresql://eicu@localhost:5432/eicu')"
   ]
  },
  {
   "cell_type": "markdown",
   "metadata": {},
   "source": [
    "## Examine a single patient"
   ]
  },
  {
   "cell_type": "code",
   "execution_count": 4,
   "metadata": {},
   "outputs": [],
   "source": [
    "patientunitstayid = 242380"
   ]
  },
  {
   "cell_type": "code",
   "execution_count": 5,
   "metadata": {
    "scrolled": true
   },
   "outputs": [
    {
     "data": {
      "text/html": [
       "<div>\n",
       "<style scoped>\n",
       "    .dataframe tbody tr th:only-of-type {\n",
       "        vertical-align: middle;\n",
       "    }\n",
       "\n",
       "    .dataframe tbody tr th {\n",
       "        vertical-align: top;\n",
       "    }\n",
       "\n",
       "    .dataframe thead th {\n",
       "        text-align: right;\n",
       "    }\n",
       "</style>\n",
       "<table border=\"1\" class=\"dataframe\">\n",
       "  <thead>\n",
       "    <tr style=\"text-align: right;\">\n",
       "      <th></th>\n",
       "      <th>infusiondrugid</th>\n",
       "      <th>patientunitstayid</th>\n",
       "      <th>infusionoffset</th>\n",
       "      <th>drugname</th>\n",
       "      <th>drugrate</th>\n",
       "      <th>infusionrate</th>\n",
       "      <th>drugamount</th>\n",
       "      <th>volumeoffluid</th>\n",
       "      <th>patientweight</th>\n",
       "    </tr>\n",
       "  </thead>\n",
       "  <tbody>\n",
       "    <tr>\n",
       "      <th>0</th>\n",
       "      <td>2001050</td>\n",
       "      <td>242380</td>\n",
       "      <td>59</td>\n",
       "      <td>Nitroglycerin (mcg/min)</td>\n",
       "      <td>10</td>\n",
       "      <td>3</td>\n",
       "      <td>50</td>\n",
       "      <td>250</td>\n",
       "      <td></td>\n",
       "    </tr>\n",
       "    <tr>\n",
       "      <th>1</th>\n",
       "      <td>1953142</td>\n",
       "      <td>242380</td>\n",
       "      <td>59</td>\n",
       "      <td>Heparin (units/hr)</td>\n",
       "      <td>1000</td>\n",
       "      <td>20</td>\n",
       "      <td>25000</td>\n",
       "      <td>500</td>\n",
       "      <td></td>\n",
       "    </tr>\n",
       "    <tr>\n",
       "      <th>2</th>\n",
       "      <td>1973839</td>\n",
       "      <td>242380</td>\n",
       "      <td>239</td>\n",
       "      <td>Nitroglycerin (mcg/min)</td>\n",
       "      <td>20</td>\n",
       "      <td>6</td>\n",
       "      <td>50</td>\n",
       "      <td>250</td>\n",
       "      <td></td>\n",
       "    </tr>\n",
       "    <tr>\n",
       "      <th>3</th>\n",
       "      <td>1951808</td>\n",
       "      <td>242380</td>\n",
       "      <td>239</td>\n",
       "      <td>Heparin (units/hr)</td>\n",
       "      <td>1000</td>\n",
       "      <td>20</td>\n",
       "      <td>25000</td>\n",
       "      <td>500</td>\n",
       "      <td></td>\n",
       "    </tr>\n",
       "    <tr>\n",
       "      <th>4</th>\n",
       "      <td>1977744</td>\n",
       "      <td>242380</td>\n",
       "      <td>419</td>\n",
       "      <td>Nitroglycerin (mcg/min)</td>\n",
       "      <td>0</td>\n",
       "      <td>0</td>\n",
       "      <td>50</td>\n",
       "      <td>250</td>\n",
       "      <td></td>\n",
       "    </tr>\n",
       "  </tbody>\n",
       "</table>\n",
       "</div>"
      ],
      "text/plain": [
       "   infusiondrugid  patientunitstayid  infusionoffset                 drugname  \\\n",
       "0         2001050             242380              59  Nitroglycerin (mcg/min)   \n",
       "1         1953142             242380              59       Heparin (units/hr)   \n",
       "2         1973839             242380             239  Nitroglycerin (mcg/min)   \n",
       "3         1951808             242380             239       Heparin (units/hr)   \n",
       "4         1977744             242380             419  Nitroglycerin (mcg/min)   \n",
       "\n",
       "  drugrate infusionrate drugamount volumeoffluid patientweight  \n",
       "0       10            3         50           250                \n",
       "1     1000           20      25000           500                \n",
       "2       20            6         50           250                \n",
       "3     1000           20      25000           500                \n",
       "4        0            0         50           250                "
      ]
     },
     "execution_count": 5,
     "metadata": {},
     "output_type": "execute_result"
    }
   ],
   "source": [
    "query = query_schema + \"\"\"\n",
    "select *\n",
    "from infusiondrug\n",
    "where patientunitstayid = {}\n",
    "order by infusionoffset\n",
    "\"\"\".format(patientunitstayid)\n",
    "\n",
    "df = pd.read_sql_query(query, con)\n",
    "df.head()"
   ]
  },
  {
   "cell_type": "markdown",
   "metadata": {},
   "source": [
    "Above we can see a patient is admitted on (or quickly administered after admission) two drugs: nitroglycerin and heparin. The `drugrate` contains the infusion rate (1000 units/hr for herparin, 10 mcg/min for nitroglycerin). Further, the `drugamount` and `volumeoffluid` likely indicate the contents of the bag holding the fluid: a 500 mL bag containing a total of 25,000 units for heparin, and a 250 mL bag containing a total of 50 mg of nitroglycerin (note the unit change between the rate/amount in the nitroglycerin bag).\n",
    "\n",
    "Sometimes patient drugs are dosed by weight - in those cases, the `patientweight` column would be populated."
   ]
  },
  {
   "cell_type": "markdown",
   "metadata": {},
   "source": [
    "## Hospitals with data available"
   ]
  },
  {
   "cell_type": "code",
   "execution_count": 6,
   "metadata": {},
   "outputs": [
    {
     "data": {
      "text/html": [
       "<div>\n",
       "<style scoped>\n",
       "    .dataframe tbody tr th:only-of-type {\n",
       "        vertical-align: middle;\n",
       "    }\n",
       "\n",
       "    .dataframe tbody tr th {\n",
       "        vertical-align: top;\n",
       "    }\n",
       "\n",
       "    .dataframe thead th {\n",
       "        text-align: right;\n",
       "    }\n",
       "</style>\n",
       "<table border=\"1\" class=\"dataframe\">\n",
       "  <thead>\n",
       "    <tr style=\"text-align: right;\">\n",
       "      <th></th>\n",
       "      <th>hospitalid</th>\n",
       "      <th>number_of_patients</th>\n",
       "      <th>number_of_patients_with_tbl</th>\n",
       "      <th>data completion</th>\n",
       "    </tr>\n",
       "  </thead>\n",
       "  <tbody>\n",
       "    <tr>\n",
       "      <th>65</th>\n",
       "      <td>188</td>\n",
       "      <td>3601</td>\n",
       "      <td>3314</td>\n",
       "      <td>92.029992</td>\n",
       "    </tr>\n",
       "    <tr>\n",
       "      <th>184</th>\n",
       "      <td>420</td>\n",
       "      <td>4679</td>\n",
       "      <td>3134</td>\n",
       "      <td>66.980124</td>\n",
       "    </tr>\n",
       "    <tr>\n",
       "      <th>90</th>\n",
       "      <td>243</td>\n",
       "      <td>4243</td>\n",
       "      <td>2738</td>\n",
       "      <td>64.529814</td>\n",
       "    </tr>\n",
       "    <tr>\n",
       "      <th>134</th>\n",
       "      <td>338</td>\n",
       "      <td>4277</td>\n",
       "      <td>2533</td>\n",
       "      <td>59.223755</td>\n",
       "    </tr>\n",
       "    <tr>\n",
       "      <th>54</th>\n",
       "      <td>167</td>\n",
       "      <td>6092</td>\n",
       "      <td>2461</td>\n",
       "      <td>40.397242</td>\n",
       "    </tr>\n",
       "    <tr>\n",
       "      <th>119</th>\n",
       "      <td>281</td>\n",
       "      <td>2531</td>\n",
       "      <td>2244</td>\n",
       "      <td>88.660608</td>\n",
       "    </tr>\n",
       "    <tr>\n",
       "      <th>122</th>\n",
       "      <td>300</td>\n",
       "      <td>3617</td>\n",
       "      <td>1827</td>\n",
       "      <td>50.511474</td>\n",
       "    </tr>\n",
       "    <tr>\n",
       "      <th>121</th>\n",
       "      <td>283</td>\n",
       "      <td>2097</td>\n",
       "      <td>1805</td>\n",
       "      <td>86.075346</td>\n",
       "    </tr>\n",
       "    <tr>\n",
       "      <th>58</th>\n",
       "      <td>176</td>\n",
       "      <td>4328</td>\n",
       "      <td>1793</td>\n",
       "      <td>41.427911</td>\n",
       "    </tr>\n",
       "    <tr>\n",
       "      <th>98</th>\n",
       "      <td>252</td>\n",
       "      <td>3371</td>\n",
       "      <td>1539</td>\n",
       "      <td>45.654109</td>\n",
       "    </tr>\n",
       "  </tbody>\n",
       "</table>\n",
       "</div>"
      ],
      "text/plain": [
       "     hospitalid  number_of_patients  number_of_patients_with_tbl  \\\n",
       "65          188                3601                         3314   \n",
       "184         420                4679                         3134   \n",
       "90          243                4243                         2738   \n",
       "134         338                4277                         2533   \n",
       "54          167                6092                         2461   \n",
       "119         281                2531                         2244   \n",
       "122         300                3617                         1827   \n",
       "121         283                2097                         1805   \n",
       "58          176                4328                         1793   \n",
       "98          252                3371                         1539   \n",
       "\n",
       "     data completion  \n",
       "65         92.029992  \n",
       "184        66.980124  \n",
       "90         64.529814  \n",
       "134        59.223755  \n",
       "54         40.397242  \n",
       "119        88.660608  \n",
       "122        50.511474  \n",
       "121        86.075346  \n",
       "58         41.427911  \n",
       "98         45.654109  "
      ]
     },
     "execution_count": 6,
     "metadata": {},
     "output_type": "execute_result"
    }
   ],
   "source": [
    "query = query_schema + \"\"\"\n",
    "select \n",
    "  pt.hospitalid\n",
    "  , count(distinct pt.patientunitstayid) as number_of_patients\n",
    "  , count(distinct d.patientunitstayid) as number_of_patients_with_tbl\n",
    "from patient pt\n",
    "left join infusiondrug d\n",
    "  on pt.patientunitstayid = d.patientunitstayid\n",
    "group by pt.hospitalid\n",
    "\"\"\".format(patientunitstayid)\n",
    "\n",
    "df = pd.read_sql_query(query, con)\n",
    "df['data completion'] = df['number_of_patients_with_tbl'] / df['number_of_patients'] * 100.0\n",
    "df.sort_values('number_of_patients_with_tbl', ascending=False, inplace=True)\n",
    "df.head(n=10)"
   ]
  },
  {
   "cell_type": "code",
   "execution_count": 10,
   "metadata": {},
   "outputs": [
    {
     "data": {
      "image/png": "[encoded data removed]",
      "text/plain": [
       "<Figure size 640x480 with 1 Axes>"
      ]
     },
     "metadata": {},
     "output_type": "display_data"
    }
   ],
   "source": [
    "bins = [0, 10, 20, 30, 40, 50, 60, 70, 80, 90, 100]\n",
    "plt.hist(df['data completion'], bins=bins, alpha=0.6, label='data completion', stacked=False, edgecolor='black')\n",
    "\n",
    "# Set axis labels and title\n",
    "plt.xlabel('Percent of patients with data (binned)')\n",
    "plt.ylabel('Number of hospitals')\n",
    "\n",
    "# Add the legend\n",
    "plt.legend(title='Number of hospitals')\n",
    "\n",
    "# Display the plot\n",
    "plt.show()"
   ]
  },
  {
   "cell_type": "code",
   "execution_count": 6,
   "metadata": {
    "scrolled": false
   },
   "outputs": [
    {
     "data": {
      "text/html": [
       "<div class=\"vega-embed\" id=\"ca5f6394-aa13-41c7-86e3-e0f258b1446a\"></div>\n",
       "\n",
       "<style>\n",
       ".vega-embed svg, .vega-embed canvas {\n",
       "  border: 1px dotted gray;\n",
       "}\n",
       "\n",
       ".vega-embed .vega-actions a {\n",
       "  margin-right: 6px;\n",
       "}\n",
       "</style>\n"
      ]
     },
     "metadata": {
      "jupyter-vega3": "#ca5f6394-aa13-41c7-86e3-e0f258b1446a"
     },
     "output_type": "display_data"
    },
    {
     "data": {
      "application/javascript": "var spec = {\"$schema\": \"https://vega.github.io/schema/vega-lite/v2.json\", \"mark\": \"bar\", \"height\": 300, \"encoding\": {\"y\": {\"aggregate\": \"count\", \"type\": \"quantitative\", \"stack\": null}, \"color\": {\"type\": \"nominal\", \"field\": \"Number of hospitals\"}, \"x\": {\"bin\": {\"maxbins\": 10}, \"type\": \"quantitative\", \"field\": \"Percent of patients with data\"}}, \"selection\": {\"grid\": {\"bind\": \"scales\", \"type\": \"interval\"}}, \"data\": {\"values\": [{\"Number of hospitals\": \"data completion\", \"Percent of patients with data\": 92.02999166898084}, {\"Number of hospitals\": \"data completion\", \"Percent of patients with data\": 66.98012395811071}, {\"Number of hospitals\": \"data completion\", \"Percent of patients with data\": 64.5298138109828}, {\"Number of hospitals\": \"data completion\", \"Percent of patients with data\": 59.22375496843581}, {\"Number of hospitals\": \"data completion\", \"Percent of patients with data\": 40.39724228496389}, {\"Number of hospitals\": \"data completion\", \"Percent of patients with data\": 88.66060845515607}, {\"Number of hospitals\": \"data completion\", \"Percent of patients with data\": 50.511473596903514}, {\"Number of hospitals\": \"data completion\", \"Percent of patients with data\": 86.07534573199808}, {\"Number of hospitals\": \"data completion\", \"Percent of patients with data\": 41.427911275415894}, {\"Number of hospitals\": \"data completion\", \"Percent of patients with data\": 45.6541085731237}, {\"Number of hospitals\": \"data completion\", \"Percent of patients with data\": 69.64795432921026}, {\"Number of hospitals\": \"data completion\", \"Percent of patients with data\": 46.24959056665575}, {\"Number of hospitals\": \"data completion\", \"Percent of patients with data\": 48.31655675112808}, {\"Number of hospitals\": \"data completion\", \"Percent of patients with data\": 78.00224466891133}, {\"Number of hospitals\": \"data completion\", \"Percent of patients with data\": 30.919811320754715}, {\"Number of hospitals\": \"data completion\", \"Percent of patients with data\": 62.752646775745916}, {\"Number of hospitals\": \"data completion\", \"Percent of patients with data\": 89.11845730027548}, {\"Number of hospitals\": \"data completion\", \"Percent of patients with data\": 60.32786885245902}, {\"Number of hospitals\": \"data completion\", \"Percent of patients with data\": 33.80167522291273}, {\"Number of hospitals\": \"data completion\", \"Percent of patients with data\": 57.58293838862559}, {\"Number of hospitals\": \"data completion\", \"Percent of patients with data\": 59.03061224489796}, {\"Number of hospitals\": \"data completion\", \"Percent of patients with data\": 38.83149269682936}, {\"Number of hospitals\": \"data completion\", \"Percent of patients with data\": 67.4818241903503}, {\"Number of hospitals\": \"data completion\", \"Percent of patients with data\": 48.37476099426386}, {\"Number of hospitals\": \"data completion\", \"Percent of patients with data\": 57.508532423208194}, {\"Number of hospitals\": \"data completion\", \"Percent of patients with data\": 19.133091464578957}, {\"Number of hospitals\": \"data completion\", \"Percent of patients with data\": 52.83324338909876}, {\"Number of hospitals\": \"data completion\", \"Percent of patients with data\": 85.43956043956044}, {\"Number of hospitals\": \"data completion\", \"Percent of patients with data\": 87.78103616813294}, {\"Number of hospitals\": \"data completion\", \"Percent of patients with data\": 47.626666666666665}, {\"Number of hospitals\": \"data completion\", \"Percent of patients with data\": 50.028620492272466}, {\"Number of hospitals\": \"data completion\", \"Percent of patients with data\": 43.675787299948375}, {\"Number of hospitals\": \"data completion\", \"Percent of patients with data\": 86.6948257655755}, {\"Number of hospitals\": \"data completion\", \"Percent of patients with data\": 52.295918367346935}, {\"Number of hospitals\": \"data completion\", \"Percent of patients with data\": 60.837070254110614}, {\"Number of hospitals\": \"data completion\", \"Percent of patients with data\": 37.82358581016299}, {\"Number of hospitals\": \"data completion\", \"Percent of patients with data\": 85.19337016574585}, {\"Number of hospitals\": \"data completion\", \"Percent of patients with data\": 60.1010101010101}, {\"Number of hospitals\": \"data completion\", \"Percent of patients with data\": 44.230769230769226}, {\"Number of hospitals\": \"data completion\", \"Percent of patients with data\": 40.345649582836714}, {\"Number of hospitals\": \"data completion\", \"Percent of patients with data\": 58.03249097472924}, {\"Number of hospitals\": \"data completion\", \"Percent of patients with data\": 72.42562929061785}, {\"Number of hospitals\": \"data completion\", \"Percent of patients with data\": 62.729124236252545}, {\"Number of hospitals\": \"data completion\", \"Percent of patients with data\": 85.81460674157303}, {\"Number of hospitals\": \"data completion\", \"Percent of patients with data\": 78.099173553719}, {\"Number of hospitals\": \"data completion\", \"Percent of patients with data\": 42.9693637077769}, {\"Number of hospitals\": \"data completion\", \"Percent of patients with data\": 58.83620689655172}, {\"Number of hospitals\": \"data completion\", \"Percent of patients with data\": 46.06643356643357}, {\"Number of hospitals\": \"data completion\", \"Percent of patients with data\": 89.09710391822829}, {\"Number of hospitals\": \"data completion\", \"Percent of patients with data\": 39.68012185833968}, {\"Number of hospitals\": \"data completion\", \"Percent of patients with data\": 59.87951807228916}, {\"Number of hospitals\": \"data completion\", \"Percent of patients with data\": 49.69758064516129}, {\"Number of hospitals\": \"data completion\", \"Percent of patients with data\": 85.51483420593368}, {\"Number of hospitals\": \"data completion\", \"Percent of patients with data\": 44.739336492891}, {\"Number of hospitals\": \"data completion\", \"Percent of patients with data\": 47.5609756097561}, {\"Number of hospitals\": \"data completion\", \"Percent of patients with data\": 56.39464068209501}, {\"Number of hospitals\": \"data completion\", \"Percent of patients with data\": 34.41608662026295}, {\"Number of hospitals\": \"data completion\", \"Percent of patients with data\": 37.95688847235239}, {\"Number of hospitals\": \"data completion\", \"Percent of patients with data\": 63.04}, {\"Number of hospitals\": \"data completion\", \"Percent of patients with data\": 42.95774647887324}, {\"Number of hospitals\": \"data completion\", \"Percent of patients with data\": 58.91341256366724}, {\"Number of hospitals\": \"data completion\", \"Percent of patients with data\": 52.26130653266332}, {\"Number of hospitals\": \"data completion\", \"Percent of patients with data\": 81.26649076517151}, {\"Number of hospitals\": \"data completion\", \"Percent of patients with data\": 57.249070631970255}, {\"Number of hospitals\": \"data completion\", \"Percent of patients with data\": 38.04195804195804}, {\"Number of hospitals\": \"data completion\", \"Percent of patients with data\": 51.61290322580645}, {\"Number of hospitals\": \"data completion\", \"Percent of patients with data\": 54.04858299595142}, {\"Number of hospitals\": \"data completion\", \"Percent of patients with data\": 36.92946058091287}, {\"Number of hospitals\": \"data completion\", \"Percent of patients with data\": 7.287671232876712}, {\"Number of hospitals\": \"data completion\", \"Percent of patients with data\": 35.39703903095558}, {\"Number of hospitals\": \"data completion\", \"Percent of patients with data\": 47.08029197080292}, {\"Number of hospitals\": \"data completion\", \"Percent of patients with data\": 54.741379310344826}, {\"Number of hospitals\": \"data completion\", \"Percent of patients with data\": 79.73856209150327}, {\"Number of hospitals\": \"data completion\", \"Percent of patients with data\": 62.796833773087066}, {\"Number of hospitals\": \"data completion\", \"Percent of patients with data\": 43.91217564870259}, {\"Number of hospitals\": \"data completion\", \"Percent of patients with data\": 34.8122866894198}, {\"Number of hospitals\": \"data completion\", \"Percent of patients with data\": 45.41387024608501}, {\"Number of hospitals\": \"data completion\", \"Percent of patients with data\": 87.55760368663594}, {\"Number of hospitals\": \"data completion\", \"Percent of patients with data\": 25.0}, {\"Number of hospitals\": \"data completion\", \"Percent of patients with data\": 26.62807525325615}, {\"Number of hospitals\": \"data completion\", \"Percent of patients with data\": 31.993006993006993}, {\"Number of hospitals\": \"data completion\", \"Percent of patients with data\": 36.63967611336032}, {\"Number of hospitals\": \"data completion\", \"Percent of patients with data\": 53.35365853658537}, {\"Number of hospitals\": \"data completion\", \"Percent of patients with data\": 63.81322957198443}, {\"Number of hospitals\": \"data completion\", \"Percent of patients with data\": 27.364864864864863}, {\"Number of hospitals\": \"data completion\", \"Percent of patients with data\": 91.22807017543859}, {\"Number of hospitals\": \"data completion\", \"Percent of patients with data\": 25.636672325976228}, {\"Number of hospitals\": \"data completion\", \"Percent of patients with data\": 25.426621160409557}, {\"Number of hospitals\": \"data completion\", \"Percent of patients with data\": 24.869565217391305}, {\"Number of hospitals\": \"data completion\", \"Percent of patients with data\": 30.024213075060537}, {\"Number of hospitals\": \"data completion\", \"Percent of patients with data\": 33.5149863760218}, {\"Number of hospitals\": \"data completion\", \"Percent of patients with data\": 33.89830508474576}, {\"Number of hospitals\": \"data completion\", \"Percent of patients with data\": 68.21192052980133}, {\"Number of hospitals\": \"data completion\", \"Percent of patients with data\": 18.857142857142858}, {\"Number of hospitals\": \"data completion\", \"Percent of patients with data\": 32.11920529801324}, {\"Number of hospitals\": \"data completion\", \"Percent of patients with data\": 26.536312849162012}, {\"Number of hospitals\": \"data completion\", \"Percent of patients with data\": 25.56179775280899}, {\"Number of hospitals\": \"data completion\", \"Percent of patients with data\": 40.93023255813954}, {\"Number of hospitals\": \"data completion\", \"Percent of patients with data\": 19.753086419753085}, {\"Number of hospitals\": \"data completion\", \"Percent of patients with data\": 18.627450980392158}, {\"Number of hospitals\": \"data completion\", \"Percent of patients with data\": 22.32704402515723}, {\"Number of hospitals\": \"data completion\", \"Percent of patients with data\": 27.450980392156865}, {\"Number of hospitals\": \"data completion\", \"Percent of patients with data\": 25.0}, {\"Number of hospitals\": \"data completion\", \"Percent of patients with data\": 26.222222222222225}, {\"Number of hospitals\": \"data completion\", \"Percent of patients with data\": 45.90163934426229}, {\"Number of hospitals\": \"data completion\", \"Percent of patients with data\": 29.943502824858758}, {\"Number of hospitals\": \"data completion\", \"Percent of patients with data\": 14.040114613180515}, {\"Number of hospitals\": \"data completion\", \"Percent of patients with data\": 35.87786259541985}, {\"Number of hospitals\": \"data completion\", \"Percent of patients with data\": 72.58064516129032}, {\"Number of hospitals\": \"data completion\", \"Percent of patients with data\": 20.952380952380953}, {\"Number of hospitals\": \"data completion\", \"Percent of patients with data\": 2.514890800794176}, {\"Number of hospitals\": \"data completion\", \"Percent of patients with data\": 15.450643776824036}, {\"Number of hospitals\": \"data completion\", \"Percent of patients with data\": 5.5910543130990416}, {\"Number of hospitals\": \"data completion\", \"Percent of patients with data\": 25.984251968503933}, {\"Number of hospitals\": \"data completion\", \"Percent of patients with data\": 14.864864864864865}, {\"Number of hospitals\": \"data completion\", \"Percent of patients with data\": 8.02919708029197}, {\"Number of hospitals\": \"data completion\", \"Percent of patients with data\": 4.411764705882353}, {\"Number of hospitals\": \"data completion\", \"Percent of patients with data\": 15.025906735751295}, {\"Number of hospitals\": \"data completion\", \"Percent of patients with data\": 50.0}, {\"Number of hospitals\": \"data completion\", \"Percent of patients with data\": 65.0}, {\"Number of hospitals\": \"data completion\", \"Percent of patients with data\": 47.16981132075472}, {\"Number of hospitals\": \"data completion\", \"Percent of patients with data\": 61.53846153846154}, {\"Number of hospitals\": \"data completion\", \"Percent of patients with data\": 6.940063091482649}, {\"Number of hospitals\": \"data completion\", \"Percent of patients with data\": 8.16326530612245}, {\"Number of hospitals\": \"data completion\", \"Percent of patients with data\": 31.147540983606557}, {\"Number of hospitals\": \"data completion\", \"Percent of patients with data\": 6.666666666666667}, {\"Number of hospitals\": \"data completion\", \"Percent of patients with data\": 51.61290322580645}, {\"Number of hospitals\": \"data completion\", \"Percent of patients with data\": 16.049382716049383}, {\"Number of hospitals\": \"data completion\", \"Percent of patients with data\": 2.93398533007335}, {\"Number of hospitals\": \"data completion\", \"Percent of patients with data\": 3.4682080924855487}, {\"Number of hospitals\": \"data completion\", \"Percent of patients with data\": 25.0}, {\"Number of hospitals\": \"data completion\", \"Percent of patients with data\": 0.8856682769726247}, {\"Number of hospitals\": \"data completion\", \"Percent of patients with data\": 35.0}, {\"Number of hospitals\": \"data completion\", \"Percent of patients with data\": 10.606060606060606}, {\"Number of hospitals\": \"data completion\", \"Percent of patients with data\": 28.57142857142857}, {\"Number of hospitals\": \"data completion\", \"Percent of patients with data\": 1.574803149606299}, {\"Number of hospitals\": \"data completion\", \"Percent of patients with data\": 33.33333333333333}, {\"Number of hospitals\": \"data completion\", \"Percent of patients with data\": 26.666666666666668}, {\"Number of hospitals\": \"data completion\", \"Percent of patients with data\": 14.814814814814813}, {\"Number of hospitals\": \"data completion\", \"Percent of patients with data\": 36.36363636363637}, {\"Number of hospitals\": \"data completion\", \"Percent of patients with data\": 9.090909090909092}, {\"Number of hospitals\": \"data completion\", \"Percent of patients with data\": 20.0}, {\"Number of hospitals\": \"data completion\", \"Percent of patients with data\": 33.33333333333333}, {\"Number of hospitals\": \"data completion\", \"Percent of patients with data\": 2.083333333333333}, {\"Number of hospitals\": \"data completion\", \"Percent of patients with data\": 0.18796992481203006}, {\"Number of hospitals\": \"data completion\", \"Percent of patients with data\": 0.11025358324145534}, {\"Number of hospitals\": \"data completion\", \"Percent of patients with data\": 0.20597322348094746}, {\"Number of hospitals\": \"data completion\", \"Percent of patients with data\": 14.285714285714285}, {\"Number of hospitals\": \"data completion\", \"Percent of patients with data\": 1.4285714285714286}, {\"Number of hospitals\": \"data completion\", \"Percent of patients with data\": 0.5050505050505051}, {\"Number of hospitals\": \"data completion\", \"Percent of patients with data\": 0.45454545454545453}, {\"Number of hospitals\": \"data completion\", \"Percent of patients with data\": 0.303951367781155}, {\"Number of hospitals\": \"data completion\", \"Percent of patients with data\": 0.0}, {\"Number of hospitals\": \"data completion\", \"Percent of patients with data\": 0.0}, {\"Number of hospitals\": \"data completion\", \"Percent of patients with data\": 0.0}, {\"Number of hospitals\": \"data completion\", \"Percent of patients with data\": 0.0}, {\"Number of hospitals\": \"data completion\", \"Percent of patients with data\": 0.0}, {\"Number of hospitals\": \"data completion\", \"Percent of patients with data\": 0.0}, {\"Number of hospitals\": \"data completion\", \"Percent of patients with data\": 0.0}, {\"Number of hospitals\": \"data completion\", \"Percent of patients with data\": 0.0}, {\"Number of hospitals\": \"data completion\", \"Percent of patients with data\": 0.0}, {\"Number of hospitals\": \"data completion\", \"Percent of patients with data\": 0.0}, {\"Number of hospitals\": \"data completion\", \"Percent of patients with data\": 0.0}, {\"Number of hospitals\": \"data completion\", \"Percent of patients with data\": 0.0}, {\"Number of hospitals\": \"data completion\", \"Percent of patients with data\": 0.0}, {\"Number of hospitals\": \"data completion\", \"Percent of patients with data\": 0.0}, {\"Number of hospitals\": \"data completion\", \"Percent of patients with data\": 0.0}, {\"Number of hospitals\": \"data completion\", \"Percent of patients with data\": 0.0}, {\"Number of hospitals\": \"data completion\", \"Percent of patients with data\": 0.0}, {\"Number of hospitals\": \"data completion\", \"Percent of patients with data\": 0.0}, {\"Number of hospitals\": \"data completion\", \"Percent of patients with data\": 0.0}, {\"Number of hospitals\": \"data completion\", \"Percent of patients with data\": 0.0}, {\"Number of hospitals\": \"data completion\", \"Percent of patients with data\": 0.0}, {\"Number of hospitals\": \"data completion\", \"Percent of patients with data\": 0.0}, {\"Number of hospitals\": \"data completion\", \"Percent of patients with data\": 0.0}, {\"Number of hospitals\": \"data completion\", \"Percent of patients with data\": 0.0}, {\"Number of hospitals\": \"data completion\", \"Percent of patients with data\": 0.0}, {\"Number of hospitals\": \"data completion\", \"Percent of patients with data\": 0.0}, {\"Number of hospitals\": \"data completion\", \"Percent of patients with data\": 0.0}, {\"Number of hospitals\": \"data completion\", \"Percent of patients with data\": 0.0}, {\"Number of hospitals\": \"data completion\", \"Percent of patients with data\": 0.0}, {\"Number of hospitals\": \"data completion\", \"Percent of patients with data\": 0.0}, {\"Number of hospitals\": \"data completion\", \"Percent of patients with data\": 0.0}, {\"Number of hospitals\": \"data completion\", \"Percent of patients with data\": 0.0}, {\"Number of hospitals\": \"data completion\", \"Percent of patients with data\": 0.0}, {\"Number of hospitals\": \"data completion\", \"Percent of patients with data\": 0.0}, {\"Number of hospitals\": \"data completion\", \"Percent of patients with data\": 0.0}, {\"Number of hospitals\": \"data completion\", \"Percent of patients with data\": 0.0}, {\"Number of hospitals\": \"data completion\", \"Percent of patients with data\": 0.0}, {\"Number of hospitals\": \"data completion\", \"Percent of patients with data\": 0.0}, {\"Number of hospitals\": \"data completion\", \"Percent of patients with data\": 0.0}, {\"Number of hospitals\": \"data completion\", \"Percent of patients with data\": 0.0}, {\"Number of hospitals\": \"data completion\", \"Percent of patients with data\": 0.0}, {\"Number of hospitals\": \"data completion\", \"Percent of patients with data\": 0.0}, {\"Number of hospitals\": \"data completion\", \"Percent of patients with data\": 0.0}, {\"Number of hospitals\": \"data completion\", \"Percent of patients with data\": 0.0}, {\"Number of hospitals\": \"data completion\", \"Percent of patients with data\": 0.0}, {\"Number of hospitals\": \"data completion\", \"Percent of patients with data\": 0.0}, {\"Number of hospitals\": \"data completion\", \"Percent of patients with data\": 0.0}, {\"Number of hospitals\": \"data completion\", \"Percent of patients with data\": 0.0}, {\"Number of hospitals\": \"data completion\", \"Percent of patients with data\": 0.0}, {\"Number of hospitals\": \"data completion\", \"Percent of patients with data\": 0.0}, {\"Number of hospitals\": \"data completion\", \"Percent of patients with data\": 0.0}, {\"Number of hospitals\": \"data completion\", \"Percent of patients with data\": 0.0}, {\"Number of hospitals\": \"data completion\", \"Percent of patients with data\": 0.0}, {\"Number of hospitals\": \"data completion\", \"Percent of patients with data\": 0.0}, {\"Number of hospitals\": \"data completion\", \"Percent of patients with data\": 0.0}, {\"Number of hospitals\": \"data completion\", \"Percent of patients with data\": 0.0}]}, \"width\": 450};\nvar selector = \"#ca5f6394-aa13-41c7-86e3-e0f258b1446a\";\nvar type = \"vega-lite\";\n\nvar output_area = this;\nrequire(['nbextensions/jupyter-vega3/index'], function(vega) {\n  vega.render(selector, spec, type, output_area);\n}, function (err) {\n  if (err.requireType !== 'scripterror') {\n    throw(err);\n  }\n});\n"
     },
     "metadata": {
      "jupyter-vega3": "#ca5f6394-aa13-41c7-86e3-e0f258b1446a"
     },
     "output_type": "display_data"
    },
    {
     "data": {
      "image/png": "[encoded data removed]"
     },
     "metadata": {
      "jupyter-vega3": "#ca5f6394-aa13-41c7-86e3-e0f258b1446a"
     },
     "output_type": "display_data"
    }
   ],
   "source": [
    "df[['data completion']].vgplot.hist(bins=10,\n",
    "                                    var_name='Number of hospitals',\n",
    "                                    value_name='Percent of patients with data')"
   ]
  },
  {
   "cell_type": "markdown",
   "metadata": {},
   "source": [
    "As is common in eICU-CRD, there are a subset of hospitals who routinely utilize this portion of the medical record (and thus have high data completion), while there are other hospitals who rarely use this interface and thus have poor data completion.\n",
    "\n",
    "The infusionDrug appears to be less frequently used, with over 100 hospitals having no data documented in the table. Conversely, over 40 hospitals have data in this table for all patients admitted."
   ]
  }
 ],
 "metadata": {
  "front-matter": {
   "date": "2015-09-01",
   "linktitle": "admissiondrug",
   "title": "admissiondrug"
  },
  "kernelspec": {
   "display_name": "Python 3",
   "language": "python",
   "name": "python3"
  },
  "language_info": {
   "codemirror_mode": {
    "name": "ipython",
    "version": 3
   },
   "file_extension": ".py",
   "mimetype": "text/x-python",
   "name": "python",
   "nbconvert_exporter": "python",
   "pygments_lexer": "ipython3",
   "version": "3.12.3"
  }
 },
 "nbformat": 4,
 "nbformat_minor": 2
}

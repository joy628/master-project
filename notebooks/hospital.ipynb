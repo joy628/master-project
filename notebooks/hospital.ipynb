{
 "cells": [
  {
   "cell_type": "markdown",
   "metadata": {},
   "source": [
    "# hospital\n",
    "\n",
    "The hospital table is a very simple table that summarizes high level hospital information. Unlike other tables, it does not contain any patient identifiers, and instead can only be joined to the patient table using `hospitalid`.\n",
    "\n",
    "**Note: many hospitals described in the hospital table have 0 patient admissions in the patient table**."
   ]
  },
  {
   "cell_type": "code",
   "execution_count": 1,
   "metadata": {},
   "outputs": [],
   "source": [
    "# Import libraries\n",
    "import numpy as np\n",
    "import pandas as pd\n",
    "import matplotlib.pyplot as plt\n",
    "import psycopg2\n",
    "import getpass\n",
    "import pdvega\n",
    "\n",
    "# for configuring connection \n",
    "from configobj import ConfigObj\n",
    "import os\n",
    "\n",
    "%matplotlib inline"
   ]
  },
  {
   "cell_type": "code",
   "execution_count": 2,
   "metadata": {},
   "outputs": [
    {
     "name": "stdout",
     "output_type": "stream",
     "text": [
      "Database: eicu\n",
      "Username: postgres\n"
     ]
    }
   ],
   "source": [
    "# Create a database connection using settings from config file\n",
    "config='../db/config.ini'\n",
    "\n",
    "# connection info\n",
    "conn_info = dict()\n",
    "if os.path.isfile(config):\n",
    "    config = ConfigObj(config)\n",
    "    conn_info[\"sqluser\"] = config['username']\n",
    "    conn_info[\"sqlpass\"] = config['password']\n",
    "    conn_info[\"sqlhost\"] = config['host']\n",
    "    conn_info[\"sqlport\"] = config['port']\n",
    "    conn_info[\"dbname\"] = config['dbname']\n",
    "    conn_info[\"schema_name\"] = config['schema_name']\n",
    "else:\n",
    "    conn_info[\"sqluser\"] = 'postgres'\n",
    "    conn_info[\"sqlpass\"] = ''\n",
    "    conn_info[\"sqlhost\"] = 'localhost'\n",
    "    conn_info[\"sqlport\"] = 5432\n",
    "    conn_info[\"dbname\"] = 'eicu'\n",
    "    conn_info[\"schema_name\"] = 'public,eicu_crd'\n",
    "    \n",
    "# Connect to the eICU database\n",
    "print('Database: {}'.format(conn_info['dbname']))\n",
    "print('Username: {}'.format(conn_info[\"sqluser\"]))\n",
    "if conn_info[\"sqlpass\"] == '':\n",
    "    # try connecting without password, i.e. peer or OS authentication\n",
    "    try:\n",
    "        if (conn_info[\"sqlhost\"] == 'localhost') & (conn_info[\"sqlport\"]=='5432'):\n",
    "            con = psycopg2.connect(dbname=conn_info[\"dbname\"],\n",
    "                                   user=conn_info[\"sqluser\"])            \n",
    "        else:\n",
    "            con = psycopg2.connect(dbname=conn_info[\"dbname\"],\n",
    "                                   host=conn_info[\"sqlhost\"],\n",
    "                                   port=conn_info[\"sqlport\"],\n",
    "                                   user=conn_info[\"sqluser\"])\n",
    "    except:\n",
    "        conn_info[\"sqlpass\"] = getpass.getpass('Password: ')\n",
    "\n",
    "        con = psycopg2.connect(dbname=conn_info[\"dbname\"],\n",
    "                               host=conn_info[\"sqlhost\"],\n",
    "                               port=conn_info[\"sqlport\"],\n",
    "                               user=conn_info[\"sqluser\"],\n",
    "                               password=conn_info[\"sqlpass\"])\n",
    "query_schema = 'set search_path to ' + conn_info['schema_name'] + ';'"
   ]
  },
  {
   "cell_type": "code",
   "execution_count": 3,
   "metadata": {},
   "outputs": [],
   "source": [
    "from sqlalchemy import create_engine\n",
    "con= create_engine('postgresql://eicu@localhost:5432/eicu')"
   ]
  },
  {
   "cell_type": "code",
   "execution_count": 34,
   "metadata": {},
   "outputs": [],
   "source": [
    "pd.options.display.max_rows=None#Notebook 的一个cell的显示行数\n",
    "pd.options.display.max_columns=None#Notebook 的一个cell的显示列数"
   ]
  },
  {
   "cell_type": "markdown",
   "metadata": {},
   "source": [
    "## Compare data completion for hospitals with and without admissions"
   ]
  },
  {
   "cell_type": "markdown",
   "metadata": {},
   "source": [
    "coalesce\n",
    "- 将控制替换成其他值\n",
    "- 返回第一个非空值\n",
    "- COALESCE是一个函数， (expression_1, expression_2, ...,expression_n)依次参考各参数表达式，\n",
    "<br>遇到非null值即停止并返回该值。如果所有的表达式都是空值，最终将返回一个空值。使用COALESCE在于大部分包含空值的表达式最终将返回空值\n",
    "<br> select coalesce(success_cnt, 1) from tableA\n",
    "<br> 当success_cnt 为null值的时候，将返回1，否则将返回success_cnt的真实值。\n",
    "\n"
   ]
  },
  {
   "cell_type": "code",
   "execution_count": 4,
   "metadata": {
    "scrolled": true
   },
   "outputs": [
    {
     "data": {
      "text/html": [
       "<div>\n",
       "<style scoped>\n",
       "    .dataframe tbody tr th:only-of-type {\n",
       "        vertical-align: middle;\n",
       "    }\n",
       "\n",
       "    .dataframe tbody tr th {\n",
       "        vertical-align: top;\n",
       "    }\n",
       "\n",
       "    .dataframe thead th {\n",
       "        text-align: right;\n",
       "    }\n",
       "</style>\n",
       "<table border=\"1\" class=\"dataframe\">\n",
       "  <thead>\n",
       "    <tr style=\"text-align: right;\">\n",
       "      <th></th>\n",
       "      <th>hospitalid</th>\n",
       "      <th>numbedscategory</th>\n",
       "      <th>teachingstatus</th>\n",
       "      <th>region</th>\n",
       "      <th>n</th>\n",
       "    </tr>\n",
       "  </thead>\n",
       "  <tbody>\n",
       "    <tr>\n",
       "      <th>0</th>\n",
       "      <td>56</td>\n",
       "      <td>&lt;100</td>\n",
       "      <td>False</td>\n",
       "      <td>Midwest</td>\n",
       "      <td>325</td>\n",
       "    </tr>\n",
       "    <tr>\n",
       "      <th>1</th>\n",
       "      <td>58</td>\n",
       "      <td>100 - 249</td>\n",
       "      <td>False</td>\n",
       "      <td>Midwest</td>\n",
       "      <td>321</td>\n",
       "    </tr>\n",
       "    <tr>\n",
       "      <th>2</th>\n",
       "      <td>59</td>\n",
       "      <td>&lt;100</td>\n",
       "      <td>False</td>\n",
       "      <td>Midwest</td>\n",
       "      <td>854</td>\n",
       "    </tr>\n",
       "    <tr>\n",
       "      <th>3</th>\n",
       "      <td>60</td>\n",
       "      <td>&lt;100</td>\n",
       "      <td>False</td>\n",
       "      <td>Midwest</td>\n",
       "      <td>458</td>\n",
       "    </tr>\n",
       "    <tr>\n",
       "      <th>4</th>\n",
       "      <td>61</td>\n",
       "      <td>&lt;100</td>\n",
       "      <td>False</td>\n",
       "      <td>Midwest</td>\n",
       "      <td>233</td>\n",
       "    </tr>\n",
       "  </tbody>\n",
       "</table>\n",
       "</div>"
      ],
      "text/plain": [
       "   hospitalid numbedscategory  teachingstatus   region    n\n",
       "0          56            <100           False  Midwest  325\n",
       "1          58       100 - 249           False  Midwest  321\n",
       "2          59            <100           False  Midwest  854\n",
       "3          60            <100           False  Midwest  458\n",
       "4          61            <100           False  Midwest  233"
      ]
     },
     "execution_count": 4,
     "metadata": {},
     "output_type": "execute_result"
    }
   ],
   "source": [
    "query = query_schema + \"\"\"\n",
    "with tt as\n",
    "(\n",
    "select hospitalid, count(*) as n\n",
    "from patient\n",
    "group by hospitalid\n",
    ")\n",
    "select h.*, coalesce(tt.n, 0) as n\n",
    "from hospital h\n",
    "left join tt\n",
    "on h.hospitalid = tt.hospitalid\n",
    "\"\"\"\n",
    "\n",
    "# query = query_schema + \"\"\"\n",
    "# with tt as\n",
    "# (\n",
    "# select hospitalid, count(*) as n\n",
    "# from patient\n",
    "# group by hospitalid\n",
    "# )\n",
    "# select h.*, \n",
    "#     case \n",
    "#         when tt.n is not null then tt.n \n",
    "#         else 0 \n",
    "#     end as n\n",
    "# from hospital h\n",
    "# left join tt\n",
    "# on h.hospitalid = tt.hospitalid\n",
    "# \"\"\"\n",
    "df = pd.read_sql_query(query, con)\n",
    "df.head(n=5)"
   ]
  },
  {
   "cell_type": "code",
   "execution_count": 5,
   "metadata": {},
   "outputs": [
    {
     "name": "stdout",
     "output_type": "stream",
     "text": [
      "0 hospitals have 0 admissions.\n"
     ]
    }
   ],
   "source": [
    "print('{} hospitals have 0 admissions.'.format(df.loc[df['n']==0,'hospitalid'].nunique()))\n"
   ]
  },
  {
   "cell_type": "markdown",
   "metadata": {},
   "source": [
    "## Data completion among hospitals with admissions\n",
    "\n",
    "First impute 'missing' so that our groupby reports on the number of hospitals with missing data. Also, we define a convenience function for reporting the absolute count and percent of the total."
   ]
  },
  {
   "cell_type": "code",
   "execution_count": 19,
   "metadata": {},
   "outputs": [],
   "source": [
    "def count_with_percent(x, N):\n",
    "    return '{:3d} ({:5.2f}%)'.format(x.count(), x.count()*100.0/N)"
   ]
  },
  {
   "cell_type": "code",
   "execution_count": 20,
   "metadata": {},
   "outputs": [],
   "source": [
    "for c in ['region','numbedscategory','teachingstatus','region']:\n",
    "    # df[c].fillna('Missing',inplace=True)\n",
    "    df[c]= df[c].fillna('Missing')"
   ]
  },
  {
   "cell_type": "code",
   "execution_count": 28,
   "metadata": {},
   "outputs": [
    {
     "name": "stdout",
     "output_type": "stream",
     "text": [
      "\n",
      "region\n",
      "Midwest       70 (33.65%)\n",
      "Northeast     13 ( 6.25%)\n",
      "South         56 (26.92%)\n",
      "West          43 (20.67%)\n",
      "Name: hospitalid, dtype: object\n",
      "\n",
      "numbedscategory\n",
      "100 - 249     62 (29.81%)\n",
      "250 - 499     35 (16.83%)\n",
      "<100          46 (22.12%)\n",
      ">= 500        23 (11.06%)\n",
      "Name: hospitalid, dtype: object\n",
      "\n",
      "teachingstatus\n",
      "False    189 (90.87%)\n",
      "True      19 ( 9.13%)\n",
      "Name: hospitalid, dtype: object\n"
     ]
    }
   ],
   "source": [
    "idx = df['n']!=0\n",
    "N = np.sum(idx)\n",
    "\n",
    "for c in ['region','numbedscategory','teachingstatus']:\n",
    "    grp = df.loc[idx, :].groupby(c)['hospitalid']\n",
    "    \n",
    "    print('')\n",
    "    print(grp.apply(count_with_percent, N))"
   ]
  },
  {
   "cell_type": "markdown",
   "metadata": {},
   "source": [
    "Above we can see that the frequency of missing data ranges between 11-18% in the hospital table."
   ]
  }
 ],
 "metadata": {
  "front-matter": {
   "date": "2015-09-01",
   "linktitle": "admissiondrug",
   "title": "admissiondrug"
  },
  "kernelspec": {
   "display_name": "Python 3",
   "language": "python",
   "name": "python3"
  },
  "language_info": {
   "codemirror_mode": {
    "name": "ipython",
    "version": 3
   },
   "file_extension": ".py",
   "mimetype": "text/x-python",
   "name": "python",
   "nbconvert_exporter": "python",
   "pygments_lexer": "ipython3",
   "version": "3.12.3"
  }
 },
 "nbformat": 4,
 "nbformat_minor": 2
}

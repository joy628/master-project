{
 "cells": [
  {
   "cell_type": "code",
   "execution_count": 1,
   "metadata": {},
   "outputs": [],
   "source": [
    "# Import libraries\n",
    "import numpy as np\n",
    "import pandas as pd\n",
    "import matplotlib.pyplot as plt\n",
    "import psycopg2\n",
    "import getpass\n",
    "import seaborn as sns\n",
    "# for configuring connection \n",
    "from configobj import ConfigObj\n",
    "import os\n",
    "\n",
    "%matplotlib inline"
   ]
  },
  {
   "cell_type": "code",
   "execution_count": 2,
   "metadata": {},
   "outputs": [],
   "source": [
    "datadir = '/home/mei/nas/docker/dataset/EICU/eicu-collaborative-research-database-2.0/'\n",
    "porcesseddir2 = '/home/mei/nas/docker/processedData_2/'"
   ]
  },
  {
   "cell_type": "code",
   "execution_count": 3,
   "metadata": {},
   "outputs": [],
   "source": [
    "df=pd.read_csv(porcesseddir2 + 'embedded_pastHistory_sum.csv',index_col=0)"
   ]
  },
  {
   "cell_type": "code",
   "execution_count": 4,
   "metadata": {},
   "outputs": [],
   "source": [
    "from fasterrisk.fasterrisk import RiskScoreOptimizer, RiskScoreClassifier"
   ]
  },
  {
   "cell_type": "code",
   "execution_count": 5,
   "metadata": {},
   "outputs": [
    {
     "data": {
      "text/html": [
       "<div>\n",
       "<style scoped>\n",
       "    .dataframe tbody tr th:only-of-type {\n",
       "        vertical-align: middle;\n",
       "    }\n",
       "\n",
       "    .dataframe tbody tr th {\n",
       "        vertical-align: top;\n",
       "    }\n",
       "\n",
       "    .dataframe thead th {\n",
       "        text-align: right;\n",
       "    }\n",
       "</style>\n",
       "<table border=\"1\" class=\"dataframe\">\n",
       "  <thead>\n",
       "    <tr style=\"text-align: right;\">\n",
       "      <th></th>\n",
       "      <th>NoPatients</th>\n",
       "    </tr>\n",
       "    <tr>\n",
       "      <th>gender</th>\n",
       "      <th></th>\n",
       "    </tr>\n",
       "  </thead>\n",
       "  <tbody>\n",
       "    <tr>\n",
       "      <th>Female</th>\n",
       "      <td>25454</td>\n",
       "    </tr>\n",
       "    <tr>\n",
       "      <th>Male</th>\n",
       "      <td>28137</td>\n",
       "    </tr>\n",
       "    <tr>\n",
       "      <th>Unknown</th>\n",
       "      <td>3</td>\n",
       "    </tr>\n",
       "    <tr>\n",
       "      <th>NaN</th>\n",
       "      <td>18</td>\n",
       "    </tr>\n",
       "  </tbody>\n",
       "</table>\n",
       "</div>"
      ],
      "text/plain": [
       "         NoPatients\n",
       "gender             \n",
       "Female        25454\n",
       "Male          28137\n",
       "Unknown           3\n",
       "NaN              18"
      ]
     },
     "execution_count": 5,
     "metadata": {},
     "output_type": "execute_result"
    }
   ],
   "source": [
    "gender_distr_nan = df.groupby('gender', dropna = False)['gender'].size().to_frame('NoPatients')\n",
    "gender_distr_nan.head()"
   ]
  },
  {
   "cell_type": "code",
   "execution_count": 6,
   "metadata": {},
   "outputs": [
    {
     "data": {
      "text/html": [
       "<div>\n",
       "<style scoped>\n",
       "    .dataframe tbody tr th:only-of-type {\n",
       "        vertical-align: middle;\n",
       "    }\n",
       "\n",
       "    .dataframe tbody tr th {\n",
       "        vertical-align: top;\n",
       "    }\n",
       "\n",
       "    .dataframe thead th {\n",
       "        text-align: right;\n",
       "    }\n",
       "</style>\n",
       "<table border=\"1\" class=\"dataframe\">\n",
       "  <thead>\n",
       "    <tr style=\"text-align: right;\">\n",
       "      <th></th>\n",
       "      <th>NoPatients</th>\n",
       "    </tr>\n",
       "    <tr>\n",
       "      <th>unitdischargestatus</th>\n",
       "      <th></th>\n",
       "    </tr>\n",
       "  </thead>\n",
       "  <tbody>\n",
       "    <tr>\n",
       "      <th>Alive</th>\n",
       "      <td>50826</td>\n",
       "    </tr>\n",
       "    <tr>\n",
       "      <th>Expired</th>\n",
       "      <td>2783</td>\n",
       "    </tr>\n",
       "    <tr>\n",
       "      <th>NaN</th>\n",
       "      <td>3</td>\n",
       "    </tr>\n",
       "  </tbody>\n",
       "</table>\n",
       "</div>"
      ],
      "text/plain": [
       "                     NoPatients\n",
       "unitdischargestatus            \n",
       "Alive                     50826\n",
       "Expired                    2783\n",
       "NaN                           3"
      ]
     },
     "execution_count": 6,
     "metadata": {},
     "output_type": "execute_result"
    }
   ],
   "source": [
    "distr_nan = df.groupby('unitdischargestatus', dropna = False)['unitdischargestatus'].size().to_frame('NoPatients')\n",
    "distr_nan.head()"
   ]
  },
  {
   "cell_type": "code",
   "execution_count": 7,
   "metadata": {},
   "outputs": [
    {
     "name": "stdout",
     "output_type": "stream",
     "text": [
      "                                                    NoPatients\n",
      "apacheadmissiondx                                             \n",
      "ARDS-adult respiratory distress syndrome, non-c...         203\n",
      "Abdomen only trauma                                         34\n",
      "Abdomen/extremity trauma                                     7\n",
      "Abdomen/face trauma                                          1\n",
      "Abdomen/multiple trauma                                     29\n",
      "...                                                        ...\n",
      "Vascular surgery, other                                      8\n",
      "Ventriculostomy                                              1\n",
      "Weaning from mechanical ventilation (transfer f...          34\n",
      "Whipple-surgery for pancreatic cancer                        1\n",
      "NaN                                                        120\n",
      "\n",
      "[302 rows x 1 columns]\n"
     ]
    }
   ],
   "source": [
    "distr_nan = df.groupby('apacheadmissiondx', dropna = False)['apacheadmissiondx'].size().to_frame('NoPatients')\n",
    "print(distr_nan)"
   ]
  },
  {
   "cell_type": "code",
   "execution_count": 8,
   "metadata": {},
   "outputs": [
    {
     "name": "stdout",
     "output_type": "stream",
     "text": [
      "                 NoPatients\n",
      "admissionweight            \n",
      "0.0                       3\n",
      "0.5                       6\n",
      "0.6                       1\n",
      "1.5                       1\n",
      "1.9                       1\n",
      "...                     ...\n",
      "713.0                     1\n",
      "735.0                     1\n",
      "855.0                     1\n",
      "953.0                     1\n",
      "NaN                     961\n",
      "\n",
      "[2934 rows x 1 columns]\n"
     ]
    }
   ],
   "source": [
    "distr_nan = df.groupby('admissionweight', dropna = False)['admissionweight'].size().to_frame('NoPatients')\n",
    "print(distr_nan)"
   ]
  },
  {
   "cell_type": "code",
   "execution_count": 9,
   "metadata": {},
   "outputs": [
    {
     "name": "stdout",
     "output_type": "stream",
     "text": [
      "                 NoPatients\n",
      "dischargeweight            \n",
      "0.00                      5\n",
      "1.00                      4\n",
      "1.81                      1\n",
      "4.00                      1\n",
      "8.50                      1\n",
      "...                     ...\n",
      "305.60                    1\n",
      "318.74                    1\n",
      "328.20                    1\n",
      "340.00                    1\n",
      "NaN                   20468\n",
      "\n",
      "[4356 rows x 1 columns]\n"
     ]
    }
   ],
   "source": [
    "distr_nan = df.groupby('dischargeweight', dropna = False)['dischargeweight'].size().to_frame('NoPatients')\n",
    "print(distr_nan)"
   ]
  },
  {
   "cell_type": "markdown",
   "metadata": {},
   "source": [
    "# preprocessing data"
   ]
  },
  {
   "cell_type": "code",
   "execution_count": 5,
   "metadata": {},
   "outputs": [],
   "source": [
    "data=df.copy()\n",
    "# only keeps male and female \n",
    "data = data[data['gender'].isin(['Male', 'Female'])]\n",
    "# drop rows where 'unitdischargestatus','unitdischargelocation','apacheadmissiondx' is NaN\n",
    "data = data.dropna(subset=['unitdischargestatus','unitdischargelocation','apacheadmissiondx'])\n"
   ]
  },
  {
   "cell_type": "markdown",
   "metadata": {},
   "source": [
    "### encode apacheadmissiondx to graph structure"
   ]
  },
  {
   "cell_type": "code",
   "execution_count": 6,
   "metadata": {},
   "outputs": [],
   "source": [
    "data['apacheadmissiondx'] = data['apacheadmissiondx'].str.replace(\" \", \"\", regex=True)\n",
    "data['apacheadmissiondx'] = data['apacheadmissiondx'].str.replace(',', '/')\n",
    "split = data['apacheadmissiondx'].str.split('/')\n",
    "data['first'] = split.str[0]\n",
    "data['second'] = split.str[1]"
   ]
  },
  {
   "cell_type": "code",
   "execution_count": 7,
   "metadata": {},
   "outputs": [
    {
     "name": "stderr",
     "output_type": "stream",
     "text": [
      "Computing transition probabilities: 100%|██████████| 357/357 [00:00<00:00, 74566.33it/s]\n",
      "Generating walks (CPU: 1): 100%|██████████| 25/25 [00:00<00:00, 35.48it/s]\n",
      "Generating walks (CPU: 3): 100%|██████████| 25/25 [00:00<00:00, 36.28it/s]\n",
      "Generating walks (CPU: 2): 100%|██████████| 25/25 [00:00<00:00, 35.34it/s]\n",
      "Generating walks (CPU: 4): 100%|██████████| 25/25 [00:00<00:00, 36.12it/s]\n"
     ]
    }
   ],
   "source": [
    "import networkx as nx\n",
    "from node2vec import Node2Vec  \n",
    "\n",
    "# Create the graph\n",
    "G = nx.DiGraph()\n",
    "\n",
    "# Adding edges based on 'first', 'second', and 'third' relationships\n",
    "for _, row in data.iterrows():\n",
    "    if pd.notna(row['first']) and pd.notna(row['second']):\n",
    "        G.add_edge(row['first'], row['second'])\n",
    "    elif pd.notna(row['first']):\n",
    "        G.add_edge(row['first'], row['first'])\n",
    "        \n",
    "# Generate embeddings using node2vec\n",
    "node2vec = Node2Vec(G, dimensions=16, walk_length=10, num_walks=100,workers=4)\n",
    "model = node2vec.fit(window=5,min_count=1, batch_words=4)\n",
    "\n",
    "# Obtain node embeddings\n",
    "node_embeddings = {node: model.wv[node] for node in G.nodes()}\n",
    "\n",
    "# Map embeddings back to the dataset\n",
    "def get_embedding(row):\n",
    "    if pd.notna(row['first']) and pd.notna(row['second']):\n",
    "\n",
    "        first_embed = node_embeddings.get(row['first'])\n",
    "        second_embed = node_embeddings.get(row['second'])\n",
    "        combined_embedding = [(f + s) / 2 for f, s in zip(first_embed, second_embed)]\n",
    "    elif pd.notna(row['first']):\n",
    "\n",
    "        combined_embedding = node_embeddings.get(row['first'])\n",
    "    return combined_embedding\n",
    "\n",
    "\n",
    "data['apacheadmissiondx_embedding'] = data.apply(get_embedding, axis=1)\n"
   ]
  },
  {
   "cell_type": "code",
   "execution_count": null,
   "metadata": {},
   "outputs": [],
   "source": [
    "def classify_discharge_location(location):\n",
    "    high_risk = ['ICU', 'Other ICU', 'Other ICU (CABG)', 'Operating Room']\n",
    "    medium_risk = ['Telemetry', 'Other Hospital', 'Other External',  'Other Internal','Step-Down Unit (SDU)']\n",
    "    low_risk = ['Nursing Home', 'Skilled Nursing Facility', 'Floor', 'Acute Care/Floor','Rehabilitation']\n",
    "    home= ['Home']\n",
    "    death = ['Death']\n",
    "    \n",
    "    if location in high_risk:\n",
    "        return '3'\n",
    "    elif location in medium_risk:\n",
    "        return '2'\n",
    "    elif location in low_risk:\n",
    "        return '1'\n",
    "    elif location in death:\n",
    "        return '4'\n",
    "    elif location in home:\n",
    "        return '0'\n",
    "    else:\n",
    "        return 'Unknown'\n",
    "\n",
    "data['discharge_risk_category'] = data['unitdischargelocation'].apply(classify_discharge_location)"
   ]
  },
  {
   "cell_type": "code",
   "execution_count": 72,
   "metadata": {},
   "outputs": [],
   "source": [
    "data = data[data['discharge_risk_category'] != 'Unknown']\n",
    "dataset=data.drop(columns=['unitadmitsource','apacheadmissiondx','first','second','unitdischargelocation'])\n",
    "dataset['gender'] = dataset['gender'].map({'Male': 0, 'Female': 1})\n",
    "dataset['unitdischargestatus'] = dataset['unitdischargestatus'].map({'Alive': -1, 'Expired': 1})\n"
   ]
  },
  {
   "cell_type": "code",
   "execution_count": 73,
   "metadata": {},
   "outputs": [
    {
     "data": {
      "text/html": [
       "<div>\n",
       "<style scoped>\n",
       "    .dataframe tbody tr th:only-of-type {\n",
       "        vertical-align: middle;\n",
       "    }\n",
       "\n",
       "    .dataframe tbody tr th {\n",
       "        vertical-align: top;\n",
       "    }\n",
       "\n",
       "    .dataframe thead th {\n",
       "        text-align: right;\n",
       "    }\n",
       "</style>\n",
       "<table border=\"1\" class=\"dataframe\">\n",
       "  <thead>\n",
       "    <tr style=\"text-align: right;\">\n",
       "      <th></th>\n",
       "      <th>patientunitstayid</th>\n",
       "      <th>gender</th>\n",
       "      <th>age</th>\n",
       "      <th>admissionweight</th>\n",
       "      <th>dischargeweight</th>\n",
       "      <th>unitdischargeoffset</th>\n",
       "      <th>unitdischargestatus</th>\n",
       "      <th>max_pooled_embedding</th>\n",
       "      <th>apacheadmissiondx_embedding</th>\n",
       "      <th>discharge_risk_category</th>\n",
       "    </tr>\n",
       "  </thead>\n",
       "  <tbody>\n",
       "    <tr>\n",
       "      <th>0</th>\n",
       "      <td>141168</td>\n",
       "      <td>1</td>\n",
       "      <td>70</td>\n",
       "      <td>84.3</td>\n",
       "      <td>85.8</td>\n",
       "      <td>3596</td>\n",
       "      <td>1</td>\n",
       "      <td>[ 1.2620435  -0.40905985  2.139895    3.092707...</td>\n",
       "      <td>[-0.030633728951215744, -0.015972275286912918,...</td>\n",
       "      <td>4</td>\n",
       "    </tr>\n",
       "    <tr>\n",
       "      <th>1</th>\n",
       "      <td>141265</td>\n",
       "      <td>0</td>\n",
       "      <td>67</td>\n",
       "      <td>100.0</td>\n",
       "      <td>91.8</td>\n",
       "      <td>6068</td>\n",
       "      <td>-1</td>\n",
       "      <td>[ 0.2664819  -0.5805186   0.06527747  0.296352...</td>\n",
       "      <td>[0.0007660947740077972, 0.017550092190504074, ...</td>\n",
       "      <td>1</td>\n",
       "    </tr>\n",
       "    <tr>\n",
       "      <th>2</th>\n",
       "      <td>141266</td>\n",
       "      <td>0</td>\n",
       "      <td>73</td>\n",
       "      <td>120.4</td>\n",
       "      <td>112.9</td>\n",
       "      <td>1501</td>\n",
       "      <td>-1</td>\n",
       "      <td>[ 0.45944792 -0.32571676  0.28904593  0.498963...</td>\n",
       "      <td>[-0.04389399290084839, -0.002439655363559723, ...</td>\n",
       "      <td>1</td>\n",
       "    </tr>\n",
       "    <tr>\n",
       "      <th>3</th>\n",
       "      <td>141276</td>\n",
       "      <td>1</td>\n",
       "      <td>59</td>\n",
       "      <td>156.6</td>\n",
       "      <td>156.6</td>\n",
       "      <td>1684</td>\n",
       "      <td>-1</td>\n",
       "      <td>[ 0.2664819  -0.5805186   0.06527747  0.296352...</td>\n",
       "      <td>[0.03449591249227524, -0.01944483444094658, 0....</td>\n",
       "      <td>0</td>\n",
       "    </tr>\n",
       "    <tr>\n",
       "      <th>4</th>\n",
       "      <td>141284</td>\n",
       "      <td>0</td>\n",
       "      <td>63</td>\n",
       "      <td>NaN</td>\n",
       "      <td>88.5</td>\n",
       "      <td>2076</td>\n",
       "      <td>-1</td>\n",
       "      <td>[ 0.45944792 -0.62813926  0.16925086  0.403259...</td>\n",
       "      <td>[-2.948194, -1.5538762, 2.7141335, 0.51363313,...</td>\n",
       "      <td>1</td>\n",
       "    </tr>\n",
       "  </tbody>\n",
       "</table>\n",
       "</div>"
      ],
      "text/plain": [
       "   patientunitstayid  gender age  admissionweight  dischargeweight  \\\n",
       "0             141168       1  70             84.3             85.8   \n",
       "1             141265       0  67            100.0             91.8   \n",
       "2             141266       0  73            120.4            112.9   \n",
       "3             141276       1  59            156.6            156.6   \n",
       "4             141284       0  63              NaN             88.5   \n",
       "\n",
       "   unitdischargeoffset  unitdischargestatus  \\\n",
       "0                 3596                    1   \n",
       "1                 6068                   -1   \n",
       "2                 1501                   -1   \n",
       "3                 1684                   -1   \n",
       "4                 2076                   -1   \n",
       "\n",
       "                                max_pooled_embedding  \\\n",
       "0  [ 1.2620435  -0.40905985  2.139895    3.092707...   \n",
       "1  [ 0.2664819  -0.5805186   0.06527747  0.296352...   \n",
       "2  [ 0.45944792 -0.32571676  0.28904593  0.498963...   \n",
       "3  [ 0.2664819  -0.5805186   0.06527747  0.296352...   \n",
       "4  [ 0.45944792 -0.62813926  0.16925086  0.403259...   \n",
       "\n",
       "                         apacheadmissiondx_embedding discharge_risk_category  \n",
       "0  [-0.030633728951215744, -0.015972275286912918,...                       4  \n",
       "1  [0.0007660947740077972, 0.017550092190504074, ...                       1  \n",
       "2  [-0.04389399290084839, -0.002439655363559723, ...                       1  \n",
       "3  [0.03449591249227524, -0.01944483444094658, 0....                       0  \n",
       "4  [-2.948194, -1.5538762, 2.7141335, 0.51363313,...                       1  "
      ]
     },
     "execution_count": 73,
     "metadata": {},
     "output_type": "execute_result"
    }
   ],
   "source": [
    "dataset.head()"
   ]
  },
  {
   "cell_type": "code",
   "execution_count": null,
   "metadata": {},
   "outputs": [],
   "source": [
    "# dataset.to_csv(porcesseddir2 + 'embedded_dataset.csv')\n",
    "# dataset=pd.read_csv(porcesseddir2 + 'embedded_dataset.csv')"
   ]
  },
  {
   "cell_type": "markdown",
   "metadata": {},
   "source": [
    "## load dataset"
   ]
  },
  {
   "cell_type": "code",
   "execution_count": 74,
   "metadata": {},
   "outputs": [],
   "source": [
    "from sklearn.model_selection import train_test_split\n",
    "\n",
    "X=dataset.drop(columns=['discharge_risk_category','unitdischargestatus'])\n",
    "y=dataset[['unitdischargestatus']]"
   ]
  },
  {
   "cell_type": "code",
   "execution_count": 83,
   "metadata": {},
   "outputs": [
    {
     "data": {
      "text/html": [
       "<div>\n",
       "<style scoped>\n",
       "    .dataframe tbody tr th:only-of-type {\n",
       "        vertical-align: middle;\n",
       "    }\n",
       "\n",
       "    .dataframe tbody tr th {\n",
       "        vertical-align: top;\n",
       "    }\n",
       "\n",
       "    .dataframe thead th {\n",
       "        text-align: right;\n",
       "    }\n",
       "</style>\n",
       "<table border=\"1\" class=\"dataframe\">\n",
       "  <thead>\n",
       "    <tr style=\"text-align: right;\">\n",
       "      <th></th>\n",
       "      <th>patientunitstayid</th>\n",
       "      <th>gender</th>\n",
       "      <th>age</th>\n",
       "      <th>admissionweight</th>\n",
       "      <th>dischargeweight</th>\n",
       "      <th>unitdischargeoffset</th>\n",
       "      <th>max_pooled_embedding</th>\n",
       "      <th>apacheadmissiondx_embedding</th>\n",
       "    </tr>\n",
       "  </thead>\n",
       "  <tbody>\n",
       "    <tr>\n",
       "      <th>0</th>\n",
       "      <td>141168</td>\n",
       "      <td>1</td>\n",
       "      <td>70</td>\n",
       "      <td>84.3</td>\n",
       "      <td>85.8</td>\n",
       "      <td>3596</td>\n",
       "      <td>[ 1.2620435  -0.40905985  2.139895    3.092707...</td>\n",
       "      <td>[-0.030633728951215744, -0.015972275286912918,...</td>\n",
       "    </tr>\n",
       "    <tr>\n",
       "      <th>1</th>\n",
       "      <td>141265</td>\n",
       "      <td>0</td>\n",
       "      <td>67</td>\n",
       "      <td>100.0</td>\n",
       "      <td>91.8</td>\n",
       "      <td>6068</td>\n",
       "      <td>[ 0.2664819  -0.5805186   0.06527747  0.296352...</td>\n",
       "      <td>[0.0007660947740077972, 0.017550092190504074, ...</td>\n",
       "    </tr>\n",
       "    <tr>\n",
       "      <th>2</th>\n",
       "      <td>141266</td>\n",
       "      <td>0</td>\n",
       "      <td>73</td>\n",
       "      <td>120.4</td>\n",
       "      <td>112.9</td>\n",
       "      <td>1501</td>\n",
       "      <td>[ 0.45944792 -0.32571676  0.28904593  0.498963...</td>\n",
       "      <td>[-0.04389399290084839, -0.002439655363559723, ...</td>\n",
       "    </tr>\n",
       "    <tr>\n",
       "      <th>3</th>\n",
       "      <td>141276</td>\n",
       "      <td>1</td>\n",
       "      <td>59</td>\n",
       "      <td>156.6</td>\n",
       "      <td>156.6</td>\n",
       "      <td>1684</td>\n",
       "      <td>[ 0.2664819  -0.5805186   0.06527747  0.296352...</td>\n",
       "      <td>[0.03449591249227524, -0.01944483444094658, 0....</td>\n",
       "    </tr>\n",
       "    <tr>\n",
       "      <th>4</th>\n",
       "      <td>141284</td>\n",
       "      <td>0</td>\n",
       "      <td>63</td>\n",
       "      <td>NaN</td>\n",
       "      <td>88.5</td>\n",
       "      <td>2076</td>\n",
       "      <td>[ 0.45944792 -0.62813926  0.16925086  0.403259...</td>\n",
       "      <td>[-2.948194, -1.5538762, 2.7141335, 0.51363313,...</td>\n",
       "    </tr>\n",
       "  </tbody>\n",
       "</table>\n",
       "</div>"
      ],
      "text/plain": [
       "   patientunitstayid  gender age  admissionweight  dischargeweight  \\\n",
       "0             141168       1  70             84.3             85.8   \n",
       "1             141265       0  67            100.0             91.8   \n",
       "2             141266       0  73            120.4            112.9   \n",
       "3             141276       1  59            156.6            156.6   \n",
       "4             141284       0  63              NaN             88.5   \n",
       "\n",
       "   unitdischargeoffset                               max_pooled_embedding  \\\n",
       "0                 3596  [ 1.2620435  -0.40905985  2.139895    3.092707...   \n",
       "1                 6068  [ 0.2664819  -0.5805186   0.06527747  0.296352...   \n",
       "2                 1501  [ 0.45944792 -0.32571676  0.28904593  0.498963...   \n",
       "3                 1684  [ 0.2664819  -0.5805186   0.06527747  0.296352...   \n",
       "4                 2076  [ 0.45944792 -0.62813926  0.16925086  0.403259...   \n",
       "\n",
       "                         apacheadmissiondx_embedding  \n",
       "0  [-0.030633728951215744, -0.015972275286912918,...  \n",
       "1  [0.0007660947740077972, 0.017550092190504074, ...  \n",
       "2  [-0.04389399290084839, -0.002439655363559723, ...  \n",
       "3  [0.03449591249227524, -0.01944483444094658, 0....  \n",
       "4  [-2.948194, -1.5538762, 2.7141335, 0.51363313,...  "
      ]
     },
     "execution_count": 83,
     "metadata": {},
     "output_type": "execute_result"
    }
   ],
   "source": [
    "X.head()"
   ]
  },
  {
   "cell_type": "code",
   "execution_count": 78,
   "metadata": {},
   "outputs": [],
   "source": [
    "y = y['unitdischargestatus'].values\n"
   ]
  },
  {
   "cell_type": "code",
   "execution_count": 81,
   "metadata": {},
   "outputs": [],
   "source": [
    "X_train, X_test, y_train, y_test = train_test_split(X, y, test_size=0.2, random_state=42)"
   ]
  },
  {
   "cell_type": "markdown",
   "metadata": {},
   "source": [
    "## Train Risk Score Models\n"
   ]
  },
  {
   "cell_type": "code",
   "execution_count": 82,
   "metadata": {},
   "outputs": [
    {
     "name": "stderr",
     "output_type": "stream",
     "text": [
      "/home/mei/anaconda3/envs/eicu/lib/python3.10/site-packages/numpy/core/fromnumeric.py:3502: FutureWarning: The default value of numeric_only in DataFrame.mean is deprecated. In a future version, it will default to False. In addition, specifying 'numeric_only=None' is deprecated. Select only valid columns or specify the value of numeric_only to silence this warning.\n",
      "  return mean(axis=axis, dtype=dtype, out=out, **kwargs)\n"
     ]
    },
    {
     "ename": "TypeError",
     "evalue": "loop of ufunc does not support argument 0 of type float which has no callable sqrt method",
     "output_type": "error",
     "traceback": [
      "\u001b[0;31m---------------------------------------------------------------------------\u001b[0m",
      "\u001b[0;31mAttributeError\u001b[0m                            Traceback (most recent call last)",
      "\u001b[0;31mAttributeError\u001b[0m: 'float' object has no attribute 'sqrt'",
      "\nThe above exception was the direct cause of the following exception:\n",
      "\u001b[0;31mTypeError\u001b[0m                                 Traceback (most recent call last)",
      "Cell \u001b[0;32mIn[82], line 4\u001b[0m\n\u001b[1;32m      1\u001b[0m sparsity \u001b[38;5;241m=\u001b[39m\u001b[38;5;241m6\u001b[39m\n\u001b[1;32m      2\u001b[0m parent_size \u001b[38;5;241m=\u001b[39m \u001b[38;5;241m6\u001b[39m\n\u001b[0;32m----> 4\u001b[0m RiskScoreOptimizer_m \u001b[38;5;241m=\u001b[39m \u001b[43mRiskScoreOptimizer\u001b[49m\u001b[43m(\u001b[49m\u001b[43mX\u001b[49m\u001b[43m \u001b[49m\u001b[38;5;241;43m=\u001b[39;49m\u001b[43m \u001b[49m\u001b[43mX_train\u001b[49m\u001b[43m,\u001b[49m\u001b[43m \u001b[49m\u001b[43my\u001b[49m\u001b[43m \u001b[49m\u001b[38;5;241;43m=\u001b[39;49m\u001b[43m \u001b[49m\u001b[43my_train\u001b[49m\u001b[43m,\u001b[49m\u001b[43m \u001b[49m\u001b[43mk\u001b[49m\u001b[43m \u001b[49m\u001b[38;5;241;43m=\u001b[39;49m\u001b[43m \u001b[49m\u001b[43msparsity\u001b[49m\u001b[43m,\u001b[49m\u001b[43m \u001b[49m\u001b[43mparent_size\u001b[49m\u001b[43m \u001b[49m\u001b[38;5;241;43m=\u001b[39;49m\u001b[43m \u001b[49m\u001b[43mparent_size\u001b[49m\u001b[43m)\u001b[49m\n",
      "File \u001b[0;32m~/anaconda3/envs/eicu/lib/python3.10/site-packages/fasterrisk/fasterrisk.py:84\u001b[0m, in \u001b[0;36mRiskScoreOptimizer.__init__\u001b[0;34m(self, X, y, k, select_top_m, lb, ub, gap_tolerance, parent_size, child_size, maxAttempts, num_ray_search, lineSearch_early_stop_tolerance, group_sparsity, featureIndex_to_groupIndex)\u001b[0m\n\u001b[1;32m     81\u001b[0m \u001b[38;5;28mself\u001b[39m\u001b[38;5;241m.\u001b[39msparseDiversePool_betas_integer \u001b[38;5;241m=\u001b[39m \u001b[38;5;28;01mNone\u001b[39;00m\n\u001b[1;32m     83\u001b[0m \u001b[38;5;28;01mif\u001b[39;00m \u001b[38;5;28mself\u001b[39m\u001b[38;5;241m.\u001b[39mgroup_sparsity \u001b[38;5;129;01mis\u001b[39;00m \u001b[38;5;28;01mNone\u001b[39;00m:\n\u001b[0;32m---> 84\u001b[0m     \u001b[38;5;28mself\u001b[39m\u001b[38;5;241m.\u001b[39msparseLogRegModel_object \u001b[38;5;241m=\u001b[39m \u001b[43msparseLogRegModel\u001b[49m\u001b[43m(\u001b[49m\u001b[43mX\u001b[49m\u001b[43m,\u001b[49m\u001b[43m \u001b[49m\u001b[43my\u001b[49m\u001b[43m,\u001b[49m\u001b[43m \u001b[49m\u001b[43mintercept\u001b[49m\u001b[38;5;241;43m=\u001b[39;49m\u001b[38;5;28;43;01mTrue\u001b[39;49;00m\u001b[43m,\u001b[49m\u001b[43m \u001b[49m\u001b[43moriginal_lb\u001b[49m\u001b[38;5;241;43m=\u001b[39;49m\u001b[43mlb\u001b[49m\u001b[43m,\u001b[49m\u001b[43m \u001b[49m\u001b[43moriginal_ub\u001b[49m\u001b[38;5;241;43m=\u001b[39;49m\u001b[43mub\u001b[49m\u001b[43m)\u001b[49m\n\u001b[1;32m     85\u001b[0m     \u001b[38;5;28mself\u001b[39m\u001b[38;5;241m.\u001b[39msparseDiversePoolLogRegModel_object \u001b[38;5;241m=\u001b[39m sparseDiversePoolLogRegModel(X, y, intercept\u001b[38;5;241m=\u001b[39m\u001b[38;5;28;01mTrue\u001b[39;00m, original_lb\u001b[38;5;241m=\u001b[39mlb, original_ub\u001b[38;5;241m=\u001b[39mub)\n\u001b[1;32m     86\u001b[0m \u001b[38;5;28;01melse\u001b[39;00m:\n",
      "File \u001b[0;32m~/anaconda3/envs/eicu/lib/python3.10/site-packages/fasterrisk/sparseBeamSearch.py:10\u001b[0m, in \u001b[0;36msparseLogRegModel.__init__\u001b[0;34m(self, X, y, lambda2, intercept, original_lb, original_ub)\u001b[0m\n\u001b[1;32m      9\u001b[0m \u001b[38;5;28;01mdef\u001b[39;00m \u001b[38;5;21m__init__\u001b[39m(\u001b[38;5;28mself\u001b[39m, X, y, lambda2\u001b[38;5;241m=\u001b[39m\u001b[38;5;241m1e-8\u001b[39m, intercept\u001b[38;5;241m=\u001b[39m\u001b[38;5;28;01mTrue\u001b[39;00m, original_lb\u001b[38;5;241m=\u001b[39m\u001b[38;5;241m-\u001b[39m\u001b[38;5;241m5\u001b[39m, original_ub\u001b[38;5;241m=\u001b[39m\u001b[38;5;241m5\u001b[39m):\n\u001b[0;32m---> 10\u001b[0m     \u001b[38;5;28;43msuper\u001b[39;49m\u001b[43m(\u001b[49m\u001b[43m)\u001b[49m\u001b[38;5;241;43m.\u001b[39;49m\u001b[38;5;21;43m__init__\u001b[39;49m\u001b[43m(\u001b[49m\u001b[43mX\u001b[49m\u001b[38;5;241;43m=\u001b[39;49m\u001b[43mX\u001b[49m\u001b[43m,\u001b[49m\u001b[43m \u001b[49m\u001b[43my\u001b[49m\u001b[38;5;241;43m=\u001b[39;49m\u001b[43my\u001b[49m\u001b[43m,\u001b[49m\u001b[43m \u001b[49m\u001b[43mlambda2\u001b[49m\u001b[38;5;241;43m=\u001b[39;49m\u001b[43mlambda2\u001b[49m\u001b[43m,\u001b[49m\u001b[43m \u001b[49m\u001b[43mintercept\u001b[49m\u001b[38;5;241;43m=\u001b[39;49m\u001b[43mintercept\u001b[49m\u001b[43m,\u001b[49m\u001b[43m \u001b[49m\u001b[43moriginal_lb\u001b[49m\u001b[38;5;241;43m=\u001b[39;49m\u001b[43moriginal_lb\u001b[49m\u001b[43m,\u001b[49m\u001b[43m \u001b[49m\u001b[43moriginal_ub\u001b[49m\u001b[38;5;241;43m=\u001b[39;49m\u001b[43moriginal_ub\u001b[49m\u001b[43m)\u001b[49m\n",
      "File \u001b[0;32m~/anaconda3/envs/eicu/lib/python3.10/site-packages/fasterrisk/base_model.py:10\u001b[0m, in \u001b[0;36mlogRegModel.__init__\u001b[0;34m(self, X, y, lambda2, intercept, original_lb, original_ub)\u001b[0m\n\u001b[1;32m      8\u001b[0m \u001b[38;5;28;01mdef\u001b[39;00m \u001b[38;5;21m__init__\u001b[39m(\u001b[38;5;28mself\u001b[39m, X, y, lambda2\u001b[38;5;241m=\u001b[39m\u001b[38;5;241m1e-8\u001b[39m, intercept\u001b[38;5;241m=\u001b[39m\u001b[38;5;28;01mTrue\u001b[39;00m, original_lb\u001b[38;5;241m=\u001b[39m\u001b[38;5;241m-\u001b[39m\u001b[38;5;241m5\u001b[39m, original_ub\u001b[38;5;241m=\u001b[39m\u001b[38;5;241m5\u001b[39m):\n\u001b[1;32m      9\u001b[0m     \u001b[38;5;28mself\u001b[39m\u001b[38;5;241m.\u001b[39mX \u001b[38;5;241m=\u001b[39m X\n\u001b[0;32m---> 10\u001b[0m     \u001b[38;5;28mself\u001b[39m\u001b[38;5;241m.\u001b[39mX_normalized, \u001b[38;5;28mself\u001b[39m\u001b[38;5;241m.\u001b[39mX_mean, \u001b[38;5;28mself\u001b[39m\u001b[38;5;241m.\u001b[39mX_norm, \u001b[38;5;28mself\u001b[39m\u001b[38;5;241m.\u001b[39mscaled_feature_indices \u001b[38;5;241m=\u001b[39m \u001b[43mnormalize_X\u001b[49m\u001b[43m(\u001b[49m\u001b[38;5;28;43mself\u001b[39;49m\u001b[38;5;241;43m.\u001b[39;49m\u001b[43mX\u001b[49m\u001b[43m)\u001b[49m\n\u001b[1;32m     11\u001b[0m     \u001b[38;5;28mself\u001b[39m\u001b[38;5;241m.\u001b[39mn, \u001b[38;5;28mself\u001b[39m\u001b[38;5;241m.\u001b[39mp \u001b[38;5;241m=\u001b[39m \u001b[38;5;28mself\u001b[39m\u001b[38;5;241m.\u001b[39mX_normalized\u001b[38;5;241m.\u001b[39mshape\n\u001b[1;32m     12\u001b[0m     \u001b[38;5;28mself\u001b[39m\u001b[38;5;241m.\u001b[39my \u001b[38;5;241m=\u001b[39m y\u001b[38;5;241m.\u001b[39mreshape(\u001b[38;5;241m-\u001b[39m\u001b[38;5;241m1\u001b[39m)\u001b[38;5;241m.\u001b[39mastype(\u001b[38;5;28mfloat\u001b[39m)\n",
      "File \u001b[0;32m~/anaconda3/envs/eicu/lib/python3.10/site-packages/fasterrisk/utils.py:21\u001b[0m, in \u001b[0;36mnormalize_X\u001b[0;34m(X)\u001b[0m\n\u001b[1;32m     19\u001b[0m \u001b[38;5;28;01mdef\u001b[39;00m \u001b[38;5;21mnormalize_X\u001b[39m(X):\n\u001b[1;32m     20\u001b[0m     X_mean \u001b[38;5;241m=\u001b[39m np\u001b[38;5;241m.\u001b[39mmean(X, axis\u001b[38;5;241m=\u001b[39m\u001b[38;5;241m0\u001b[39m)\n\u001b[0;32m---> 21\u001b[0m     X_norm \u001b[38;5;241m=\u001b[39m \u001b[43mnp\u001b[49m\u001b[38;5;241;43m.\u001b[39;49m\u001b[43mlinalg\u001b[49m\u001b[38;5;241;43m.\u001b[39;49m\u001b[43mnorm\u001b[49m\u001b[43m(\u001b[49m\u001b[43mX\u001b[49m\u001b[38;5;241;43m-\u001b[39;49m\u001b[43mX_mean\u001b[49m\u001b[43m,\u001b[49m\u001b[43m \u001b[49m\u001b[43maxis\u001b[49m\u001b[38;5;241;43m=\u001b[39;49m\u001b[38;5;241;43m0\u001b[39;49m\u001b[43m)\u001b[49m\n\u001b[1;32m     22\u001b[0m     scaled_feature_indices \u001b[38;5;241m=\u001b[39m np\u001b[38;5;241m.\u001b[39mwhere(X_norm \u001b[38;5;241m>\u001b[39m\u001b[38;5;241m=\u001b[39m \u001b[38;5;241m1e-9\u001b[39m)[\u001b[38;5;241m0\u001b[39m]\n\u001b[1;32m     23\u001b[0m     X_normalized \u001b[38;5;241m=\u001b[39m X\u001b[38;5;241m-\u001b[39mX_mean\n",
      "File \u001b[0;32m~/anaconda3/envs/eicu/lib/python3.10/site-packages/numpy/linalg/linalg.py:2583\u001b[0m, in \u001b[0;36mnorm\u001b[0;34m(x, ord, axis, keepdims)\u001b[0m\n\u001b[1;32m   2580\u001b[0m \u001b[38;5;28;01melif\u001b[39;00m \u001b[38;5;28mord\u001b[39m \u001b[38;5;129;01mis\u001b[39;00m \u001b[38;5;28;01mNone\u001b[39;00m \u001b[38;5;129;01mor\u001b[39;00m \u001b[38;5;28mord\u001b[39m \u001b[38;5;241m==\u001b[39m \u001b[38;5;241m2\u001b[39m:\n\u001b[1;32m   2581\u001b[0m     \u001b[38;5;66;03m# special case for speedup\u001b[39;00m\n\u001b[1;32m   2582\u001b[0m     s \u001b[38;5;241m=\u001b[39m (x\u001b[38;5;241m.\u001b[39mconj() \u001b[38;5;241m*\u001b[39m x)\u001b[38;5;241m.\u001b[39mreal\n\u001b[0;32m-> 2583\u001b[0m     \u001b[38;5;28;01mreturn\u001b[39;00m \u001b[43msqrt\u001b[49m\u001b[43m(\u001b[49m\u001b[43madd\u001b[49m\u001b[38;5;241;43m.\u001b[39;49m\u001b[43mreduce\u001b[49m\u001b[43m(\u001b[49m\u001b[43ms\u001b[49m\u001b[43m,\u001b[49m\u001b[43m \u001b[49m\u001b[43maxis\u001b[49m\u001b[38;5;241;43m=\u001b[39;49m\u001b[43maxis\u001b[49m\u001b[43m,\u001b[49m\u001b[43m \u001b[49m\u001b[43mkeepdims\u001b[49m\u001b[38;5;241;43m=\u001b[39;49m\u001b[43mkeepdims\u001b[49m\u001b[43m)\u001b[49m\u001b[43m)\u001b[49m\n\u001b[1;32m   2584\u001b[0m \u001b[38;5;66;03m# None of the str-type keywords for ord ('fro', 'nuc')\u001b[39;00m\n\u001b[1;32m   2585\u001b[0m \u001b[38;5;66;03m# are valid for vectors\u001b[39;00m\n\u001b[1;32m   2586\u001b[0m \u001b[38;5;28;01melif\u001b[39;00m \u001b[38;5;28misinstance\u001b[39m(\u001b[38;5;28mord\u001b[39m, \u001b[38;5;28mstr\u001b[39m):\n",
      "\u001b[0;31mTypeError\u001b[0m: loop of ufunc does not support argument 0 of type float which has no callable sqrt method"
     ]
    }
   ],
   "source": [
    "sparsity =6\n",
    "parent_size = 6\n",
    "\n",
    "RiskScoreOptimizer_m = RiskScoreOptimizer(X = X_train, y = y_train, k = sparsity, parent_size = parent_size)"
   ]
  },
  {
   "cell_type": "code",
   "execution_count": null,
   "metadata": {},
   "outputs": [],
   "source": [
    "start_time = time.time()\n",
    "RiskScoreOptimizer_m.optimize()\n",
    "print(\"Optimization takes {:.2f} seconds.\".format(time.time() - start_time))"
   ]
  }
 ],
 "metadata": {
  "kernelspec": {
   "display_name": "eicu",
   "language": "python",
   "name": "python3"
  },
  "language_info": {
   "codemirror_mode": {
    "name": "ipython",
    "version": 3
   },
   "file_extension": ".py",
   "mimetype": "text/x-python",
   "name": "python",
   "nbconvert_exporter": "python",
   "pygments_lexer": "ipython3",
   "version": "3.10.14"
  }
 },
 "nbformat": 4,
 "nbformat_minor": 2
}

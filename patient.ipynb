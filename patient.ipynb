{
 "cells": [
  {
   "cell_type": "code",
   "execution_count": null,
   "metadata": {},
   "outputs": [],
   "source": [
    "# Import libraries\n",
    "import numpy as np\n",
    "import pandas as pd\n",
    "import matplotlib.pyplot as plt\n",
    "import psycopg2\n",
    "import getpass\n",
    "import pdvega\n",
    "import seaborn as sns\n",
    "# for configuring connection \n",
    "from configobj import ConfigObj\n",
    "import os\n",
    "\n",
    "%matplotlib inline"
   ]
  },
  {
   "cell_type": "code",
   "execution_count": null,
   "metadata": {},
   "outputs": [],
   "source": [
    "# Create a database connection using settings from config file\n",
    "config='../db/config.ini'\n",
    "\n",
    "# connection info\n",
    "conn_info = dict()\n",
    "if os.path.isfile(config):\n",
    "    config = ConfigObj(config)\n",
    "    conn_info[\"sqluser\"] = config['username']\n",
    "    conn_info[\"sqlpass\"] = config['password']\n",
    "    conn_info[\"sqlhost\"] = config['host']\n",
    "    conn_info[\"sqlport\"] = config['port']\n",
    "    conn_info[\"dbname\"] = config['dbname']\n",
    "    conn_info[\"schema_name\"] = config['schema_name']\n",
    "else:\n",
    "    conn_info[\"sqluser\"] = 'postgres'\n",
    "    conn_info[\"sqlpass\"] = ''\n",
    "    conn_info[\"sqlhost\"] = 'localhost'\n",
    "    conn_info[\"sqlport\"] = 5432\n",
    "    conn_info[\"dbname\"] = 'eicu'\n",
    "    conn_info[\"schema_name\"] = 'public,eicu_crd'\n",
    "    \n",
    "# Connect to the eICU database\n",
    "print('Database: {}'.format(conn_info['dbname']))\n",
    "print('Username: {}'.format(conn_info[\"sqluser\"]))\n",
    "if conn_info[\"sqlpass\"] == '':\n",
    "    # try connecting without password, i.e. peer or OS authentication\n",
    "    try:\n",
    "        if (conn_info[\"sqlhost\"] == 'localhost') & (conn_info[\"sqlport\"]=='5432'):\n",
    "            con = psycopg2.connect(dbname=conn_info[\"dbname\"],\n",
    "                                   user=conn_info[\"sqluser\"])            \n",
    "        else:\n",
    "            con = psycopg2.connect(dbname=conn_info[\"dbname\"],\n",
    "                                   host=conn_info[\"sqlhost\"],\n",
    "                                   port=conn_info[\"sqlport\"],\n",
    "                                   user=conn_info[\"sqluser\"])\n",
    "    except:\n",
    "        conn_info[\"sqlpass\"] = getpass.getpass('Password: ')\n",
    "\n",
    "        con = psycopg2.connect(dbname=conn_info[\"dbname\"],\n",
    "                               host=conn_info[\"sqlhost\"],\n",
    "                               port=conn_info[\"sqlport\"],\n",
    "                               user=conn_info[\"sqluser\"],\n",
    "                               password=conn_info[\"sqlpass\"])\n",
    "query_schema = 'set search_path to ' + conn_info['schema_name'] + ';'"
   ]
  },
  {
   "cell_type": "code",
   "execution_count": null,
   "metadata": {},
   "outputs": [],
   "source": [
    "from sqlalchemy import create_engine\n",
    "con= create_engine('postgresql://eicu@localhost:5432/eicu')"
   ]
  },
  {
   "cell_type": "code",
   "execution_count": null,
   "metadata": {},
   "outputs": [],
   "source": [
    "def round_up(x, base=5):\n",
    "    return base * round(x/base)"
   ]
  },
  {
   "cell_type": "code",
   "execution_count": null,
   "metadata": {},
   "outputs": [],
   "source": [
    "query = query_schema + \"\"\"\n",
    "select  *\n",
    "from patient\n",
    "\"\"\"\n",
    "df_total = pd.read_sql_query(query, con)\n",
    "\n",
    "n_patient_icu = df_total['patientunitstayid'].nunique()\n",
    "print(\"There are {} patients in the icu record.\".format(n_patient_icu))\n"
   ]
  },
  {
   "cell_type": "code",
   "execution_count": null,
   "metadata": {},
   "outputs": [],
   "source": [
    "query = query_schema + \"\"\"\n",
    "with frequency_count as (\n",
    "select  uniquepid as uniquep, count(*) as frequency\n",
    "from patient\n",
    "group by uniquep\n",
    ")\n",
    "select \n",
    "    CASE \n",
    "        when frequency > 4 then 'Greater than 4'\n",
    "        else cast(frequency as TEXT)\n",
    "    END as frequency_category,  count(*) as occurrence\n",
    "from     frequency_count\n",
    "group by frequency_category\n",
    "order by occurrence DESC\n",
    "\"\"\"\n",
    "df_unique = pd.read_sql_query(query, con)\n",
    "# df_unique['patientunitstayid'].nunique()\n",
    "\n",
    "df_unique['data occurrence'] = df_unique['occurrence'] / df_total['uniquepid'].nunique() * 100.0\n",
    "df_unique.sort_values('data occurrence', ascending=False, inplace=True)\n",
    "df_unique.head()"
   ]
  },
  {
   "cell_type": "code",
   "execution_count": null,
   "metadata": {},
   "outputs": [],
   "source": [
    "query = query_schema + \"\"\"\n",
    "\n",
    "SELECT DISTINCT patientunitstayid,gender,age,apacheadmissiondx,unitadmitsource,admissionweight,\tdischargeweight,unitdischargelocation,\tunitdischargestatus\n",
    "FROM patient\n",
    "WHERE unitadmitsource IN ('Emergency Department', 'Direct Admit') \n",
    " \"\"\"\n",
    "\n",
    "df_selected_patients = pd.read_sql_query(query, con)\n",
    "# df_selected_patients.to_csv('/Users/meisun/Documents/study/thesis/master project/data-preprocessing/selected_patients.csv', index=False)\n",
    "# print(\"Data exported successfully to 'selected_patients.csv'.\")\n",
    "df_selected_patients.head()"
   ]
  },
  {
   "cell_type": "code",
   "execution_count": null,
   "metadata": {},
   "outputs": [],
   "source": [
    "n_selected_patients=df_selected_patients['patientunitstayid'].nunique()\n",
    "print(\"There are {} unique patientunitstayid in the selected patients with the selected unitadmitsource: emergency and direct.\".format(n_selected_patients))"
   ]
  },
  {
   "cell_type": "code",
   "execution_count": null,
   "metadata": {},
   "outputs": [],
   "source": [
    "df_selected_patients = pd.read_csv('/Users/meisun/Documents/study/thesis/master project/data-preprocessing/selected_patients.csv')"
   ]
  },
  {
   "cell_type": "code",
   "execution_count": null,
   "metadata": {},
   "outputs": [],
   "source": [
    "query = query_schema + \"\"\"\n",
    "select *\n",
    "from admissiondrug\n",
    "order by drugoffset\n",
    "\"\"\"\n",
    "\n",
    "df_addrug = pd.read_sql_query(query, con)\n",
    "n_drug = df_addrug['patientunitstayid'].nunique()\n",
    "print(\"There are {} patients in the admission drug record.\".format(n_drug))"
   ]
  },
  {
   "cell_type": "code",
   "execution_count": null,
   "metadata": {},
   "outputs": [],
   "source": [
    "query = query_schema + \"\"\"\n",
    "\n",
    "with selected_patients as (\n",
    "SELECT DISTINCT patientunitstayid,gender,age,apacheadmissiondx,unitadmitsource,admissionweight,\tdischargeweight,unitdischargelocation,\tunitdischargestatus\n",
    "FROM patient\n",
    "WHERE unitadmitsource IN ('Emergency Department', 'Direct Admit') \n",
    ")\n",
    "select  adrug.admissiondrugid ,adrug.drugname, adrug.drugdosage, adrug.drugunit, adrug.drugadmitfrequency, sp.*\n",
    "from admissiondrug adrug\n",
    "join selected_patients sp\n",
    "  on adrug.patientunitstayid = sp.patientunitstayid\n",
    " \"\"\"\n",
    "\n",
    "df_addrug_selected = pd.read_sql_query(query, con)"
   ]
  },
  {
   "cell_type": "code",
   "execution_count": null,
   "metadata": {},
   "outputs": [],
   "source": [
    "df_addrug_selected.head(n=10)"
   ]
  },
  {
   "cell_type": "code",
   "execution_count": null,
   "metadata": {},
   "outputs": [],
   "source": [
    "# df_addrug_selected.to_csv('/Users/meisun/Documents/study/thesis/master project/data-preprocessing/selected_patients_admissionDrug.csv')"
   ]
  },
  {
   "cell_type": "code",
   "execution_count": null,
   "metadata": {},
   "outputs": [],
   "source": [
    "\n",
    "n_drug_selected= len(df_addrug_selected['drugname'])\n",
    "print(\"There are {} selected patients in the admission drug table with total {} records.\".format(df_addrug_selected['patientunitstayid'].nunique(),n_drug_selected))"
   ]
  },
  {
   "cell_type": "code",
   "execution_count": null,
   "metadata": {},
   "outputs": [],
   "source": [
    "df_addrug_selected = pd.read_csv('/Users/meisun/Documents/study/thesis/master project/data-preprocessing/selected_patients_admissionDrug.csv')"
   ]
  },
  {
   "cell_type": "code",
   "execution_count": null,
   "metadata": {},
   "outputs": [],
   "source": [
    "df_addrug_selected = df_addrug_selected.set_index(['patientunitstayid', 'admissiondrugid'])\n",
    "df_addrug_selected.sort_index(level = ['patientunitstayid', 'admissiondrugid'], inplace = True)\n",
    "df_addrug_selected = df_addrug_selected[['drugname', 'drugdosage', 'drugunit','drugadmitfrequency', 'gender','age','apacheadmissiondx','unitadmitsource','admissionweight',\t'dischargeweight','unitdischargelocation',\t'unitdischargestatus']]\n",
    "# Resample every 5 mins\n",
    "# df_addrug_selected.rename(round_up, level = 'admissiondrugid', inplace = True)\n",
    "df_addrug_selected['drugname'] = df_addrug_selected['drugname'].str.split(' ').str[0].str.lower()\n"
   ]
  },
  {
   "cell_type": "code",
   "execution_count": null,
   "metadata": {},
   "outputs": [],
   "source": [
    "df_addrug_selected.head(n=10)"
   ]
  },
  {
   "cell_type": "code",
   "execution_count": null,
   "metadata": {},
   "outputs": [],
   "source": [
    "freq_addrug = pd.DataFrame()\n",
    "freq_addrug['noAnnotations'] = df_addrug_selected['drugname'].value_counts() \n",
    "freq_addrug['%'] = df_addrug_selected['drugname'].value_counts() / len(df_addrug_selected.index) * 100\n",
    "\n",
    "freq_addrug"
   ]
  },
  {
   "cell_type": "code",
   "execution_count": null,
   "metadata": {},
   "outputs": [],
   "source": [
    "query = query_schema + \"\"\"\n",
    "select *\n",
    "from admissiondx\n",
    "\"\"\"\n",
    "\n",
    "df_addx = pd.read_sql_query(query, con)\n",
    "n_dx = df_addx['patientunitstayid'].nunique()\n",
    "print(\"There are {} icu patients in the admission diagnosis record.\".format(n_dx))"
   ]
  },
  {
   "cell_type": "code",
   "execution_count": null,
   "metadata": {},
   "outputs": [],
   "source": [
    "query = query_schema + \"\"\"\n",
    "\n",
    "with selected_patients as (\n",
    "SELECT DISTINCT patientunitstayid,gender,age,apacheadmissiondx,unitadmitsource,admissionweight,\tdischargeweight,unitdischargelocation,\tunitdischargestatus\n",
    "FROM patient\n",
    "WHERE unitadmitsource IN ('Emergency Department', 'Direct Admit') \n",
    ")\n",
    "select addx.admissiondxid, addx.admitdxpath\t,addx.admitdxname, addx.admitdxtext,sp.*\n",
    "from admissiondx addx\n",
    "join selected_patients sp\n",
    "  on addx.patientunitstayid = sp.patientunitstayid\n",
    " \"\"\"\n",
    "\n",
    "df_addx_selected = pd.read_sql_query(query, con)"
   ]
  },
  {
   "cell_type": "code",
   "execution_count": null,
   "metadata": {},
   "outputs": [],
   "source": [
    "df_addx_selected.head()"
   ]
  },
  {
   "cell_type": "code",
   "execution_count": null,
   "metadata": {},
   "outputs": [],
   "source": [
    "# df_addx_selected.to_csv('/Users/meisun/Documents/study/thesis/master project/data-preprocessing/selected_patients_admissionDx.csv')"
   ]
  },
  {
   "cell_type": "code",
   "execution_count": null,
   "metadata": {},
   "outputs": [],
   "source": [
    "n_dx_selected= len(df_addx_selected['admissiondxid'])\n",
    "print(\"There are {} selected patients in the admission drug table with total {} records.\".format(df_addx_selected['patientunitstayid'].nunique(),n_dx_selected))"
   ]
  },
  {
   "cell_type": "code",
   "execution_count": null,
   "metadata": {},
   "outputs": [],
   "source": [
    "df_addx_selected = pd.read_csv('/Users/meisun/Documents/study/thesis/master project/data-preprocessing/selected_patients_admissionDx.csv')"
   ]
  },
  {
   "cell_type": "code",
   "execution_count": null,
   "metadata": {},
   "outputs": [],
   "source": [
    "#  data to be grouped by patients (patientunitstayid) and their specific diagnosis IDs (admissiondxid),\n",
    "df_addx_selected  = df_addx_selected .set_index(['patientunitstayid', 'admissiondxid'])\n",
    "df_addx_selected .sort_index(level = ['patientunitstayid', 'admissiondxid'], inplace = True)\n",
    "df_addx_selected  = df_addx_selected [['admitdxpath', 'admitdxname', 'admitdxtext','gender','age','apacheadmissiondx','unitadmitsource','admissionweight',\t'dischargeweight','unitdischargelocation',\t'unitdischargestatus']]\n",
    "# Resample every 5 mins\n",
    "# df_addrug_selected.rename(round_up, level = 'admissiondrugid', inplace = True)\n",
    "df_addx_selected['admitdxpath'] = df_addx_selected['admitdxpath'].str.replace('|', '/')"
   ]
  },
  {
   "cell_type": "code",
   "execution_count": null,
   "metadata": {},
   "outputs": [],
   "source": [
    "df_addx_selected.head(n=10)"
   ]
  },
  {
   "cell_type": "code",
   "execution_count": null,
   "metadata": {},
   "outputs": [],
   "source": [
    "from bigtree import Node, list_to_tree, tree_to_dot, dataframe_to_tree, tree_to_pillow\n",
    "\n",
    "paths_mult_ = df_addx_selected.groupby('admitdxpath', dropna = True)['admitdxpath'].size().to_frame('noAnnotations')\n",
    "paths_mult_.reset_index(inplace=True)\n",
    "paths_mult_.sort_values('noAnnotations', ascending = False, inplace = True)\n",
    "\n",
    "paths_ = list(pd.unique(df_addx_selected['admitdxpath']))\n",
    "root_ = dataframe_to_tree(paths_mult_, sep = '/')\n",
    "root_.show(attr_list=[\"noAnnotations\"])"
   ]
  },
  {
   "cell_type": "code",
   "execution_count": null,
   "metadata": {},
   "outputs": [],
   "source": [
    "img = tree_to_pillow(root_)\n",
    "img.show()  "
   ]
  },
  {
   "cell_type": "code",
   "execution_count": null,
   "metadata": {},
   "outputs": [],
   "source": [
    "dot_representation = tree_to_dot(root_)\n",
    "dot_representation.show()\n",
    "print(dot_representation) "
   ]
  },
  {
   "cell_type": "code",
   "execution_count": null,
   "metadata": {},
   "outputs": [],
   "source": [
    "plt.figure(figsize=(8, 8))\n",
    "plt.pie(df['Annotations'], labels=df['Diagnosis'], autopct='%1.1f%%', startangle=140, colors=sns.color_palette('Blues', len(df)))\n",
    "plt.title('Distribution of Top-Level Diagnoses')\n",
    "plt.show()"
   ]
  },
  {
   "cell_type": "code",
   "execution_count": null,
   "metadata": {},
   "outputs": [],
   "source": [
    "query = query_schema + \"\"\"\n",
    "select *\n",
    "from diagnosis\n",
    "\n",
    "\"\"\"\n",
    "\n",
    "df_addx = pd.read_sql_query(query, con)\n",
    "n_dx = df_addx['patientunitstayid'].nunique()\n",
    "print(\"There are {} icu patients in the diagnosis record.\".format(n_dx))"
   ]
  },
  {
   "cell_type": "code",
   "execution_count": null,
   "metadata": {},
   "outputs": [],
   "source": [
    "query = query_schema + \"\"\"\n",
    "\n",
    "with selected_patients as (\n",
    "SELECT DISTINCT patientunitstayid,gender,age,apacheadmissiondx,unitadmitsource,admissionweight,\tdischargeweight,unitdischargelocation,\tunitdischargestatus\n",
    "FROM patient\n",
    "WHERE unitadmitsource IN ('Emergency Department', 'Direct Admit') \n",
    ")\n",
    "select dx.diagnosisid\t, dx.activeupondischarge\t,dx.diagnosisstring, dx.diagnosispriority,sp.*\n",
    "from diagnosis dx\n",
    "join selected_patients sp\n",
    "  on dx.patientunitstayid = sp.patientunitstayid\n",
    " \"\"\"\n",
    "\n",
    "df_diagnosis_selected = pd.read_sql_query(query, con)\n",
    "df_diagnosis_selected.head()"
   ]
  },
  {
   "cell_type": "code",
   "execution_count": null,
   "metadata": {},
   "outputs": [],
   "source": [
    "# df_diagnosis_selected.to_csv('/Users/meisun/Documents/study/thesis/master project/data-preprocessing/selected_patients_diagnosis.csv')"
   ]
  },
  {
   "cell_type": "code",
   "execution_count": null,
   "metadata": {},
   "outputs": [],
   "source": [
    "n_diagnosis_selected= len(df_diagnosis_selected['diagnosisid'])\n",
    "print(\"There are {} selected patients in the diagnosis table with total {} records.\".format(df_diagnosis_selected['patientunitstayid'].nunique(),n_diagnosis_selected))"
   ]
  },
  {
   "cell_type": "code",
   "execution_count": null,
   "metadata": {},
   "outputs": [],
   "source": [
    "query = query_schema + \"\"\"\n",
    "select *\n",
    "from lab\n",
    "\"\"\"\n",
    "\n",
    "df_lab = pd.read_sql_query(query, con)\n",
    "n_lab = df_lab['patientunitstayid'].nunique()\n",
    "print(\"There are {} icu patients in the lab  record.\".format(n_lab))"
   ]
  },
  {
   "cell_type": "code",
   "execution_count": null,
   "metadata": {},
   "outputs": [],
   "source": [
    "query = query_schema + \"\"\"\n",
    "\n",
    "with selected_patients as (\n",
    "SELECT DISTINCT patientunitstayid,gender,age,apacheadmissiondx,unitadmitsource,admissionweight,\tdischargeweight,unitdischargelocation,\tunitdischargestatus\n",
    "FROM patient\n",
    "WHERE unitadmitsource IN ('Emergency Department', 'Direct Admit') \n",
    ")\n",
    "select l.labid, l.labtypeid\t,l.labname, l.labresult,l.labmeasurenamesystem, sp.*\n",
    "from lab l\n",
    "join selected_patients sp\n",
    "  on l.patientunitstayid = sp.patientunitstayid\n",
    " \"\"\"\n",
    "\n",
    "df_lab_selected = pd.read_sql_query(query, con)\n",
    "df_lab_selected.head()"
   ]
  },
  {
   "cell_type": "code",
   "execution_count": null,
   "metadata": {},
   "outputs": [],
   "source": [
    "# df_lab_selected.to_csv('/Users/meisun/Documents/study/thesis/master project/data-preprocessing/selected_patients_lab.csv')"
   ]
  },
  {
   "cell_type": "code",
   "execution_count": null,
   "metadata": {},
   "outputs": [],
   "source": [
    "n_lab_selected= len(df_lab_selected['labid'])\n",
    "print(\"There are {} selected patients in the lab table with total {} records.\".format(df_lab_selected['patientunitstayid'].nunique(),n_lab_selected))"
   ]
  },
  {
   "cell_type": "code",
   "execution_count": null,
   "metadata": {},
   "outputs": [],
   "source": [
    "query = query_schema + \"\"\"\n",
    "select *\n",
    "from medication\n",
    "\"\"\"\n",
    "\n",
    "df_med = pd.read_sql_query(query, con)\n",
    "n_med = df_lab['patientunitstayid'].nunique()\n",
    "print(\"There are {} icu patients in the medication record.\".format(n_med))"
   ]
  },
  {
   "cell_type": "code",
   "execution_count": null,
   "metadata": {},
   "outputs": [],
   "source": [
    "query = query_schema + \"\"\"\n",
    "\n",
    "with selected_patients as (\n",
    "SELECT DISTINCT patientunitstayid,gender,age,apacheadmissiondx,unitadmitsource,admissionweight,\tdischargeweight,unitdischargelocation,\tunitdischargestatus\n",
    "FROM patient\n",
    "WHERE unitadmitsource IN ('Emergency Department', 'Direct Admit') \n",
    ")\n",
    "select med.medicationid,med.drugname, med.dosage, med.frequency, med.prn, med.drugstopoffset,sp.*\n",
    "from medication med\n",
    "join selected_patients sp\n",
    "  on med.patientunitstayid = sp.patientunitstayid\n",
    " \"\"\"\n",
    "\n",
    "df_med_selected = pd.read_sql_query(query, con)\n",
    "df_med_selected.head()"
   ]
  },
  {
   "cell_type": "code",
   "execution_count": null,
   "metadata": {},
   "outputs": [],
   "source": [
    "# df_med_selected.to_csv('/Users/meisun/Documents/study/thesis/master project/data-preprocessing/selected_patients_med.csv')"
   ]
  },
  {
   "cell_type": "code",
   "execution_count": null,
   "metadata": {},
   "outputs": [],
   "source": [
    "n_med_selected= len(df_med_selected['medicationid'])\n",
    "print(\"There are {} selected patients in the medication table with total {} records.\".format(df_med_selected['patientunitstayid'].nunique(),n_med_selected))"
   ]
  },
  {
   "cell_type": "code",
   "execution_count": null,
   "metadata": {},
   "outputs": [],
   "source": [
    "query = query_schema + \"\"\"\n",
    "select *\n",
    "from nursecharting\n",
    "order by nursingchartoffset\n",
    "\"\"\"\n",
    "\n",
    "df_nursecharting = pd.read_sql_query(query, con)\n",
    "n_nursecharting = df_nursecharting['patientunitstayid'].nunique()\n",
    "print(\"There are {} icu patients in the nursecharting record.\".format(n_nursecharting))"
   ]
  },
  {
   "cell_type": "code",
   "execution_count": null,
   "metadata": {},
   "outputs": [],
   "source": [
    "query = query_schema + \"\"\"\n",
    "\n",
    "with selected_patients as (\n",
    "SELECT DISTINCT patientunitstayid,gender,age,apacheadmissiondx,unitadmitsource,admissionweight,\tdischargeweight,unitdischargelocation,\tunitdischargestatus\n",
    "FROM patient\n",
    "WHERE unitadmitsource IN ('Emergency Department', 'Direct Admit') \n",
    ")\n",
    "select nc.nursingchartid, nc.nursingchartcelltypecat, nc.nursingchartcelltypevallabel, nc.nursingchartcelltypevalname, nc.nursingchartvalue, sp.*\n",
    "from nursecharting nc\n",
    "join selected_patients sp\n",
    "  on nc.patientunitstayid = sp.patientunitstayid\n",
    " \"\"\"\n",
    "\n",
    "df_nchart_selected = pd.read_sql_query(query, con)\n",
    "df_nchart_selected.head()"
   ]
  },
  {
   "cell_type": "code",
   "execution_count": null,
   "metadata": {},
   "outputs": [],
   "source": [
    "query = query_schema + \"\"\"\n",
    "select *\n",
    "from pasthistory\n",
    "order by pasthistoryenteredoffset\n",
    "\"\"\"\n",
    "\n",
    "df_past = pd.read_sql_query(query, con)\n",
    "n_past = df_past['patientunitstayid'].nunique()\n",
    "print(\"There are {} icu patients in the pasthistary record.\".format(n_past))"
   ]
  },
  {
   "cell_type": "code",
   "execution_count": null,
   "metadata": {},
   "outputs": [],
   "source": [
    "query = query_schema + \"\"\"\n",
    "\n",
    "with selected_patients as (\n",
    "SELECT DISTINCT patientunitstayid,gender,age,apacheadmissiondx,unitadmitsource,admissionweight,\tdischargeweight,unitdischargelocation,\tunitdischargestatus\n",
    "FROM patient\n",
    "WHERE unitadmitsource IN ('Emergency Department', 'Direct Admit') \n",
    ")\n",
    "select ph.pasthistoryid, ph.pasthistorynotetype,ph.pasthistorypath,ph.pasthistoryvalue,\tph.pasthistoryvaluetext,sp.*\n",
    "from pasthistory ph\n",
    "join selected_patients sp\n",
    "  on ph.patientunitstayid = sp.patientunitstayid\n",
    " \"\"\"\n",
    "\n",
    "df_past_selected = pd.read_sql_query(query, con)\n",
    "df_past_selected.head()"
   ]
  },
  {
   "cell_type": "code",
   "execution_count": null,
   "metadata": {},
   "outputs": [],
   "source": [
    "# df_past_selected.to_csv('/Users/meisun/Documents/study/thesis/master project/data-preprocessing/selected_patients_pasthistory.csv')"
   ]
  },
  {
   "cell_type": "code",
   "execution_count": null,
   "metadata": {},
   "outputs": [],
   "source": [
    "n_past_selected= len(df_past_selected['pasthistoryid'])\n",
    "print(\"There are {} selected patients in the past history table with total {} records.\".format(df_past_selected['patientunitstayid'].nunique(),n_past_selected))"
   ]
  },
  {
   "cell_type": "code",
   "execution_count": null,
   "metadata": {},
   "outputs": [],
   "source": [
    "query = query_schema + \"\"\"\n",
    "select *\n",
    "from treatment\n",
    "order by treatmentoffset\t\n",
    "\"\"\"\n",
    "\n",
    "df_treatment = pd.read_sql_query(query, con)\n",
    "n_tr = df_treatment['patientunitstayid'].nunique()\n",
    "print(\"There are {} icu patients in the treatment record.\".format(n_tr))"
   ]
  },
  {
   "cell_type": "code",
   "execution_count": null,
   "metadata": {},
   "outputs": [],
   "source": [
    "query = query_schema + \"\"\"\n",
    "\n",
    "with selected_patients as (\n",
    "SELECT DISTINCT patientunitstayid,gender,age,apacheadmissiondx,unitadmitsource,admissionweight,\tdischargeweight,unitdischargelocation,\tunitdischargestatus\n",
    "FROM patient\n",
    "WHERE unitadmitsource IN ('Emergency Department', 'Direct Admit') \n",
    ")\n",
    "select tr.treatmentid, tr.treatmentstring,\ttr.activeupondischarge,sp.*\n",
    "from treatment tr\n",
    "join selected_patients sp\n",
    "  on tr.patientunitstayid = sp.patientunitstayid\n",
    " \"\"\"\n",
    "\n",
    "df_treatment_selected = pd.read_sql_query(query, con)\n",
    "df_treatment_selected.head()"
   ]
  },
  {
   "cell_type": "code",
   "execution_count": null,
   "metadata": {},
   "outputs": [],
   "source": [
    "# df_treatment_selected.to_csv('/Users/meisun/Documents/study/thesis/master project/data-preprocessing/selected_patients_treatment.csv')"
   ]
  },
  {
   "cell_type": "code",
   "execution_count": null,
   "metadata": {},
   "outputs": [],
   "source": [
    "n_treatment_selected= len(df_treatment_selected['treatmentid'])\n",
    "print(\"There are {} selected patients in the treatment table with total {} records.\".format(df_past_selected['patientunitstayid'].nunique(),n_treatment_selected))"
   ]
  },
  {
   "cell_type": "code",
   "execution_count": null,
   "metadata": {},
   "outputs": [],
   "source": [
    "query = query_schema + \"\"\"\n",
    "select *\n",
    "from vitalAperiodic\n",
    "order by observationoffset\n",
    "\"\"\"\n",
    "\n",
    "df_aperiodic = pd.read_sql_query(query, con)\n",
    "n_vap = df_treatment['patientunitstayid'].nunique()\n",
    "print(\"There are {} icu patients in the vitalAperiodic record.\".format(n_vap))"
   ]
  },
  {
   "cell_type": "code",
   "execution_count": null,
   "metadata": {},
   "outputs": [],
   "source": [
    "query = query_schema + \"\"\"\n",
    "\n",
    "with selected_patients as (\n",
    "SELECT DISTINCT patientunitstayid,gender,age,apacheadmissiondx,unitadmitsource,admissionweight,\tdischargeweight,unitdischargelocation,\tunitdischargestatus\n",
    "FROM patient\n",
    "WHERE unitadmitsource IN ('Emergency Department', 'Direct Admit') \n",
    ")\n",
    "select vap.vitalaperiodicid,vap.observationoffset,vap.noninvasivesystolic,\tvap.noninvasivediastolic,\tvap.noninvasivemean,\tvap.paop,\tvap.cardiacoutput,\tvap.cardiacinput,\tvap.svr,\tvap.svri,\tvap.pvr,\tvap.pvri,sp.*\n",
    "from vitalaperiodic vap\n",
    "join selected_patients sp\n",
    "  on vap.patientunitstayid = sp.patientunitstayid\n",
    " \"\"\"\n",
    "\n",
    "df_aperiodic_selected = pd.read_sql_query(query, con)\n",
    "df_aperiodic_selected.head()"
   ]
  },
  {
   "cell_type": "code",
   "execution_count": null,
   "metadata": {},
   "outputs": [],
   "source": [
    "# df_aperiodic_selected.to_csv('/Users/meisun/Documents/study/thesis/master project/data-preprocessing/selected_patients_aperiodic.csv')"
   ]
  },
  {
   "cell_type": "code",
   "execution_count": null,
   "metadata": {},
   "outputs": [],
   "source": [
    "n_aperiodic_selected= len(df_aperiodic_selected['vitalaperiodicid'])\n",
    "print(\"There are {} selected patients in the vital aoeriodic table with total {} records.\".format(df_past_selected['patientunitstayid'].nunique(),n_aperiodic_selected))"
   ]
  },
  {
   "cell_type": "code",
   "execution_count": null,
   "metadata": {},
   "outputs": [],
   "source": [
    "query = query_schema + \"\"\"\n",
    "select *\n",
    "from vitalperiodic\n",
    "order by observationoffset\n",
    "\"\"\"\n",
    "\n",
    "df_aperiodic = pd.read_sql_query(query, con)\n",
    "n_tr = df_treatment['patientunitstayid'].nunique()\n",
    "print(\"There are {} icu patients in the vital periodic record.\".format(n_tr))"
   ]
  }
 ],
 "metadata": {
  "language_info": {
   "name": "python"
  }
 },
 "nbformat": 4,
 "nbformat_minor": 2
}
